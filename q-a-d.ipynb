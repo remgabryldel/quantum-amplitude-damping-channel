{
 "cells": [
  {
   "cell_type": "markdown",
   "id": "19e85900",
   "metadata": {},
   "source": [
    "# Circuito convenzione classica"
   ]
  },
  {
   "cell_type": "markdown",
   "id": "5084fae5",
   "metadata": {},
   "source": [
    "## Fase 1: mappare il problema sul circuito e sugli operatori"
   ]
  },
  {
   "cell_type": "markdown",
   "id": "c027a3d7",
   "metadata": {},
   "source": [
    "### Definisco il canale Amplitude Damping"
   ]
  },
  {
   "cell_type": "code",
   "execution_count": null,
   "id": "e23d5abc",
   "metadata": {},
   "outputs": [
    {
     "data": {
      "text/latex": [
       "Matrice del circuito (parametro = $\\frac{\\pi}{3}$)"
      ],
      "text/plain": [
       "<IPython.core.display.Latex object>"
      ]
     },
     "metadata": {},
     "output_type": "display_data"
    },
    {
     "data": {
      "text/latex": [
       "$$\n",
       "\n",
       "\\begin{bmatrix}\n",
       "1 & 0 & 0 & 0  \\\\\n",
       " 0 & 0 & \\frac{1}{2} & \\frac{\\sqrt{3}}{2}  \\\\\n",
       " 0 & 0 & \\frac{\\sqrt{3}}{2} & - \\frac{1}{2}  \\\\\n",
       " 0 & 1 & 0 & 0  \\\\\n",
       " \\end{bmatrix}\n",
       "$$"
      ],
      "text/plain": [
       "<IPython.core.display.Latex object>"
      ]
     },
     "metadata": {},
     "output_type": "display_data"
    },
    {
     "data": {
      "image/png": "[encoded data removed]",
      "text/plain": [
       "<Figure size 287.294x200.667 with 1 Axes>"
      ]
     },
     "metadata": {},
     "output_type": "display_data"
    }
   ],
   "source": [
    "from qiskit import transpile ,QuantumCircuit\n",
    "from qiskit_aer import AerSimulator\n",
    "from qiskit.quantum_info import Operator, DensityMatrix, partial_trace\n",
    "from qiskit.visualization import plot_state_qsphere\n",
    "from qiskit.circuit import Parameter, ParameterVector\n",
    "import numpy as np, array\n",
    "from IPython.display import display, Latex\n",
    "\n",
    "def amplitude_damping_gate(noise_theta):\n",
    "    \"\"\"\n",
    "    Restituisce un gate personalizzato che rappresenta\n",
    "    l'implementazione unitaria del canale amplitude damping\n",
    "    su due qubit (sistema e ambiente).\n",
    "\n",
    "    Parametri:\n",
    "        noise_theta (float or Parameter): angolo per la rotazione Ry\n",
    "\n",
    "    Restituisce:\n",
    "        Gate: un gate personalizzato da applicare a 2 qubit\n",
    "    \"\"\"\n",
    "    theta = Parameter('θa')\n",
    "    if not(noise_theta is None):\n",
    "        theta = noise_theta\n",
    "        \n",
    "\n",
    "    # Crea un circuito con 2 qubit: qubit 0 = S_1, qubit 1 = E_1 (Ambiente)\n",
    "    qc = QuantumCircuit(2, name=\"Amplitude Damping Model\")\n",
    "    \n",
    "    # Applicazione delle porte\n",
    "    # Applica una porta controllata-RY(θ)\n",
    "    qc.cry(theta ,1 ,0 )     # controllo su qubit 0 (S1), target qubit 1 (E1) (secondo la convenzione classica, qiskit inverte i controlli e i target)\n",
    "    qc.cx(0, 1)              # CNOT: controllo E_1 (qubit 1), target S_1 (qubit 0)\n",
    "\n",
    "    # Converte in un Custom Gate\n",
    "    gate = qc.to_gate(label=\"AmpDamp\")\n",
    "    \n",
    "    return gate\n",
    "\n",
    "# circuito esempio con questo canale\n",
    "example = QuantumCircuit(2)\n",
    "\n",
    "# applico il gate che simula il canale amplitude damping\n",
    "example.append(amplitude_damping_gate(np.pi/3), [0 ,1])\n",
    "\n",
    "display(Latex(r\"Matrice del circuito (parametro = $\\frac{\\pi}{3}$)\"))\n",
    "\n",
    "# permette di trasformare il circuito nella sua rappresentazione di operatore\n",
    "display(Operator.from_circuit(example).draw(\"latex\")) \n",
    "\n",
    "# mostra il circuito decomposto\n",
    "display(example.decompose().draw(\"mpl\"))\n",
    "\n"
   ]
  },
  {
   "cell_type": "markdown",
   "id": "24067883",
   "metadata": {},
   "source": [
    "### Definisco lo stato iniziare del circuito nella forma di matrice densità parametrizzata"
   ]
  },
  {
   "cell_type": "code",
   "execution_count": 3,
   "id": "f6197622",
   "metadata": {},
   "outputs": [
    {
     "data": {
      "text/latex": [
       "$$\n",
       "\n",
       "\\begin{bmatrix}\n",
       "\\frac{7}{10} & 0 & 0 & 0  \\\\\n",
       " 0 & 0 & 0 & 0  \\\\\n",
       " 0 & 0 & \\frac{3}{10} & 0  \\\\\n",
       " 0 & 0 & 0 & 0  \\\\\n",
       " \\end{bmatrix}\n",
       "$$"
      ],
      "text/plain": [
       "<IPython.core.display.Latex object>"
      ]
     },
     "metadata": {},
     "output_type": "display_data"
    },
    {
     "data": {
      "text/latex": [
       "$$\n",
       "\n",
       "\\begin{bmatrix}\n",
       "\\frac{7}{10} & 0 & 0 & 0  \\\\\n",
       " 0 & \\frac{3}{40} & 0.1299038106 & 0  \\\\\n",
       " 0 & 0.1299038106 & \\frac{9}{40} & 0  \\\\\n",
       " 0 & 0 & 0 & 0  \\\\\n",
       " \\end{bmatrix}\n",
       "$$"
      ],
      "text/plain": [
       "<IPython.core.display.Latex object>"
      ]
     },
     "metadata": {},
     "output_type": "display_data"
    },
    {
     "data": {
      "text/latex": [
       "$$\n",
       "\n",
       "\\begin{bmatrix}\n",
       "\\frac{31}{40} & 0  \\\\\n",
       " 0 & \\frac{9}{40}  \\\\\n",
       " \\end{bmatrix}\n",
       "$$"
      ],
      "text/plain": [
       "<IPython.core.display.Latex object>"
      ]
     },
     "metadata": {},
     "output_type": "display_data"
    }
   ],
   "source": [
    "\n",
    "def initial_mixed_state_real_density_matrix(_alpha):\n",
    "    \"\"\"\n",
    "    Crea una matrice densità a 2 qubit come stato iniziale, in cui:\n",
    "    - Il qubit di sistema (qubit 0 S_1) è in uno stato misto reale parametrizzato da alpha:\n",
    "        ρ_sis = (1 - α)|0⟩⟨0| + α|1⟩⟨1|\n",
    "    - Il qubit di ambiente (qubit 1 E_1) è inizializzato nello stato puro |0⟩⟨0|\n",
    "    - L'output è il prodotto tensore ρ_sis ⊗ ρ_env, rappresentato come oggetto DensityMatrix\n",
    "\n",
    "    Parametri:\n",
    "        _alpha (float): parametro di mescolanza ∈ [0, 1]; \n",
    "\n",
    "    Restituisce:\n",
    "        DensityMatrix: stato iniziale a 2 qubit (sistema + ambiente)\n",
    "    \"\"\"\n",
    "    # Parametro di mescolanza\n",
    "    alpha = _alpha\n",
    "\n",
    "    #creo una matrice in forma array[array[,...],...]\n",
    "    rho_sis_matrix = [[1 - alpha, 0],\n",
    "                [0, alpha]]\n",
    "    \n",
    "    # Creo lo stato misto da rho_0_matrix per qubit 0\n",
    "    rho_sis = DensityMatrix(rho_sis_matrix)\n",
    "\n",
    "    # creo lo stao del qubit 1 (ambiente) in |0>\n",
    "    rho_env = DensityMatrix.from_label('0')\n",
    "\n",
    "    # Stato iniziale totale a 2 qubit\n",
    "    rho_in = rho_sis.tensor(rho_env)\n",
    "\n",
    "    return rho_in\n",
    "\n",
    "# eseguo uno stato misto di esempio sul circuito di esempio generato prima\n",
    "alpha = 0.3\n",
    "\n",
    "# genero lo stato iniziale con il parametro 0.3\n",
    "rho_in = initial_mixed_state_real_density_matrix(alpha)\n",
    "\n",
    "# mostro lo stato iniziare dell'intero sistema\n",
    "display(rho_in.draw(\"latex\"))\n",
    "\n",
    "# faccio evolvere il sistema secondo il canale amplitude damping (applicazione postulato 2)\n",
    "rho_final = rho_in.evolve(example)\n",
    "\n",
    "# mostro lo stato finale dell'intero sistema  \n",
    "display(partial_trace(rho_final,[]).draw(\"latex\"))\n",
    "# mostro lo stato finale del sottosistema S_1\n",
    "display(partial_trace(rho_final,[0]).draw(\"latex\"))\n",
    "\n"
   ]
  },
  {
   "cell_type": "markdown",
   "id": "4e6006ae",
   "metadata": {},
   "source": [
    "### Definisco il canale per calcolare l'error rate"
   ]
  },
  {
   "cell_type": "code",
   "execution_count": null,
   "id": "a9a75253",
   "metadata": {},
   "outputs": [
    {
     "ename": "AttributeError",
     "evalue": "'Instruction' object has no attribute 'draw'",
     "output_type": "error",
     "traceback": [
      "\u001b[31m---------------------------------------------------------------------------\u001b[39m",
      "\u001b[31mAttributeError\u001b[39m                            Traceback (most recent call last)",
      "\u001b[36mCell\u001b[39m\u001b[36m \u001b[39m\u001b[32mIn[46]\u001b[39m\u001b[32m, line 33\u001b[39m\n\u001b[32m     30\u001b[39m ERADC = build_parametrized_eradc(thetas,noise)\n\u001b[32m     31\u001b[39m \u001b[38;5;66;03m#bound_ERADC = ERADC.assign_parameters({thetas[i]: np.pi/4 for i in range(5)})\u001b[39;00m\n\u001b[32m     32\u001b[39m \u001b[38;5;66;03m# Visualizza il circuito\u001b[39;00m\n\u001b[32m---> \u001b[39m\u001b[32m33\u001b[39m \u001b[43mERADC\u001b[49m\u001b[43m.\u001b[49m\u001b[43mdraw\u001b[49m(\u001b[33m'\u001b[39m\u001b[33mmpl\u001b[39m\u001b[33m'\u001b[39m)\n\u001b[32m     35\u001b[39m \u001b[38;5;66;03m#ERADC.decompose(\"AmpDamp\").draw(\"mpl\") mostra il circuito decomposto\u001b[39;00m\n\u001b[32m     36\u001b[39m \u001b[38;5;66;03m#print(ERADC.parameters) #permette di mostrare tutti i parametri non definiti\u001b[39;00m\n",
      "\u001b[31mAttributeError\u001b[39m: 'Instruction' object has no attribute 'draw'"
     ]
    }
   ],
   "source": [
    "\n",
    "def build_parametrized_eradc(thetas,noise):\n",
    "    \"\"\"\n",
    "    Costruisce un circuito quantistico a 2 qubit con porte parametrizzate.\n",
    "\n",
    "    Parametri:\n",
    "        thetas (ParameterVector): vettore di 4 parametri [θ₀, θ₁, θ₂, θ₃], noise parametrico η\n",
    "\n",
    "\n",
    "    Restituisce:\n",
    "        QuantumCircuit: circuito inizializzato con le porte e parametri\n",
    "    \"\"\"\n",
    "    if len(thetas) != 4:\n",
    "        raise ValueError(\"Il ParameterVector deve contenere esattamente 4 parametri.\")\n",
    "     \n",
    "    qc = QuantumCircuit(2, 1,name=\"Error-Rate ADC Model\")\n",
    "\n",
    "    qc.ry(thetas[0], 0)                      # RY su qubit 0\n",
    "    qc.rz(thetas[1], 0)                      # RZ su qubit 0\n",
    "\n",
    "    damp_gate = amplitude_damping_gate(noise)  # Amplitude damping su [0,1]\n",
    "    qc.append(damp_gate, [0, 1])\n",
    "\n",
    "    qc.rz(thetas[2], 0)                      # RZ su qubit 0\n",
    "    qc.ry(thetas[3], 0)                      # RY su qubit 0\n",
    "    \n",
    "    # Converte in un Custom Gate\n",
    "    gate = qc.to_gate(label=\"AmpDamp\")\n",
    "    \n",
    "    return gate\n",
    "\n",
    "thetas = ParameterVector('θ', 4)\n",
    "noise = Parameter('η')\n",
    "ERADC = build_parametrized_eradc(thetas,noise)\n",
    "#bound_ERADC = ERADC.assign_parameters({thetas[i]: np.pi/4 for i in range(5)})\n",
    "# Visualizza il circuito\n",
    "ERADC.draw('mpl')\n",
    "\n",
    "#ERADC.decompose(\"AmpDamp\").draw(\"mpl\") mostra il circuito decomposto\n",
    "#print(ERADC.parameters) #permette di mostrare tutti i parametri non definiti\n"
   ]
  },
  {
   "cell_type": "markdown",
   "id": "7c5b783c",
   "metadata": {},
   "source": [
    "# Convenzione Qiskit"
   ]
  },
  {
   "cell_type": "markdown",
   "id": "57ae58cf",
   "metadata": {},
   "source": [
    "# Fase 2 evoluzione del circuito e misura con lo stato iniziale misto definito"
   ]
  },
  {
   "cell_type": "markdown",
   "id": "6f5e4dfb",
   "metadata": {},
   "source": [
    "## evoluzione del sistema"
   ]
  },
  {
   "cell_type": "markdown",
   "id": "4a67d4e0",
   "metadata": {},
   "source": [
    "## Misura Proiettiva"
   ]
  },
  {
   "cell_type": "markdown",
   "id": "ad21d0ca",
   "metadata": {},
   "source": [
    "## Simulazioni"
   ]
  }
 ],
 "metadata": {
  "kernelspec": {
   "display_name": "cwq",
   "language": "python",
   "name": "python3"
  },
  "language_info": {
   "codemirror_mode": {
    "name": "ipython",
    "version": 3
   },
   "file_extension": ".py",
   "mimetype": "text/x-python",
   "name": "python",
   "nbconvert_exporter": "python",
   "pygments_lexer": "ipython3",
   "version": "3.13.5"
  }
 },
 "nbformat": 4,
 "nbformat_minor": 5
}
