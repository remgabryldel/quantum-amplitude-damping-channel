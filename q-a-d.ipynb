{
 "cells": [
  {
   "cell_type": "markdown",
   "id": "19e85900",
   "metadata": {},
   "source": [
    "# Circuito convenzione classica"
   ]
  },
  {
   "cell_type": "markdown",
   "id": "5084fae5",
   "metadata": {},
   "source": [
    "## Fase 1: mappare il problema sul circuito e sugli operatori"
   ]
  },
  {
   "cell_type": "markdown",
   "id": "c027a3d7",
   "metadata": {},
   "source": [
    "### Definisco il canale Amplitude Damping"
   ]
  },
  {
   "cell_type": "code",
   "execution_count": null,
   "id": "e23d5abc",
   "metadata": {},
   "outputs": [
    {
     "data": {
      "text/latex": [
       "Matrice del circuito (parametro = $\\frac{\\pi}{3}$)"
      ],
      "text/plain": [
       "<IPython.core.display.Latex object>"
      ]
     },
     "metadata": {},
     "output_type": "display_data"
    },
    {
     "data": {
      "text/latex": [
       "$$\n",
       "\n",
       "\\begin{bmatrix}\n",
       "1 & 0 & 0 & 0  \\\\\n",
       " 0 & 0 & \\frac{1}{2} & \\frac{\\sqrt{3}}{2}  \\\\\n",
       " 0 & 0 & \\frac{\\sqrt{3}}{2} & - \\frac{1}{2}  \\\\\n",
       " 0 & 1 & 0 & 0  \\\\\n",
       " \\end{bmatrix}\n",
       "$$"
      ],
      "text/plain": [
       "<IPython.core.display.Latex object>"
      ]
     },
     "metadata": {},
     "output_type": "display_data"
    },
    {
     "data": {
      "image/png": "[encoded data removed]",
      "text/plain": [
       "<Figure size 287.294x200.667 with 1 Axes>"
      ]
     },
     "metadata": {},
     "output_type": "display_data"
    }
   ],
   "source": [
    "from qiskit import transpile ,QuantumCircuit\n",
    "from qiskit_aer import AerSimulator\n",
    "from qiskit.quantum_info import Operator, DensityMatrix, partial_trace\n",
    "from qiskit.visualization import plot_state_qsphere\n",
    "from qiskit.circuit import Parameter, ParameterVector\n",
    "import numpy as np, array\n",
    "from IPython.display import display, Latex\n",
    "\n",
    "def amplitude_damping_gate(noise_theta):\n",
    "    \"\"\"\n",
    "    Restituisce un gate personalizzato che rappresenta\n",
    "    l'implementazione unitaria del canale amplitude damping\n",
    "    su due qubit (sistema e ambiente).\n",
    "\n",
    "    Parametri:\n",
    "        noise_theta (float or Parameter): angolo per la rotazione Ry\n",
    "\n",
    "    Restituisce:\n",
    "        Gate: un gate personalizzato da applicare a 2 qubit\n",
    "    \"\"\"\n",
    "    theta = Parameter('θa')\n",
    "    if not(noise_theta is None):\n",
    "        theta = noise_theta\n",
    "        \n",
    "\n",
    "    # Crea un circuito con 2 qubit: qubit 0 = S_1, qubit 1 = E_1 (Ambiente)\n",
    "    qc = QuantumCircuit(2, name=\"Amplitude Damping Model\")\n",
    "    \n",
    "    # Applicazione delle porte\n",
    "    # Applica una porta controllata-RY(θ)\n",
    "    qc.cry(theta ,1 ,0 )     # controllo su qubit 0 (S1), target qubit 1 (E1) (secondo la convenzione classica, qiskit inverte i controlli e i target)\n",
    "    qc.cx(0, 1)              # CNOT: controllo E_1 (qubit 1), target S_1 (qubit 0)\n",
    "\n",
    "    # Converte in un Custom Gate\n",
    "    gate = qc.to_gate(label=\"AmpDamp\")\n",
    "    \n",
    "    return gate\n",
    "\n",
    "# circuito esempio con questo canale\n",
    "example = QuantumCircuit(2)\n",
    "\n",
    "# applico il gate che simula il canale amplitude damping\n",
    "example.append(amplitude_damping_gate(np.pi/3), [0 ,1])\n",
    "\n",
    "display(Latex(r\"Matrice del circuito (parametro = $\\frac{\\pi}{3}$)\"))\n",
    "\n",
    "# permette di trasformare il circuito nella sua rappresentazione di operatore\n",
    "display(Operator.from_circuit(example).draw(\"latex\")) \n",
    "\n",
    "# mostra il circuito decomposto\n",
    "display(example.decompose().draw(\"mpl\"))\n",
    "\n"
   ]
  },
  {
   "cell_type": "markdown",
   "id": "24067883",
   "metadata": {},
   "source": [
    "### Definisco lo stato iniziare del circuito nella forma di matrice densità parametrizzata"
   ]
  },
  {
   "cell_type": "code",
   "execution_count": 3,
   "id": "f6197622",
   "metadata": {},
   "outputs": [
    {
     "data": {
      "text/latex": [
       "$$\n",
       "\n",
       "\\begin{bmatrix}\n",
       "\\frac{7}{10} & 0 & 0 & 0  \\\\\n",
       " 0 & 0 & 0 & 0  \\\\\n",
       " 0 & 0 & \\frac{3}{10} & 0  \\\\\n",
       " 0 & 0 & 0 & 0  \\\\\n",
       " \\end{bmatrix}\n",
       "$$"
      ],
      "text/plain": [
       "<IPython.core.display.Latex object>"
      ]
     },
     "metadata": {},
     "output_type": "display_data"
    },
    {
     "data": {
      "text/latex": [
       "$$\n",
       "\n",
       "\\begin{bmatrix}\n",
       "\\frac{7}{10} & 0 & 0 & 0  \\\\\n",
       " 0 & \\frac{3}{40} & 0.1299038106 & 0  \\\\\n",
       " 0 & 0.1299038106 & \\frac{9}{40} & 0  \\\\\n",
       " 0 & 0 & 0 & 0  \\\\\n",
       " \\end{bmatrix}\n",
       "$$"
      ],
      "text/plain": [
       "<IPython.core.display.Latex object>"
      ]
     },
     "metadata": {},
     "output_type": "display_data"
    },
    {
     "data": {
      "text/latex": [
       "$$\n",
       "\n",
       "\\begin{bmatrix}\n",
       "\\frac{31}{40} & 0  \\\\\n",
       " 0 & \\frac{9}{40}  \\\\\n",
       " \\end{bmatrix}\n",
       "$$"
      ],
      "text/plain": [
       "<IPython.core.display.Latex object>"
      ]
     },
     "metadata": {},
     "output_type": "display_data"
    }
   ],
   "source": [
    "\n",
    "def initial_mixed_state_real_density_matrix(_alpha):\n",
    "    \"\"\"\n",
    "    Crea una matrice densità a 2 qubit come stato iniziale, in cui:\n",
    "    - Il qubit di sistema (qubit 0 S_1) è in uno stato misto reale parametrizzato da alpha:\n",
    "        ρ_sis = (1 - α)|0⟩⟨0| + α|1⟩⟨1|\n",
    "    - Il qubit di ambiente (qubit 1 E_1) è inizializzato nello stato puro |0⟩⟨0|\n",
    "    - L'output è il prodotto tensore ρ_sis ⊗ ρ_env, rappresentato come oggetto DensityMatrix\n",
    "\n",
    "    Parametri:\n",
    "        _alpha (float): parametro di mescolanza ∈ [0, 1]; \n",
    "\n",
    "    Restituisce:\n",
    "        DensityMatrix: stato iniziale a 2 qubit (sistema + ambiente)\n",
    "    \"\"\"\n",
    "    # Parametro di mescolanza\n",
    "    alpha = _alpha\n",
    "\n",
    "    #creo una matrice in forma array[array[,...],...]\n",
    "    rho_sis_matrix = [[1 - alpha, 0],\n",
    "                [0, alpha]]\n",
    "    \n",
    "    # Creo lo stato misto da rho_0_matrix per qubit 0\n",
    "    rho_sis = DensityMatrix(rho_sis_matrix)\n",
    "\n",
    "    # creo lo stao del qubit 1 (ambiente) in |0>\n",
    "    rho_env = DensityMatrix.from_label('0')\n",
    "\n",
    "    # Stato iniziale totale a 2 qubit\n",
    "    rho_in = rho_sis.tensor(rho_env)\n",
    "\n",
    "    return rho_in\n",
    "\n",
    "# eseguo uno stato misto di esempio sul circuito di esempio generato prima\n",
    "alpha = 0.3\n",
    "\n",
    "# genero lo stato iniziale con il parametro 0.3\n",
    "rho_in = initial_mixed_state_real_density_matrix(alpha)\n",
    "\n",
    "# mostro lo stato iniziare dell'intero sistema\n",
    "display(rho_in.draw(\"latex\"))\n",
    "\n",
    "# faccio evolvere il sistema secondo il canale amplitude damping (applicazione postulato 2)\n",
    "rho_final = rho_in.evolve(example)\n",
    "\n",
    "# mostro lo stato finale dell'intero sistema  \n",
    "display(partial_trace(rho_final,[]).draw(\"latex\"))\n",
    "# mostro lo stato finale del sottosistema S_1\n",
    "display(partial_trace(rho_final,[0]).draw(\"latex\"))\n",
    "\n"
   ]
  },
  {
   "cell_type": "markdown",
   "id": "4e6006ae",
   "metadata": {},
   "source": [
    "### Definisco il canale per calcolare l'error rate"
   ]
  },
  {
   "cell_type": "code",
   "execution_count": 7,
   "id": "a9a75253",
   "metadata": {},
   "outputs": [
    {
     "name": "stdout",
     "output_type": "stream",
     "text": [
      " forma matriciale dell'operatore dell'intero circuito\n"
     ]
    },
    {
     "data": {
      "text/latex": [
       "$$\n",
       "\n",
       "\\begin{bmatrix}\n",
       "0.3193069681 - 0.6676118744 i & 0.055705537 + 0.0725968692 i & -0.4714973254 - 0.324079801 i & 0.2078958942 + 0.2709352043 i  \\\\\n",
       " 0.0907235014 - 0.0119439756 i & -0.5200317196 - 0.1098386197 i & 0.3385847168 - 0.0445755236 i & 0.767892935 - 0.0533191206 i  \\\\\n",
       " 0.5122766087 - 0.4161289426 i & -0.055705537 - 0.0725968692 i & 0.2486751775 + 0.6144672777 i & -0.2078958942 - 0.2709352043 i  \\\\\n",
       " 0.0907235014 - 0.0119439756 i & 0.8343071475 + 0.0684634747 i & 0.3385847168 - 0.0445755236 i & 0.4049989293 - 0.1010950228 i  \\\\\n",
       " \\end{bmatrix}\n",
       "$$"
      ],
      "text/plain": [
       "<IPython.core.display.Latex object>"
      ]
     },
     "metadata": {},
     "output_type": "display_data"
    },
    {
     "data": {
      "image/png": "[encoded data removed]",
      "text/plain": [
       "<Figure size 454.517x200.667 with 1 Axes>"
      ]
     },
     "metadata": {},
     "output_type": "display_data"
    },
    {
     "data": {
      "image/png": "[encoded data removed]",
      "text/plain": [
       "<Figure size 621.739x200.667 with 1 Axes>"
      ]
     },
     "metadata": {},
     "output_type": "display_data"
    }
   ],
   "source": [
    "\n",
    "def build_parametrized_eradc(thetas,noise):\n",
    "    \"\"\"\n",
    "    Costruisce un circuito quantistico a 2 qubit con porte parametrizzate.\n",
    "\n",
    "    Parametri:\n",
    "        thetas (ParameterVector): vettore di 4 parametri [θ₀, θ₁, θ₂, θ₃], noise parametrico η\n",
    "\n",
    "\n",
    "    Restituisce:\n",
    "        QuantumCircuit: circuito inizializzato con le porte e parametri\n",
    "    \"\"\"\n",
    "\n",
    "    # Se i parametri non sono forniti, crea valori simbolici di default\n",
    "    if thetas is None:\n",
    "        thetas = ParameterVector(\"θ\", 4)\n",
    "    if noise is None:\n",
    "        noise = Parameter('θa')\n",
    "\n",
    "    # verifico che il vettore di parametri thetas coincide con quelli del circuito altrimenti solleva un eccezione\n",
    "    if len(thetas) != 4:\n",
    "        raise ValueError(\"Il ParameterVector deve contenere esattamente 4 parametri.\")\n",
    "     \n",
    "    qc = QuantumCircuit(2)\n",
    "\n",
    "    qc.ry(thetas[0], 1)                      # RY su qubit sis\n",
    "    qc.rz(thetas[1], 1)                      # RZ su qubit sis\n",
    "\n",
    "    qc.append(amplitude_damping_gate(noise), [0, 1]) # Amplitude damping su [0,1]\n",
    "\n",
    "    qc.rz(thetas[2], 1)                      # RZ su qubit sis\n",
    "    qc.ry(thetas[3], 1)                      # RY su qubit sis\n",
    "    \n",
    "    # Converte in un Custom Gate\n",
    "    gate = qc.to_gate(label=\"Error-Rate ADC Model\")\n",
    "    \n",
    "    # Ritorna il gate\n",
    "    return gate\n",
    "\n",
    "# vettore di parametri theta per ogni matrice rotazione\n",
    "thetas = ParameterVector(\"θ\", 4)\n",
    "\n",
    "# parametro per amplitude damping\n",
    "noise = Parameter('θa')\n",
    "\n",
    "# creo il circuito\n",
    "ERADC = QuantumCircuit(2)\n",
    "\n",
    "# aggiungo il gate che simula il canale amplitude damping\n",
    "ERADC.append(build_parametrized_eradc(thetas,noise), [0,1])\n",
    "\n",
    "# creo un dizionario dove per ogni parametro \"nome_param\": assegna_value\n",
    "param_values = {\n",
    "    \"θ[0]\": np.pi/6,\n",
    "    \"θ[1]\": np.pi/4,\n",
    "    \"θ[2]\": np.pi/3,\n",
    "    \"θ[3]\": np.pi/2,\n",
    "    \"θa\"  : np.pi/3\n",
    "}\n",
    "# print(ERADC.parameters)\n",
    "\n",
    "# assegna al circuito tutti i parametri definiti nel dizionario\n",
    "bound_ERADC = ERADC.assign_parameters(param_values)\n",
    "\n",
    "print(\" forma matriciale dell'operatore dell'intero circuito\")\n",
    "\n",
    "# mostra l'operatore in forma matriciale che agisce sul canale\n",
    "display(Operator.from_circuit(bound_ERADC).draw(\"latex\"))\n",
    "\n",
    "#mostra il circuito\n",
    "display(ERADC.draw(\"mpl\"))\n",
    "\n",
    "# mostra il circuito decomposto\n",
    "display(ERADC.decompose().draw(\"mpl\")) \n",
    "\n",
    "# print(ERADC.parameters) #permette di mostrare tutti i parametri non definiti\n"
   ]
  },
  {
   "cell_type": "markdown",
   "id": "7c5b783c",
   "metadata": {},
   "source": [
    "# Convenzione Qiskit"
   ]
  },
  {
   "cell_type": "markdown",
   "id": "57ae58cf",
   "metadata": {},
   "source": [
    "# Fase 2 evoluzione del circuito e misura con lo stato iniziale misto definito"
   ]
  },
  {
   "cell_type": "markdown",
   "id": "6f5e4dfb",
   "metadata": {},
   "source": [
    "## evoluzione del sistema"
   ]
  },
  {
   "cell_type": "markdown",
   "id": "4a67d4e0",
   "metadata": {},
   "source": [
    "## Misura Proiettiva"
   ]
  },
  {
   "cell_type": "markdown",
   "id": "ad21d0ca",
   "metadata": {},
   "source": [
    "## Simulazioni"
   ]
  }
 ],
 "metadata": {
  "kernelspec": {
   "display_name": "cwq",
   "language": "python",
   "name": "python3"
  },
  "language_info": {
   "codemirror_mode": {
    "name": "ipython",
    "version": 3
   },
   "file_extension": ".py",
   "mimetype": "text/x-python",
   "name": "python",
   "nbconvert_exporter": "python",
   "pygments_lexer": "ipython3",
   "version": "3.13.5"
  }
 },
 "nbformat": 4,
 "nbformat_minor": 5
}
