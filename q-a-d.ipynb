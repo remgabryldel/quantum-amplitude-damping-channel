{
 "cells": [
  {
   "cell_type": "markdown",
   "id": "19e85900",
   "metadata": {},
   "source": [
    "# commentare il programma"
   ]
  },
  {
   "cell_type": "markdown",
   "id": "5084fae5",
   "metadata": {},
   "source": [
    "# Fase 1: mappare il problema sul circuito e sugli operatori"
   ]
  },
  {
   "cell_type": "markdown",
   "id": "c027a3d7",
   "metadata": {},
   "source": [
    "## Definisco il canale Amplitude Damping"
   ]
  },
  {
   "cell_type": "code",
   "execution_count": 57,
   "id": "e23d5abc",
   "metadata": {},
   "outputs": [
    {
     "data": {
      "text/plain": [
       "<qiskit.circuit.instructionset.InstructionSet at 0x22c9f19ffd0>"
      ]
     },
     "execution_count": 57,
     "metadata": {},
     "output_type": "execute_result"
    }
   ],
   "source": [
    "from qiskit import QuantumCircuit\n",
    "from qiskit.quantum_info import Operator, DensityMatrix, partial_trace\n",
    "#from qiskit.circuit.library import CRYGate\n",
    "from qiskit.visualization import plot_state_qsphere\n",
    "from qiskit.circuit import Parameter, ParameterVector\n",
    "import numpy as np, array\n",
    "\n",
    "\n",
    "\n",
    "def amplitude_damping_gate(theta_val):\n",
    "    \"\"\"\n",
    "    Restituisce un gate personalizzato che rappresenta\n",
    "    l'implementazione unitaria del canale amplitude damping\n",
    "    su due qubit (sistema e ambiente).\n",
    "\n",
    "    Parametri:\n",
    "        theta_val (float or Parameter): angolo per la rotazione Ry\n",
    "\n",
    "    Restituisce:\n",
    "        Gate: un gate personalizzato da applicare a 2 qubit\n",
    "    \"\"\"\n",
    "    # Crea un circuito con 2 qubit: qubit 0 = S_1, qubit 1 = E_1 (Ambiente)\n",
    "    qc = QuantumCircuit(2, name=\"Amplitude Damping Model\")\n",
    "\n",
    "    # Applicazione delle porte\n",
    "    # Applica una porta controllata-RY(θ)\n",
    "    qc.cry(theta_val ,0 ,1 )# controllo su qubit 0 (S1), target qubit 1 (E1)\n",
    "    qc.cx(1, 0)              # CNOT: controllo E_1 (qubit 1), target S_1 (qubit 0)\n",
    "\n",
    "    # Converte in un Custom Gate\n",
    "    gate = qc.to_gate(label=\"AmpDamp\")\n",
    "    \n",
    "    return gate\n",
    "\n",
    "theta = Parameter('θa')\n",
    "example = QuantumCircuit(2)\n",
    "damp_gate = amplitude_damping_gate(np.pi)\n",
    "example.append(damp_gate, [0 ,1])\n",
    "#example.decompose().draw(\"mpl\")\n"
   ]
  },
  {
   "cell_type": "markdown",
   "id": "4e6006ae",
   "metadata": {},
   "source": [
    "## Definisco il canale per calcolare l'error rate"
   ]
  },
  {
   "cell_type": "code",
   "execution_count": null,
   "id": "a9a75253",
   "metadata": {},
   "outputs": [
    {
     "data": {
      "image/png": "[encoded data removed]",
      "text/plain": [
       "<Figure size 621.739x200.667 with 1 Axes>"
      ]
     },
     "execution_count": 59,
     "metadata": {},
     "output_type": "execute_result"
    }
   ],
   "source": [
    "\n",
    "def build_parametrized_eradc(thetas):\n",
    "    \"\"\"\n",
    "    Costruisce un circuito quantistico a 2 qubit con porte parametrizzate.\n",
    "\n",
    "    Parametri:\n",
    "        thetas (ParameterVector): vettore di 5 parametri [θ₀, θ₁, θa, θ₃, θ₄]\n",
    "\n",
    "    Restituisce:\n",
    "        QuantumCircuit: circuito inizializzato con le porte e parametri\n",
    "    \"\"\"\n",
    "    if len(thetas) != 5:\n",
    "        raise ValueError(\"Il ParameterVector deve contenere esattamente 5 parametri.\")\n",
    "\n",
    "    qc = QuantumCircuit(2, name=\"Error-Rate ADC Model\")\n",
    "\n",
    "    qc.ry(thetas[0], 0)                      # RY su qubit 0\n",
    "    qc.rz(thetas[1], 0)                      # RZ su qubit 0\n",
    "\n",
    "    damp_gate = amplitude_damping_gate(thetas[2])  # Amplitude damping su [0,1]\n",
    "    qc.append(damp_gate, [0, 1])\n",
    "\n",
    "    qc.rz(thetas[3], 0)                      # RZ su qubit 0\n",
    "    qc.ry(thetas[4], 0)                      # RY su qubit 0\n",
    "\n",
    "    return qc\n",
    "\n",
    "thetas = ParameterVector('θ', 5)\n",
    "ERADC = build_parametrized_eradc(thetas)\n",
    "bound_ERADC = ERADC.assign_parameters({thetas[i]: np.pi/4 for i in range(5)})\n",
    "bound_ERADC.draw('mpl')\n",
    "# Visualizza il circuito\n",
    "#ERADC.draw('mpl')\n",
    "\n",
    "#ERADC.decompose(\"AmpDamp\").draw(\"mpl\") mostra il circuito decomposto\n",
    "#print(ERADC.parameters) #permette di mostrare tutti i parametri non definiti\n"
   ]
  },
  {
   "cell_type": "markdown",
   "id": "24067883",
   "metadata": {},
   "source": [
    "## Definisco lo stato iniziare del circuito nella forma di matrice densità parametrizzata"
   ]
  },
  {
   "cell_type": "code",
   "execution_count": null,
   "id": "f6197622",
   "metadata": {},
   "outputs": [],
   "source": [
    "\n",
    "def initial_mixed_state_real_density_matrix(_alpha):\n",
    "    # Parametro di mescolanza\n",
    "    alpha = _alpha\n",
    "\n",
    "    #creo una matrice in forma array[array[,...],...]\n",
    "    rho_0_matrix = array([[1 - alpha, 0],\n",
    "                [0, alpha]])\n",
    "    \n",
    "    # Creo lo stato misto da rho_0_matrix per qubit 0\n",
    "    rho_0 = DensityMatrix(rho_0_matrix)\n",
    "\n",
    "    # creo lo stao del qubit 1 (ambiente) in |0>\n",
    "    rho_1 = DensityMatrix.from_label('0')\n",
    "\n",
    "    # Stato iniziale totale a 2 qubit\n",
    "    rho_init = rho_0.tensor(rho_1)\n",
    "\n",
    "    return rho_init\n"
   ]
  }
 ],
 "metadata": {
  "kernelspec": {
   "display_name": "cwq",
   "language": "python",
   "name": "python3"
  },
  "language_info": {
   "codemirror_mode": {
    "name": "ipython",
    "version": 3
   },
   "file_extension": ".py",
   "mimetype": "text/x-python",
   "name": "python",
   "nbconvert_exporter": "python",
   "pygments_lexer": "ipython3",
   "version": "3.13.5"
  }
 },
 "nbformat": 4,
 "nbformat_minor": 5
}
