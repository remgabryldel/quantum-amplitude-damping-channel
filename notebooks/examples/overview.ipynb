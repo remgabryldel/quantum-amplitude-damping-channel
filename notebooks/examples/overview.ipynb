{
 "cells": [
  {
   "cell_type": "code",
   "execution_count": 32,
   "id": "01c1dca7",
   "metadata": {},
   "outputs": [],
   "source": [
    "from qiskit import transpile ,QuantumCircuit\n",
    "from qiskit_aer import AerSimulator\n",
    "from qiskit.quantum_info import Operator, DensityMatrix, partial_trace, Pauli\n",
    "from qiskit.circuit import Parameter, ParameterVector\n",
    "from qiskit.circuit.library import RYGate, RZGate, CXGate, CRYGate\n",
    "import numpy as np, array\n",
    "from IPython.display import display, Latex\n",
    "# SciPy minimizer routine\n",
    "from scipy.optimize import minimize\n",
    "import time\n",
    "from pathlib import Path\n",
    "from qadc.utils import *\n",
    "from qadc.circuits import *\n",
    "from qadc.circuits import BaseAmplitudeDampingCircuit as BADC\n",
    "from qadc.circuits import AncillaInitializationCircuit as AIC\n",
    "from qadc.simulators import *"
   ]
  },
  {
   "cell_type": "markdown",
   "id": "5084fae5",
   "metadata": {},
   "source": [
    "# Fase 1: mappare il problema sul circuito e sugli operatori"
   ]
  },
  {
   "cell_type": "markdown",
   "id": "f73e3546",
   "metadata": {},
   "source": [
    "#### funzioni ausiliare che fanno wrapping a quelle offerte dalle classi implementate"
   ]
  },
  {
   "cell_type": "code",
   "execution_count": 33,
   "id": "a6e5afe4",
   "metadata": {},
   "outputs": [],
   "source": [
    "def noise_to_theta(noise):\n",
    "    return BADC.noise_to_theta(noise)\n",
    "\n",
    "def theta_to_noise(theta):\n",
    "    return BADC.theta_to_noise(theta)\n",
    "\n",
    "def reverse_qargs_density_matrix(rho):\n",
    "    return Utils.reverse_qargs_density_matrix(rho)\n",
    "\n",
    "def initial_mixed_state_real_density_matrix(alpha):\n",
    "    return Utils.initial_mixed_state_real_density_matrix(alpha)"
   ]
  },
  {
   "cell_type": "markdown",
   "id": "19e85900",
   "metadata": {},
   "source": [
    "## Circuito convenzione classica"
   ]
  },
  {
   "cell_type": "markdown",
   "id": "c027a3d7",
   "metadata": {},
   "source": [
    "### Definisco il canale Amplitude Damping"
   ]
  },
  {
   "cell_type": "code",
   "execution_count": 34,
   "id": "e23d5abc",
   "metadata": {},
   "outputs": [
    {
     "data": {
      "text/latex": [
       "Matrice del circuito (parametro = $\\frac{\\pi}{3}$)"
      ],
      "text/plain": [
       "<IPython.core.display.Latex object>"
      ]
     },
     "metadata": {},
     "output_type": "display_data"
    },
    {
     "data": {
      "text/latex": [
       "$$\n",
       "\n",
       "\\begin{bmatrix}\n",
       "1 & 0 & 0 & 0  \\\\\n",
       " 0 & 0 & \\frac{1}{2} & \\frac{\\sqrt{3}}{2}  \\\\\n",
       " 0 & 0 & \\frac{\\sqrt{3}}{2} & - \\frac{1}{2}  \\\\\n",
       " 0 & 1 & 0 & 0  \\\\\n",
       " \\end{bmatrix}\n",
       "$$"
      ],
      "text/plain": [
       "<IPython.core.display.Latex object>"
      ]
     },
     "metadata": {},
     "output_type": "display_data"
    },
    {
     "data": {
      "image/png": "[encoded data removed]",
      "text/plain": [
       "<Figure size 287.294x200.667 with 1 Axes>"
      ]
     },
     "metadata": {},
     "output_type": "display_data"
    }
   ],
   "source": [
    "def amplitude_damping_gate(_noise=None):\n",
    "    \"\"\"\n",
    "    Restituisce un gate personalizzato che rappresenta\n",
    "    l'implementazione unitaria del canale amplitude damping.\n",
    "    \n",
    "    Restituisce:\n",
    "        Gate: un gate \"AmpDamp\" personalizzato da applicare a 2 qubit\n",
    "    \"\"\"\n",
    "    qc = AmplitudeDampingConvenzioneClassica(noise_to_theta(_noise))\n",
    "    gate = qc.to_gate(label=\"AmpDamp\")\n",
    "    \n",
    "    return gate\n",
    "\n",
    "# circuito esempio con questo canale\n",
    "example = QuantumCircuit(2)\n",
    "\n",
    "# applico il gate che simula il canale amplitude damping con parametro astratto\n",
    "example.append(amplitude_damping_gate(theta_to_noise(np.pi/3)), [0 ,1])\n",
    "\n",
    "display(Latex(r\"Matrice del circuito (parametro = $\\frac{\\pi}{3}$)\"))\n",
    "\n",
    "# permette di trasformare il circuito nella sua rappresentazione di operatore, in questo caso draw mostra la rappresentazione matematica in latex\n",
    "display(Operator.from_circuit(example).draw(\"latex\")) \n",
    "\n",
    "# mostra il circuito decomposto, decompose restituisce lo stesso circuito decomponendo di un livello di astrazione tutti i gate\n",
    "display(example.decompose().draw(\"mpl\"))"
   ]
  },
  {
   "cell_type": "markdown",
   "id": "24067883",
   "metadata": {},
   "source": [
    "### Definisco lo stato iniziale del circuito nella forma di matrice densità parametrizzata"
   ]
  },
  {
   "cell_type": "code",
   "execution_count": 35,
   "id": "f6197622",
   "metadata": {},
   "outputs": [
    {
     "data": {
      "text/latex": [
       "$$\n",
       "\n",
       "\\begin{bmatrix}\n",
       "\\frac{7}{10} & 0 & 0 & 0  \\\\\n",
       " 0 & 0 & 0 & 0  \\\\\n",
       " 0 & 0 & \\frac{3}{10} & 0  \\\\\n",
       " 0 & 0 & 0 & 0  \\\\\n",
       " \\end{bmatrix}\n",
       "$$"
      ],
      "text/plain": [
       "<IPython.core.display.Latex object>"
      ]
     },
     "metadata": {},
     "output_type": "display_data"
    },
    {
     "data": {
      "text/latex": [
       "$$\n",
       "\n",
       "\\begin{bmatrix}\n",
       "\\frac{7}{10} & 0 & 0 & 0  \\\\\n",
       " 0 & \\frac{3}{40} & 0.1299038106 & 0  \\\\\n",
       " 0 & 0.1299038106 & \\frac{9}{40} & 0  \\\\\n",
       " 0 & 0 & 0 & 0  \\\\\n",
       " \\end{bmatrix}\n",
       "$$"
      ],
      "text/plain": [
       "<IPython.core.display.Latex object>"
      ]
     },
     "metadata": {},
     "output_type": "display_data"
    },
    {
     "data": {
      "text/latex": [
       "$$\n",
       "\n",
       "\\begin{bmatrix}\n",
       "\\frac{31}{40} & 0  \\\\\n",
       " 0 & \\frac{9}{40}  \\\\\n",
       " \\end{bmatrix}\n",
       "$$"
      ],
      "text/plain": [
       "<IPython.core.display.Latex object>"
      ]
     },
     "metadata": {},
     "output_type": "display_data"
    }
   ],
   "source": [
    "# eseguo uno stato misto di esempio sul circuito di esempio generato prima\n",
    "alpha = 0.3\n",
    "\n",
    "# genero lo stato iniziale con il parametro alpha = 0.3\n",
    "rho_in = initial_mixed_state_real_density_matrix(alpha)\n",
    "\n",
    "# mostro lo stato iniziare dell'intero sistema\n",
    "display(rho_in.draw(\"latex\"))\n",
    "\n",
    "# faccio evolvere il sistema secondo il canale amplitude damping (applicazione postulato 2)\n",
    "rho_final = rho_in.evolve(example)\n",
    "\n",
    "# mostro lo stato finale dell'intero sistema  \n",
    "display(partial_trace(rho_final,[]).draw(\"latex\"))\n",
    "# mostro lo stato finale del sottosistema S_1\n",
    "display(partial_trace(rho_final,[0]).draw(\"latex\"))"
   ]
  },
  {
   "cell_type": "markdown",
   "id": "4e6006ae",
   "metadata": {},
   "source": [
    "### Definisco il canale per calcolare l'error rate"
   ]
  },
  {
   "cell_type": "code",
   "execution_count": 36,
   "id": "a9a75253",
   "metadata": {},
   "outputs": [
    {
     "data": {
      "image/png": "[encoded data removed]",
      "text/plain": [
       "<Figure size 454.517x200.667 with 1 Axes>"
      ]
     },
     "metadata": {},
     "output_type": "display_data"
    },
    {
     "data": {
      "image/png": "[encoded data removed]",
      "text/plain": [
       "<Figure size 705.35x200.667 with 1 Axes>"
      ]
     },
     "metadata": {},
     "output_type": "display_data"
    },
    {
     "data": {
      "image/png": "[encoded data removed]",
      "text/plain": [
       "<Figure size 454.517x200.667 with 1 Axes>"
      ]
     },
     "metadata": {},
     "output_type": "display_data"
    },
    {
     "name": "stdout",
     "output_type": "stream",
     "text": [
      "forma matriciale dell'operatore dell'intero circuito\n"
     ]
    },
    {
     "data": {
      "text/latex": [
       "$$\n",
       "\n",
       "\\begin{bmatrix}\n",
       "0.3193069681 - 0.6676118744 i & 0.055705537 + 0.0725968692 i & -0.4714973254 - 0.324079801 i & 0.2078958942 + 0.2709352043 i  \\\\\n",
       " 0.0907235014 - 0.0119439756 i & -0.5200317196 - 0.1098386197 i & 0.3385847168 - 0.0445755236 i & 0.767892935 - 0.0533191206 i  \\\\\n",
       " 0.5122766087 - 0.4161289426 i & -0.055705537 - 0.0725968692 i & 0.2486751775 + 0.6144672777 i & -0.2078958942 - 0.2709352043 i  \\\\\n",
       " 0.0907235014 - 0.0119439756 i & 0.8343071475 + 0.0684634747 i & 0.3385847168 - 0.0445755236 i & 0.4049989293 - 0.1010950228 i  \\\\\n",
       " \\end{bmatrix}\n",
       "$$"
      ],
      "text/plain": [
       "<IPython.core.display.Latex object>"
      ]
     },
     "metadata": {},
     "output_type": "display_data"
    },
    {
     "name": "stdout",
     "output_type": "stream",
     "text": [
      "forma matriciale e rappresentazione stato finale nella sfera di bloch\n"
     ]
    },
    {
     "data": {
      "text/latex": [
       "$$\n",
       "\n",
       "\\begin{bmatrix}\n",
       "0.4815650219 & -0.0176989182 - 0.0789517169 i & 0.2140544457 - 0.0836516304 i & -0.0176989182 - 0.0789517169 i  \\\\\n",
       " -0.0176989182 + 0.0789517169 i & 0.0408493649 & 0.0530542573 - 0.0435963778 i & 0.0408493649  \\\\\n",
       " 0.2140544457 + 0.0836516304 i & 0.0530542573 + 0.0435963778 i & 0.4367362483 & 0.0530542573 + 0.0435963778 i  \\\\\n",
       " -0.0176989182 + 0.0789517169 i & 0.0408493649 & 0.0530542573 - 0.0435963778 i & 0.0408493649  \\\\\n",
       " \\end{bmatrix}\n",
       "$$"
      ],
      "text/plain": [
       "<IPython.core.display.Latex object>"
      ]
     },
     "metadata": {},
     "output_type": "display_data"
    },
    {
     "data": {
      "text/latex": [
       "$$\n",
       "\n",
       "\\begin{bmatrix}\n",
       "0.5224143868 & 0.2549038106 - 0.0836516304 i  \\\\\n",
       " 0.2549038106 + 0.0836516304 i & 0.4775856132  \\\\\n",
       " \\end{bmatrix}\n",
       "$$"
      ],
      "text/plain": [
       "<IPython.core.display.Latex object>"
      ]
     },
     "metadata": {},
     "output_type": "display_data"
    },
    {
     "data": {
      "image/png": "[encoded data removed]",
      "text/plain": [
       "<Figure size 480x480 with 1 Axes>"
      ]
     },
     "metadata": {},
     "output_type": "display_data"
    },
    {
     "name": "stdout",
     "output_type": "stream",
     "text": [
      "Probabilità di misura in |0⟩: 0.5224\n",
      "Probabilità di misura in |1⟩: 0.4776\n"
     ]
    }
   ],
   "source": [
    "\n",
    "def build_parametrized_eradc(thetas=None,noise=None):\n",
    "    \"\"\"\n",
    "    Costruisce un gate quantistico parametrizzato a 2 qubit che modella\n",
    "    un canale di amplitude damping con pre- e post-rotazioni controllate da parametri.\n",
    "\n",
    "    Parametri:\n",
    "        thetas (ParameterVector, opzionale): vettore di 4 parametri simbolici\n",
    "            che definiscono le rotazioni RY e RZ applicate prima e dopo il canale.\n",
    "            Se non fornito, viene generato automaticamente come [θ₀, θ₁, θ₂, θ₃].\n",
    "\n",
    "        noise (Parameter, opzionale): parametro simbolico che rappresenta il\n",
    "            livello di rumore del canale di damping. Se non fornito, viene\n",
    "            inizializzato come η.\n",
    "\n",
    "    Restituisce:\n",
    "        Gate: un gate custom che implementa il modello parametrico di un\n",
    "              canale di amplitude damping con rotazioni controllate nella convenzione classica.\n",
    "    \"\"\"\n",
    "\n",
    "    # Se i parametri non sono stati forniti, crea simboli di default\n",
    "    if thetas is None:\n",
    "        thetas = ParameterVector(\"θ\", 4)\n",
    "    if noise is None:\n",
    "        noise = Parameter('η')\n",
    "\n",
    "    # Controlla che siano forniti esattamente 4 parametri angolari\n",
    "    if len(thetas) != 4:\n",
    "        raise ValueError(\"Il ParameterVector deve contenere esattamente 4 parametri.\")\n",
    "    \n",
    "     # Crea un circuito su 2 qubit:\n",
    "    # - qubit 0 = ambiente\n",
    "    # - qubit 1 = sistema (qubit target del canale)\n",
    "    qc = QuantumCircuit(2)\n",
    "\n",
    "    qc.compose(EncodingCircuit([thetas[0],thetas[1]]),[1],inplace=True)                     # RY su qubit sis e RZ su qubit sis\n",
    "\n",
    "    qc.append(amplitude_damping_gate(noise), [0, 1]) # Amplitude damping su [0,1]\n",
    "\n",
    "    qc.compose(DecodingCircuit([thetas[2],thetas[3]]),[1],inplace=True)                      # RZ su qubit sis e RY su qubit sis\n",
    "    \n",
    "    # Converte in un Custom Gate\n",
    "    gate = qc.to_gate(label=\"Error-Rate ADC Model\")\n",
    "\n",
    "    # Ritorna il gate\n",
    "    return gate\n",
    "\n",
    "# creo il circuito\n",
    "ERADC = QuantumCircuit(2)\n",
    "\n",
    "# aggiungo il gate che simula il canale amplitude damping\n",
    "ERADC.append(build_parametrized_eradc(), [0,1])\n",
    "\n",
    "# creo un dizionario dove per ogni parametro Parameter(\"nome_param\"): assegna_value\n",
    "thetas = [np.pi/6,np.pi/4,np.pi/3,np.pi/2]\n",
    "noise =  theta_to_noise(np.pi/3)\n",
    "\n",
    "theta = list(filter(lambda param: param.name != \"η\", ERADC.parameters))\n",
    "\n",
    "nois = list(filter(lambda param: param.name == \"η\", ERADC.parameters))\n",
    "\n",
    "param_values = {theta.pop().vector : thetas, nois.pop() : noise}\n",
    "\n",
    "#mostra il circuito\n",
    "display(ERADC.draw(\"mpl\"))\n",
    "\n",
    "# mostra il circuito decomposto\n",
    "display(ERADC.decompose().decompose(\"AmpDamp\").draw(\"mpl\")) \n",
    "\n",
    "# print(ERADC.parameters) #permette di mostrare tutti i parametri non definiti\n",
    "\n",
    "# test circuito matrice\n",
    "# assegna al circuito tutti i parametri definiti nel dizionario\n",
    "bound_ERADC = ERADC.assign_parameters(param_values)\n",
    "\n",
    "# mostra il circuito\n",
    "display(ERADC.draw(\"mpl\"))\n",
    "\n",
    "print(\"forma matriciale dell'operatore dell'intero circuito\")\n",
    "# mostra l'operatore in forma matriciale che agisce sul canale\n",
    "display(Operator.from_circuit(bound_ERADC).draw(\"latex\"))\n",
    "\n",
    "rho_out = rho_in.evolve(bound_ERADC)\n",
    "# display(rho_out.draw(\"bloch\"))\n",
    "print(\"forma matriciale e rappresentazione stato finale nella sfera di bloch\")\n",
    "display(rho_out.draw(\"latex\"))\n",
    "display(partial_trace(rho_out,[0]).draw(\"latex\"))\n",
    "display(partial_trace(rho_out,[0]).draw(\"bloch\"))\n",
    "\n",
    "# Il metodo .probabilities() calcola le probabilità di misura in base computazionale (|0⟩, |1⟩, ..., |2ⁿ - 1⟩)\n",
    "# per lo stato quantistico rappresentato dalla matrice densità o dallo statevector.\n",
    "# Restituisce un array di float, in cui ciascun elemento corrisponde alla probabilità\n",
    "# di osservare uno specifico stato base nella misura.\n",
    "print(f\"Probabilità di misura in |0⟩: {partial_trace(rho_out,[0]).probabilities()[0]:.4f}\")\n",
    "print(f\"Probabilità di misura in |1⟩: {partial_trace(rho_out,[0]).probabilities()[1]:.4f}\")"
   ]
  },
  {
   "cell_type": "markdown",
   "id": "7c5b783c",
   "metadata": {},
   "source": [
    "## Convenzione Qiskit"
   ]
  },
  {
   "cell_type": "markdown",
   "id": "0eb418df",
   "metadata": {},
   "source": [
    "### Definisco il canale Amplitude Damping"
   ]
  },
  {
   "cell_type": "code",
   "execution_count": 37,
   "id": "ba3dff62",
   "metadata": {},
   "outputs": [
    {
     "data": {
      "text/latex": [
       "Matrice del circuito (parametro = $\\frac{\\pi}{3}$)"
      ],
      "text/plain": [
       "<IPython.core.display.Latex object>"
      ]
     },
     "metadata": {},
     "output_type": "display_data"
    },
    {
     "data": {
      "text/latex": [
       "$$\n",
       "\n",
       "\\begin{bmatrix}\n",
       "1 & 0 & 0 & 0  \\\\\n",
       " 0 & \\frac{\\sqrt{3}}{2} & 0 & - \\frac{1}{2}  \\\\\n",
       " 0 & \\frac{1}{2} & 0 & \\frac{\\sqrt{3}}{2}  \\\\\n",
       " 0 & 0 & 1 & 0  \\\\\n",
       " \\end{bmatrix}\n",
       "$$"
      ],
      "text/plain": [
       "<IPython.core.display.Latex object>"
      ]
     },
     "metadata": {},
     "output_type": "display_data"
    },
    {
     "data": {
      "image/png": "[encoded data removed]",
      "text/plain": [
       "<Figure size 287.294x200.667 with 1 Axes>"
      ]
     },
     "metadata": {},
     "output_type": "display_data"
    }
   ],
   "source": [
    "def amplitude_damping_gate_qi(_noise=None):\n",
    "    \"\"\"\n",
    "    Restituisce un gate personalizzato che rappresenta\n",
    "    l'implementazione unitaria del canale amplitude damping\n",
    "    su due qubit (sistema e ambiente) nella convezione di qiskit.\n",
    "\n",
    "    Parametri:\n",
    "        _noise (float or Parameter): valore tra 0 e 1 che viene convertito in angolo per la rotazione Ry\n",
    "            ! se non viene istanziato allora di default è Parameter('η')\n",
    "\n",
    "    Restituisce:\n",
    "        Gate: un gate \"AmpDamp qi\" personalizzato da applicare a 2 qubit\n",
    "    \"\"\"\n",
    "    # Crea un circuito con 2 qubit: qubit 1 = S_1, qubit 0 = E_1 (Ambiente)\n",
    "    qc = QuantumCircuit(2, name=\"Amplitude Damping Model Qi\")\n",
    "\n",
    "    # basta invertire il collegamento del canale definito precedentemente\n",
    "    qc.append(amplitude_damping_gate(_noise),[1,0])\n",
    "\n",
    "    qc = qc.decompose()\n",
    "\n",
    "    # Converte in un Custom Gate\n",
    "    gate = qc.to_gate(label=\"AmpDamp qi\")\n",
    "    \n",
    "    return gate\n",
    "\n",
    "# circuito esempio con questo canale\n",
    "example_q = QuantumCircuit(2)\n",
    "\n",
    "# applico il gate che simula il canale amplitude damping\n",
    "example_q.append(amplitude_damping_gate_qi(theta_to_noise(np.pi/3)), [0 ,1])\n",
    "# example_q.append(amplitude_damping_gate_qi(), [0 ,1])\n",
    "\n",
    "display(Latex(r\"Matrice del circuito (parametro = $\\frac{\\pi}{3}$)\"))\n",
    "\n",
    "# permette di trasformare il circuito nella sua rappresentazione di operatore\n",
    "display(Operator.from_circuit(example_q).draw(\"latex\")) \n",
    "\n",
    "# mostra il circuito decomposto\n",
    "display(example_q.decompose().draw(\"mpl\"))"
   ]
  },
  {
   "cell_type": "markdown",
   "id": "bdda656a",
   "metadata": {},
   "source": [
    "### Definisco lo stato iniziale del circuito nella forma di matrice densità parametrizzata"
   ]
  },
  {
   "cell_type": "code",
   "execution_count": 38,
   "id": "2996b656",
   "metadata": {},
   "outputs": [
    {
     "data": {
      "text/latex": [
       "$$\n",
       "\n",
       "\\begin{bmatrix}\n",
       "\\frac{7}{10} & 0 & 0 & 0  \\\\\n",
       " 0 & \\frac{3}{10} & 0 & 0  \\\\\n",
       " 0 & 0 & 0 & 0  \\\\\n",
       " 0 & 0 & 0 & 0  \\\\\n",
       " \\end{bmatrix}\n",
       "$$"
      ],
      "text/plain": [
       "<IPython.core.display.Latex object>"
      ]
     },
     "metadata": {},
     "output_type": "display_data"
    },
    {
     "data": {
      "text/latex": [
       "$$\n",
       "\n",
       "\\begin{bmatrix}\n",
       "\\frac{7}{10} & 0 & 0 & 0  \\\\\n",
       " 0 & \\frac{9}{40} & 0.1299038106 & 0  \\\\\n",
       " 0 & 0.1299038106 & \\frac{3}{40} & 0  \\\\\n",
       " 0 & 0 & 0 & 0  \\\\\n",
       " \\end{bmatrix}\n",
       "$$"
      ],
      "text/plain": [
       "<IPython.core.display.Latex object>"
      ]
     },
     "metadata": {},
     "output_type": "display_data"
    },
    {
     "data": {
      "text/latex": [
       "$$\n",
       "\n",
       "\\begin{bmatrix}\n",
       "\\frac{31}{40} & 0  \\\\\n",
       " 0 & \\frac{9}{40}  \\\\\n",
       " \\end{bmatrix}\n",
       "$$"
      ],
      "text/plain": [
       "<IPython.core.display.Latex object>"
      ]
     },
     "metadata": {},
     "output_type": "display_data"
    }
   ],
   "source": [
    "# eseguo uno stato misto di esempio sul circuito di esempio generato prima\n",
    "alpha = 0.3\n",
    "\n",
    "# genero lo stato iniziale con il parametro 0.3 (invertito per la convenzione qiskit, il qubit 1 è S_1, il qubit 0 è E_1)\n",
    "rho_in_q = reverse_qargs_density_matrix(initial_mixed_state_real_density_matrix(alpha))\n",
    "\n",
    "# mostro lo stato iniziare dell'intero sistema\n",
    "display(rho_in_q.draw(\"latex\"))\n",
    "\n",
    "# faccio evolvere il sistema secondo il canale amplitude damping (applicazione postulato 2)\n",
    "rho_final_q = rho_in_q.evolve(example_q)\n",
    "\n",
    "# mostro lo stato finale dell'intero sistema  \n",
    "display(partial_trace(rho_final_q,[]).draw(\"latex\"))\n",
    "# mostro lo stato finale del sottosistema S_1\n",
    "display(partial_trace(rho_final_q,[1]).draw(\"latex\"))"
   ]
  },
  {
   "cell_type": "markdown",
   "id": "521e014b",
   "metadata": {},
   "source": [
    "### Definisco il canale per calcolare l'error rate"
   ]
  },
  {
   "cell_type": "code",
   "execution_count": 39,
   "id": "d54215a3",
   "metadata": {},
   "outputs": [
    {
     "name": "stdout",
     "output_type": "stream",
     "text": [
      " forma matriciale dell'operatore dell'intero circuito\n"
     ]
    },
    {
     "data": {
      "text/latex": [
       "$$\n",
       "\n",
       "\\begin{bmatrix}\n",
       "0.3193069681 - 0.6676118744 i & -0.4714973254 - 0.324079801 i & 0.055705537 + 0.0725968692 i & 0.2078958942 + 0.2709352043 i  \\\\\n",
       " 0.5122766087 - 0.4161289426 i & 0.2486751775 + 0.6144672777 i & -0.055705537 - 0.0725968692 i & -0.2078958942 - 0.2709352043 i  \\\\\n",
       " 0.0907235014 - 0.0119439756 i & 0.3385847168 - 0.0445755236 i & -0.5200317196 - 0.1098386197 i & 0.767892935 - 0.0533191206 i  \\\\\n",
       " 0.0907235014 - 0.0119439756 i & 0.3385847168 - 0.0445755236 i & 0.8343071475 + 0.0684634747 i & 0.4049989293 - 0.1010950228 i  \\\\\n",
       " \\end{bmatrix}\n",
       "$$"
      ],
      "text/plain": [
       "<IPython.core.display.Latex object>"
      ]
     },
     "metadata": {},
     "output_type": "display_data"
    },
    {
     "data": {
      "image/png": "[encoded data removed]",
      "text/plain": [
       "<Figure size 454.517x200.667 with 1 Axes>"
      ]
     },
     "metadata": {},
     "output_type": "display_data"
    },
    {
     "data": {
      "image/png": "[encoded data removed]",
      "text/plain": [
       "<Figure size 705.35x200.667 with 1 Axes>"
      ]
     },
     "metadata": {},
     "output_type": "display_data"
    },
    {
     "name": "stdout",
     "output_type": "stream",
     "text": [
      "forma matriciale e rappresentazione stato finale nella sfera di bloch\n"
     ]
    },
    {
     "data": {
      "text/latex": [
       "$$\n",
       "\n",
       "\\begin{bmatrix}\n",
       "0.4815650219 & 0.2140544457 - 0.0836516304 i & -0.0176989182 - 0.0789517169 i & -0.0176989182 - 0.0789517169 i  \\\\\n",
       " 0.2140544457 + 0.0836516304 i & 0.4367362483 & 0.0530542573 + 0.0435963778 i & 0.0530542573 + 0.0435963778 i  \\\\\n",
       " -0.0176989182 + 0.0789517169 i & 0.0530542573 - 0.0435963778 i & 0.0408493649 & 0.0408493649  \\\\\n",
       " -0.0176989182 + 0.0789517169 i & 0.0530542573 - 0.0435963778 i & 0.0408493649 & 0.0408493649  \\\\\n",
       " \\end{bmatrix}\n",
       "$$"
      ],
      "text/plain": [
       "<IPython.core.display.Latex object>"
      ]
     },
     "metadata": {},
     "output_type": "display_data"
    },
    {
     "data": {
      "text/latex": [
       "$$\n",
       "\n",
       "\\begin{bmatrix}\n",
       "0.5224143868 & 0.2549038106 - 0.0836516304 i  \\\\\n",
       " 0.2549038106 + 0.0836516304 i & 0.4775856132  \\\\\n",
       " \\end{bmatrix}\n",
       "$$"
      ],
      "text/plain": [
       "<IPython.core.display.Latex object>"
      ]
     },
     "metadata": {},
     "output_type": "display_data"
    },
    {
     "data": {
      "image/png": "[encoded data removed]",
      "text/plain": [
       "<Figure size 480x480 with 1 Axes>"
      ]
     },
     "metadata": {},
     "output_type": "display_data"
    },
    {
     "name": "stdout",
     "output_type": "stream",
     "text": [
      "Probabilità di misura in |0⟩: 0.5224\n",
      "Probabilità di misura in |1⟩: 0.4776\n"
     ]
    }
   ],
   "source": [
    "\n",
    "def build_parametrized_eradc_qi(thetas=None,noise=None):\n",
    "    \"\"\"\n",
    "    Costruisce un gate quantistico parametrico a 2 qubit che modella un canale di \n",
    "    amplitude damping, con rotazioni personalizzate prima e dopo il canale, secondo \n",
    "    la convenzione standard Qiskit (qubit 0 = sistema, qubit 1 = ambiente/ancilla).\n",
    "\n",
    "    Parametri:\n",
    "        thetas (ParameterVector): vettore di 4 parametri simbolici (θ₀, θ₁, θ₂, θ₃)\n",
    "            che controllano le rotazioni applicate al qubit del sistema:\n",
    "              - θ₀, θ₁: rotazioni iniziali RY e RZ\n",
    "              - θ₂, θ₃: rotazioni finali RZ e RY\n",
    "\n",
    "        noise (Parameter): parametro simbolico (es. θa) che regola il livello di damping \n",
    "            nel canale amplitude damping (η ∈ [0,1])\n",
    "\n",
    "    Restituisce:\n",
    "        Gate: un gate custom riutilizzabile che implementa l'intero blocco\n",
    "              \"rotazioni + canale ADC + rotazioni\", pronto per essere inserito in un circuito.\n",
    "    \"\"\"\n",
    "    # Controllo che siano esattamente 4 parametri (due pre-rotazioni, due post-rotazioni)\n",
    "    if thetas is None:\n",
    "        thetas = ParameterVector(\"θ\", 4)\n",
    "    if noise is None:\n",
    "        noise = Parameter('η')\n",
    "\n",
    "    # verifico che il vettore di parametri thetas coincide con quelli del circuito altrimenti solleva un eccezione\n",
    "    if len(thetas) != 4:\n",
    "        raise ValueError(\"Il ParameterVector deve contenere esattamente 4 parametri.\")\n",
    "    \n",
    "    # Crea un circuito su 2 qubit:\n",
    "    # - qubit 0 = sistema (su cui agiscono le rotazioni)\n",
    "    # - qubit 1 = ambiente (serve a implementare il canale ADC come interazione)\n",
    "    qc = QuantumCircuit(2)\n",
    "   \n",
    "    qc.append(build_parametrized_eradc(thetas=thetas,noise=noise),[0,1])\n",
    "    qc = qc.decompose()\n",
    "    qc = qc.reverse_bits()\n",
    "    \n",
    "    # Converte in un Custom Gate\n",
    "    gate = qc.to_gate(label=\"Error-Rate ADC Model qi\")\n",
    "    \n",
    "    # Ritorna il gate\n",
    "    return gate\n",
    "\n",
    "# creo il circuito\n",
    "ERADC_q = QuantumCircuit(2)\n",
    "\n",
    "# aggiungo il gate che simula il canale amplitude damping\n",
    "ERADC_q.append(build_parametrized_eradc_qi(), [0,1])\n",
    "\n",
    "# creo un dizionario dove per ogni parametro \"nome_param\": assegna_value\n",
    "param_values = {\n",
    "    \"θ[0]\": np.pi/6,\n",
    "    \"θ[1]\": np.pi/4,\n",
    "    \"θ[2]\": np.pi/3,\n",
    "    \"θ[3]\": np.pi/2,\n",
    "    \"η\"  : theta_to_noise(np.pi/3)\n",
    "}\n",
    "\n",
    "# assegna al circuito tutti i parametri definiti nel dizionario\n",
    "bound_ERADC_q = ERADC_q.assign_parameters(param_values)\n",
    "\n",
    "print(\" forma matriciale dell'operatore dell'intero circuito\")\n",
    "\n",
    "# mostra l'operatore in forma matriciale che agisce sul canale\n",
    "display(Operator.from_circuit(bound_ERADC_q).draw(\"latex\"))\n",
    "\n",
    "#mostra il circuito\n",
    "display(ERADC_q.draw(\"mpl\"))\n",
    "\n",
    "# mostra il circuito decomposto\n",
    "display(ERADC_q.decompose().decompose(\"AmpDamp\").draw(\"mpl\")) \n",
    "\n",
    "# print(ERADC.parameters) #permette di mostrare tutti i parametri non definiti\n",
    "\n",
    "# test circuito matrice\n",
    "rho_out_q = rho_in_q.evolve(bound_ERADC_q)\n",
    "# display(rho_out.draw(\"bloch\"))\n",
    "print(\"forma matriciale e rappresentazione stato finale nella sfera di bloch\")\n",
    "display(rho_out_q.draw(\"latex\"))\n",
    "display(partial_trace(rho_out_q,[1]).draw(\"latex\"))\n",
    "display(partial_trace(rho_out_q,[1]).draw(\"bloch\"))\n",
    "\n",
    "# Il metodo .probabilities() calcola le probabilità di misura in base computazionale (|0⟩, |1⟩, ..., |2ⁿ - 1⟩)\n",
    "# per lo stato quantistico rappresentato dalla matrice densità o dallo statevector.\n",
    "# Restituisce un array di float, in cui ciascun elemento corrisponde alla probabilità\n",
    "# di osservare uno specifico stato base nella misura.\n",
    "print(f\"Probabilità di misura in |0⟩: {partial_trace(rho_out_q,[1]).probabilities()[0]:.4f}\")\n",
    "print(f\"Probabilità di misura in |1⟩: {partial_trace(rho_out_q,[1]).probabilities()[1]:.4f}\")\n"
   ]
  },
  {
   "cell_type": "markdown",
   "id": "57ae58cf",
   "metadata": {},
   "source": [
    "# Fase 2: evoluzione del circuito e misura con lo stato iniziale misto definito"
   ]
  },
  {
   "cell_type": "markdown",
   "id": "6fa10523",
   "metadata": {},
   "source": [
    "## Extra inizializzazione stato parametrico con ancilla"
   ]
  },
  {
   "cell_type": "markdown",
   "id": "5f8f223c",
   "metadata": {},
   "source": [
    "### Ancilla per ricreare lo stato misto sia convenzione classica che Qiskit"
   ]
  },
  {
   "cell_type": "code",
   "execution_count": 40,
   "id": "60da6f3a",
   "metadata": {},
   "outputs": [
    {
     "name": "stdout",
     "output_type": "stream",
     "text": [
      "Matrice densità ridotta (target qubit):\n"
     ]
    },
    {
     "data": {
      "text/latex": [
       "$$\n",
       "\n",
       "\\begin{bmatrix}\n",
       "\\frac{7}{10} & 0  \\\\\n",
       " 0 & \\frac{3}{10}  \\\\\n",
       " \\end{bmatrix}\n",
       "$$"
      ],
      "text/plain": [
       "<IPython.core.display.Latex object>"
      ]
     },
     "metadata": {},
     "output_type": "display_data"
    },
    {
     "data": {
      "text/latex": [
       "$$\n",
       "\n",
       "\\begin{bmatrix}\n",
       "\\frac{7}{10} & 0  \\\\\n",
       " 0 & \\frac{3}{10}  \\\\\n",
       " \\end{bmatrix}\n",
       "$$"
      ],
      "text/plain": [
       "<IPython.core.display.Latex object>"
      ]
     },
     "metadata": {},
     "output_type": "display_data"
    },
    {
     "data": {
      "image/png": "[encoded data removed]",
      "text/plain": [
       "<Figure size 287.496x284.278 with 1 Axes>"
      ]
     },
     "metadata": {},
     "output_type": "display_data"
    }
   ],
   "source": [
    "def getAncillaParametrized(_alpha=None):\n",
    "    \"\"\"\n",
    "    Costruisce un gate quantistico che inizializza un qubit target (qubit 0)\n",
    "    in uno stato misto con popolazioni [1 - α, α] tramite entanglement con un’ancilla (qubit 2).\n",
    "\n",
    "    Parametri:\n",
    "        _alpha (float o Parameter): probabilità di osservare il qubit target nello stato |1⟩\n",
    "                                     dopo tracciatura dell’ancilla.\n",
    "                                     Può essere un valore numerico o un parametro simbolico.\n",
    "\n",
    "    Restituisce:\n",
    "        Gate: un gate custom che può essere inserito in un circuito per inizializzare\n",
    "              lo stato del qubit target in modo controllato.\n",
    "        !! nel cubit 0,1 abbiamo uno stato iniziale del tipo q1 ⊗ rho_sis,\n",
    "        !! mentre nel qubit 1,2 abbiamo uno stato del tipo rho_sis ⊗ q1.\n",
    "    \"\"\"\n",
    "    An = AncillaInitializationCircuit(AIC.alpha_to_theta(_alpha))\n",
    "    # crea due stati uno q1 = rho_env ⊗ q0 = rho_sis (conv. qiskit),\n",
    "    # mentre l'altro è q2 = rho_sis ⊗ q1 = rho_env (conv. classica).\n",
    "\n",
    "    # converte in un gate\n",
    "    gate = An.to_gate(label=\"AncInitilizeState\")\n",
    "\n",
    "    return gate\n",
    "\n",
    "# alpha = Parameter('α')\n",
    "alpha = 0.3\n",
    "example = QuantumCircuit(3)\n",
    "example.append(getAncillaParametrized(alpha), [0,2])\n",
    "\n",
    "print(\"Matrice densità ridotta (target qubit):\")\n",
    "display(partial_trace(DensityMatrix.from_label(\"000\").evolve(example), [0,1]).draw(\"latex\"))\n",
    "display(partial_trace(DensityMatrix.from_label(\"000\").evolve(example), [2,1]).draw(\"latex\"))\n",
    "display(example.decompose().draw(\"mpl\"))\n",
    "\n"
   ]
  },
  {
   "cell_type": "markdown",
   "id": "6b14b736",
   "metadata": {},
   "source": [
    "### Ancilla usato sul circuito con convenzione classica"
   ]
  },
  {
   "cell_type": "code",
   "execution_count": 41,
   "id": "63e393a8",
   "metadata": {},
   "outputs": [
    {
     "data": {
      "image/png": "[encoded data removed]",
      "text/plain": [
       "<Figure size 789.163x367.889 with 1 Axes>"
      ]
     },
     "metadata": {},
     "output_type": "display_data"
    },
    {
     "data": {
      "image/png": "[encoded data removed]",
      "text/plain": [
       "<Figure size 956.385x367.889 with 1 Axes>"
      ]
     },
     "metadata": {},
     "output_type": "display_data"
    }
   ],
   "source": [
    "def circuitERADC_with_Ancilla_parametrized(alpha=None,thetas=None,noise=None):\n",
    "    \"\"\"\n",
    "    Costruisce un circuito quantistico a 3 qubit che simula un canale di amplitude damping\n",
    "    (ERADC: Error-Rate Amplitude Damping Channel) usando un approccio ancilla-based.\n",
    "\n",
    "    Il circuito applica:\n",
    "      - una preparazione di stato misto tramite entanglement con un'ancilla,\n",
    "      - un blocco parametrico che rappresenta il canale di damping,\n",
    "\n",
    "    Parametri:\n",
    "        alpha (float o Parameter, opzionale):\n",
    "            Parametro di mescolanza iniziale per generare uno stato misto su qubit 1,\n",
    "            tramite un'operazione su qubit 2 (ancilla). Se non fornito, è simbolico (α).\n",
    "\n",
    "        thetas (ParameterVector, opzionale):\n",
    "            Vettore di 4 parametri (θ₀, θ₁, θ₂, θ₃) per rotazioni RY/RZ pre- e post-damping.\n",
    "            Se non fornito, vengono creati automaticamente come simbolici.\n",
    "\n",
    "        noise (float o Parameter, opzionale):\n",
    "            Parametro di damping per il canale ADC. Se non fornito, è simbolico (η).\n",
    "\n",
    "    Restituisce:\n",
    "        QuantumCircuit:\n",
    "            Il circuito quantistico a 3 qubit con preparazione dello stato, evoluzione\n",
    "            tramite il canale parametrico e misura sul sistema.\n",
    "    \"\"\"\n",
    "\n",
    "    # Inizializzazione parametri simbolici se non forniti\n",
    "    if thetas is None:\n",
    "        thetas = ParameterVector(\"θ\", 4)\n",
    "    if noise is None:\n",
    "        noise = Parameter(\"η\")\n",
    "    if alpha is None:\n",
    "        alpha = Parameter(\"α\")\n",
    "\n",
    "    # Crea circuito con 3 qubit e 1 bit classico\n",
    "    # qubit 2: ancilla per creare lo stato misto\n",
    "    # qubit 1: ambiente (per amplitude damping)\n",
    "    # qubit 0: sistema (target)\n",
    "    ERADC_mea = QuantumCircuit(3, name=\"ERADC with Ancilla\")\n",
    "\n",
    "    # Inizializzazione dello stato misto tramite circuito ancilla (entanglement tra qubit 2 e 0)\n",
    "    ERADC_mea.append(getAncillaParametrized(alpha), [0, 2])\n",
    "\n",
    "    # Applica il canale di damping parametrico tra sistema (1) e ambiente (2)\n",
    "    ERADC_mea.append(build_parametrized_eradc(thetas, noise), [1, 2])\n",
    "\n",
    "    return ERADC_mea\n",
    "\n",
    "example = circuitERADC_with_Ancilla_parametrized()\n",
    "\n",
    "example.add_register(0,1)\n",
    "\n",
    "example.measure(2,0)\n",
    "\n",
    "display(example.draw(\"mpl\"))\n",
    "display(example.decompose().draw(\"mpl\"))\n"
   ]
  },
  {
   "cell_type": "markdown",
   "id": "35f61c27",
   "metadata": {},
   "source": [
    "### Ancilla usato sul circuito con convenzione qiskit"
   ]
  },
  {
   "cell_type": "code",
   "execution_count": 42,
   "id": "6d6cc3f9",
   "metadata": {},
   "outputs": [
    {
     "data": {
      "image/png": "[encoded data removed]",
      "text/plain": [
       "<Figure size 789.163x367.889 with 1 Axes>"
      ]
     },
     "metadata": {},
     "output_type": "display_data"
    },
    {
     "data": {
      "image/png": "[encoded data removed]",
      "text/plain": [
       "<Figure size 956.385x367.889 with 1 Axes>"
      ]
     },
     "metadata": {},
     "output_type": "display_data"
    }
   ],
   "source": [
    "def circuitERADC_with_Ancilla_parametrized_qi(alpha=None,thetas=None,noise=None):\n",
    "    \"\"\"\n",
    "    Costruisce un circuito quantistico a 3 qubit che simula un canale di amplitude damping\n",
    "    (ERADC: Error-Rate Amplitude Damping Channel) usando un approccio ancilla-based.\n",
    "\n",
    "    Il circuito applica:\n",
    "      - una preparazione di stato misto tramite entanglement con un'ancilla,\n",
    "      - un blocco parametrico che rappresenta il canale di damping,\n",
    "\n",
    "    Parametri:\n",
    "        alpha (float o Parameter, opzionale):\n",
    "            Parametro di mescolanza iniziale per generare uno stato misto su qubit 1,\n",
    "            tramite un'operazione su qubit 2 (ancilla). Se non fornito, è simbolico (α).\n",
    "\n",
    "        thetas (ParameterVector, opzionale):\n",
    "            Vettore di 4 parametri (θ₀, θ₁, θ₂, θ₃) per rotazioni RY/RZ pre- e post-damping.\n",
    "            Se non fornito, vengono creati automaticamente come simbolici.\n",
    "\n",
    "        noise (float o Parameter, opzionale):\n",
    "            Parametro di damping per il canale ADC. Se non fornito, è simbolico (η).\n",
    "\n",
    "    Restituisce:\n",
    "        QuantumCircuit:\n",
    "            Il circuito quantistico a 3 qubit con preparazione dello stato, evoluzione\n",
    "            tramite il canale parametrico e misura sul sistema.\n",
    "    \"\"\"\n",
    "    # Crea circuito con 3 qubit e 1 bit classico\n",
    "    # qubit 0: ancilla per creare lo stato misto\n",
    "    # qubit 1: ambiente (per amplitude damping)\n",
    "    # qubit 2: sistema (target)\n",
    "    ERADC_mea = QuantumCircuit(3, name=\"ERADC with Ancilla\")\n",
    "    \n",
    "    ERADC_mea.append(circuitERADC_with_Ancilla_parametrized(alpha,thetas,noise), [2, 1, 0])\n",
    "    ERADC_mea = ERADC_mea.decompose()\n",
    "\n",
    "    return ERADC_mea\n",
    "\n",
    "example = circuitERADC_with_Ancilla_parametrized_qi()\n",
    "\n",
    "example.add_register(0,1)\n",
    "\n",
    "example.measure(0,0)\n",
    "\n",
    "display(example.draw(\"mpl\"))\n",
    "display(example.decompose().draw(\"mpl\"))"
   ]
  },
  {
   "cell_type": "markdown",
   "id": "ad21d0ca",
   "metadata": {},
   "source": [
    "## Simulazioni"
   ]
  },
  {
   "cell_type": "markdown",
   "id": "72a673a6",
   "metadata": {},
   "source": [
    "### Aggiungo al circuito la misura e il bit di registo delle misurazioni (uso il circuito con convenzione classica)"
   ]
  },
  {
   "cell_type": "code",
   "execution_count": 43,
   "id": "73840020",
   "metadata": {},
   "outputs": [
    {
     "data": {
      "image/png": "[encoded data removed]",
      "text/plain": [
       "<Figure size 788.961x284.278 with 1 Axes>"
      ]
     },
     "metadata": {},
     "output_type": "display_data"
    },
    {
     "data": {
      "image/png": "[encoded data removed]",
      "text/plain": [
       "<Figure size 956.183x284.278 with 1 Axes>"
      ]
     },
     "metadata": {},
     "output_type": "display_data"
    }
   ],
   "source": [
    "def circuitERADC_parametrized_measure(alpha,thetas=None,noise=None):\n",
    "    \"\"\"\n",
    "    Costruisce un circuito quantistico a 2 qubit per simulare un modello\n",
    "    di amplitude damping (ERADC), partendo da uno stato misto iniziale,\n",
    "    e con parametri simbolici per le rotazioni e il rumore.\n",
    "\n",
    "    Parametri:\n",
    "        alpha (float): parametro di mescolanza per lo stato iniziale del sistema\n",
    "                ρ_sis = (1 - α)|0⟩⟨0| + α|1⟩⟨1| ! Deve essere istanziato non puo essere parametrico\n",
    "\n",
    "        thetas (ParameterVector): vettore di 4 parametri per le rotazioni del sistema\n",
    "        noise (Parameter): parametro simbolico per l’intensità del rumore (amplitude damping)\n",
    "\n",
    "    Restituisce:\n",
    "        QuantumCircuit: circuito parametrico con stato iniziale misto e misura\n",
    "    \"\"\"\n",
    "\n",
    "    # Controllo che siano esattamente 4 parametri (due pre-rotazioni, due post-rotazioni)\n",
    "    if thetas is None:\n",
    "        thetas = ParameterVector(\"θ\", 4)\n",
    "    if noise is None:\n",
    "        noise = Parameter('η')\n",
    "\n",
    "    # Crea lo stato iniziale a 2 qubit (sistema + ambiente), con il sistema in stato misto\n",
    "    rho_in = initial_mixed_state_real_density_matrix(alpha)\n",
    "    \n",
    "    # Crea un circuito quantistico con 2 qubit e 1 bit classico per la misura\n",
    "    ERADC_mea = QuantumCircuit(2, 1, name= \"ERADC with measure\")\n",
    "\n",
    "    # Imposta lo stato iniziale del circuito come matrice densità (solo su AerSimulator)\n",
    "    ERADC_mea.set_density_matrix(rho_in)\n",
    "    \n",
    "    # Applica il blocco ERADC parametrico sul sistema (qubit 0) e ambiente (qubit 1)\n",
    "    ERADC_mea.append(build_parametrized_eradc(thetas,noise), [0,1])\n",
    "\n",
    "    # Salva la matrice densità finale (dopo l’evoluzione e prima della misura)\n",
    "    ERADC_mea.save_density_matrix(label = \"rho_out\")\n",
    "\n",
    "    # Misura il qubit sis\n",
    "    ERADC_mea.measure(1,0)\n",
    "\n",
    "    return ERADC_mea\n",
    "\n",
    "alpha = 0.3\n",
    "\n",
    "example = circuitERADC_parametrized_measure(alpha)\n",
    "\n",
    "display(example.draw(\"mpl\"))\n",
    "display(example.decompose().draw(\"mpl\"))\n"
   ]
  },
  {
   "cell_type": "code",
   "execution_count": 44,
   "id": "c62133b5",
   "metadata": {},
   "outputs": [
    {
     "name": "stdout",
     "output_type": "stream",
     "text": [
      "Risultati di misura:\n",
      "{'1': 498, '0': 502}\n",
      "stato finale prima della misura\n"
     ]
    },
    {
     "data": {
      "text/latex": [
       "$$\n",
       "\n",
       "\\begin{bmatrix}\n",
       "0.5224143868 & 0.2549038106 - 0.0836516304 i  \\\\\n",
       " 0.2549038106 + 0.0836516304 i & 0.4775856132  \\\\\n",
       " \\end{bmatrix}\n",
       "$$"
      ],
      "text/plain": [
       "<IPython.core.display.Latex object>"
      ]
     },
     "metadata": {},
     "output_type": "display_data"
    }
   ],
   "source": [
    "def aerSimulationOfERADC(alpha,params,_shots):\n",
    "    \"\"\"\n",
    "    Esegue una simulazione del circuito ERADC (Error-Rate Amplitude Damping Channel)\n",
    "    utilizzando AerSimulator con il metodo della matrice densità (density matrix simulation).\n",
    "\n",
    "    Parametri:\n",
    "        alpha (float):\n",
    "            Parametro di mescolanza dello stato iniziale del sistema.\n",
    "            Rappresenta la probabilità di inizializzare il sistema in |1⟩.\n",
    "            Viene usato per generare lo stato iniziale come matrice densità mista.\n",
    "\n",
    "        params (dict):\n",
    "            Dizionario che associa i parametri simbolici del circuito (ad esempio \"θ[0]\", \"η\")\n",
    "            ai rispettivi valori numerici da utilizzare per la simulazione.\n",
    "            Deve contenere:\n",
    "                - \"θ[0]\" ... \"θ[3]\": angoli per le rotazioni RY/RZ prima e dopo il canale ADC\n",
    "                - \"η\": livello di rumore (parametro del canale di amplitude damping)\n",
    "\n",
    "        _shots (int):\n",
    "            Numero di esecuzioni (ripetizioni) da effettuare durante la simulazione. Serve\n",
    "            per ottenere statistiche sulle misurazioni del circuito, anche se non sono necessarie\n",
    "            per simulazioni puramente deterministiche con la matrice densità.\n",
    "\n",
    "    Restituisce:\n",
    "        result (qiskit.result.Result):\n",
    "            Oggetto contenente i risultati della simulazione.\n",
    "            Include:\n",
    "                - lo stato finale del sistema (\"rho_out\") come matrice densità\n",
    "                - le distribuzioni di probabilità di misura (get_counts, se misure sono presenti)\n",
    "    \"\"\"  \n",
    "    # Inizializza il simulatore con supporto per la simulazione a matrice densità\n",
    "    sim = AerSimulator(method='density_matrix')\n",
    "\n",
    "    # Costruisce il circuito parametrico con stato iniziale definito da 'alpha'\n",
    "    qc = circuitERADC_parametrized_measure(alpha)\n",
    "\n",
    "    # Effettua il binding dei parametri simbolici del circuito con i valori numerici forniti\n",
    "    qc_bound = qc.assign_parameters(params)\n",
    "\n",
    "    # Transpila il circuito per il backend simulatore (richiesto da Aer)\n",
    "    ERADC_mea_transpiled = transpile(qc_bound, sim, optimization_level=0)\n",
    "\n",
    "    # Esegue la simulazione e restituisce il risultato\n",
    "    result = sim.run(ERADC_mea_transpiled, shots=_shots).result()\n",
    "    return result\n",
    "\n",
    "param_values = {\n",
    "    \"θ[0]\": np.pi/6,\n",
    "    \"θ[1]\": np.pi/4,\n",
    "    \"θ[2]\": np.pi/3,\n",
    "    \"θ[3]\": np.pi/2,\n",
    "    \"η\"   : theta_to_noise(np.pi/3)\n",
    "}\n",
    "\n",
    "result = aerSimulationOfERADC(alpha=0.3,params=param_values,_shots=1000)\n",
    "print(\"Risultati di misura:\")\n",
    "print(result.get_counts())\n",
    "print(\"stato finale prima della misura\")\n",
    "display(partial_trace(result.data(0)['rho_out'],[0]).draw(\"latex\"))"
   ]
  },
  {
   "cell_type": "markdown",
   "id": "e284b77b",
   "metadata": {},
   "source": [
    "### Simulazione con Ancilla Convenzione Qiskit"
   ]
  },
  {
   "cell_type": "code",
   "execution_count": 45,
   "id": "88b9982f",
   "metadata": {},
   "outputs": [
    {
     "name": "stdout",
     "output_type": "stream",
     "text": [
      "Risultati di misura:\n",
      "{'1': 4765, '0': 5235}\n",
      "stato finale prima della misura\n"
     ]
    },
    {
     "data": {
      "text/latex": [
       "$$\n",
       "\n",
       "\\begin{bmatrix}\n",
       "0.5224143868 & 0.2549038106 - 0.0836516304 i  \\\\\n",
       " 0.2549038106 + 0.0836516304 i & 0.4775856132  \\\\\n",
       " \\end{bmatrix}\n",
       "$$"
      ],
      "text/plain": [
       "<IPython.core.display.Latex object>"
      ]
     },
     "metadata": {},
     "output_type": "display_data"
    },
    {
     "name": "stdout",
     "output_type": "stream",
     "text": [
      "Probabilità di misura in |0⟩: 0.5224\n",
      "Probabilità di misura in |1⟩: 0.4776\n"
     ]
    }
   ],
   "source": [
    "def aerSimulationOfERADC_with_Ancilla(params,_shots):\n",
    "    \"\"\"\n",
    "    Esegue una simulazione del circuito ERADC (Error-Rate Amplitude Damping Channel)\n",
    "    con inizializzazione tramite ancilla, utilizzando il simulatore Aer in modalità\n",
    "    a matrice densità (density_matrix method).\n",
    "\n",
    "    Il circuito simula:\n",
    "      - la preparazione di uno stato misto del sistema tramite entanglement con un'ancilla,\n",
    "      - l'evoluzione tramite un canale di amplitude damping parametrizzato,\n",
    "      - la misura del sistema dopo l'interazione.\n",
    "\n",
    "    Parametri:\n",
    "        params (dict):\n",
    "            Dizionario che associa i parametri simbolici del circuito (ad esempio \"θ[0]\", \"η\", \"α\")\n",
    "            ai rispettivi valori numerici. Deve essere coerente con quelli usati nel circuito:\n",
    "                - \"θ[0]\" ... \"θ[3]\": angoli delle rotazioni RY/RZ\n",
    "                - \"η\": livello di rumore del canale di damping\n",
    "                - \"α\": mescolanza dello stato iniziale (probabilità di |1⟩)\n",
    "\n",
    "        _shots (int):\n",
    "            Numero di esecuzioni (ripetizioni) della simulazione. Anche se il metodo \n",
    "            'density_matrix' restituisce un'evoluzione deterministica, è richiesto\n",
    "            da Qiskit per la compatibilità con il backend.\n",
    "\n",
    "    Restituisce:\n",
    "        result (qiskit.result.Result):\n",
    "            Oggetto che contiene:\n",
    "                - La matrice densità finale salvata nel circuito (\"rho_out\")\n",
    "                - Le statistiche di misura sul qubit del sistema\n",
    "    \"\"\"\n",
    "    # Inizializza il simulatore con supporto per la simulazione a matrice densità\n",
    "    sim = AerSimulator(method='density_matrix')\n",
    "\n",
    "    # Costruisce il circuito parametrico con stato iniziale definito da 'alpha'\n",
    "    qc = circuitERADC_with_Ancilla_parametrized_qi()\n",
    "    \n",
    "    # Salva nel risultato la matrice densità del circuito prima della misurazione\n",
    "    qc.save_density_matrix(label = \"rho_out\")\n",
    "\n",
    "    # applico un registro classico al circuito\n",
    "    qc.add_register(0,1)\n",
    "    \n",
    "    # applico la misura al qubit 0 e registo l'esito in bit 0\n",
    "    qc.measure(0,0)\n",
    "    \n",
    "    \n",
    "    # Effettua il binding dei parametri simbolici del circuito con i valori numerici forniti\n",
    "    qc_bound = qc.assign_parameters(params)\n",
    "\n",
    "    # Transpila il circuito per il backend simulatore (richiesto da Aer)\n",
    "    ERADC_mea_transpiled = transpile(qc_bound, sim, optimization_level=0)\n",
    "\n",
    "    # Esegue la simulazione e restituisce il risultato\n",
    "    result = sim.run(ERADC_mea_transpiled, shots=_shots).result()\n",
    "    return result\n",
    "\n",
    "param_values = {\n",
    "    \"θ[0]\": np.pi/6,\n",
    "    \"θ[1]\": np.pi/4,\n",
    "    \"θ[2]\": np.pi/3,\n",
    "    \"θ[3]\": np.pi/2,\n",
    "    \"η\"   : theta_to_noise(np.pi/3),\n",
    "    \"α\" : 0.3\n",
    "}\n",
    "\n",
    "result = aerSimulationOfERADC_with_Ancilla(params=param_values,_shots=10000)\n",
    "print(\"Risultati di misura:\")\n",
    "print(result.get_counts())\n",
    "print(\"stato finale prima della misura\")\n",
    "display(partial_trace(result.data(0)[\"rho_out\"],[1,2]).draw(\"latex\"))\n",
    "\n",
    "# Il metodo .probabilities() calcola le probabilità di misura in base computazionale (|0⟩, |1⟩, ..., |2ⁿ - 1⟩)\n",
    "# per lo stato quantistico rappresentato dalla matrice densità o dallo statevector.\n",
    "# Restituisce un array di float, in cui ciascun elemento corrisponde alla probabilità\n",
    "# di osservare uno specifico stato base nella misura.\n",
    "print(f\"Probabilità di misura in |0⟩: {partial_trace(result.data(0)['rho_out'],[1,2]).probabilities()[0]:.4f}\")\n",
    "print(f\"Probabilità di misura in |1⟩: {partial_trace(result.data(0)['rho_out'],[1,2]).probabilities()[1]:.4f}\")"
   ]
  },
  {
   "cell_type": "markdown",
   "id": "4780ab36",
   "metadata": {},
   "source": [
    "### Simulazione con Ancilla convenzione qiskit su simulazione con rumore di un backend reale"
   ]
  },
  {
   "cell_type": "code",
   "execution_count": 31,
   "id": "c2a31376",
   "metadata": {},
   "outputs": [
    {
     "name": "stderr",
     "output_type": "stream",
     "text": [
      "c:\\Users\\rem.gabryldellarosa\\AppData\\Local\\miniconda3\\envs\\cwq\\Lib\\site-packages\\qiskit_ibm_runtime\\api\\auth.py:67: UserWarning: Unable to retrieve IBM Cloud access token. API Key will be used instead. HTTPSConnectionPool(host='iam.cloud.ibm.com', port=443): Max retries exceeded with url: /identity/token (Caused by NameResolutionError(\"<urllib3.connection.HTTPSConnection object at 0x0000029271555310>: Failed to resolve 'iam.cloud.ibm.com' ([Errno 11001] getaddrinfo failed)\"))\n",
      "  warnings.warn(\n",
      "qiskit_runtime_service._discover_backends_from_instance:WARNING:2025-08-30 11:26:18,075: Invalid instance crn:v1:bluemix:public:quantum-computing:us-east:a/a05f4044c7fb48cd8239366b64fed143:9ca17a4e-b56e-4f4d-9999-f504795121e6::\n"
     ]
    },
    {
     "ename": "QiskitBackendNotFoundError",
     "evalue": "'No backend matches the criteria. Learn more about available backends here https://quantum.cloud.ibm.com/docs/en/guides/qpu-information#view-your-resources'",
     "output_type": "error",
     "traceback": [
      "\u001b[31m---------------------------------------------------------------------------\u001b[39m",
      "\u001b[31mQiskitBackendNotFoundError\u001b[39m                Traceback (most recent call last)",
      "\u001b[36mCell\u001b[39m\u001b[36m \u001b[39m\u001b[32mIn[31]\u001b[39m\u001b[32m, line 10\u001b[39m\n\u001b[32m      8\u001b[39m service = QiskitRuntimeService(channel=\u001b[33m\"\u001b[39m\u001b[33mibm_quantum_platform\u001b[39m\u001b[33m\"\u001b[39m,token=os.getenv(\u001b[33m\"\u001b[39m\u001b[33mIBM_TOKEN\u001b[39m\u001b[33m\"\u001b[39m),instance=os.getenv(\u001b[33m\"\u001b[39m\u001b[33mINSTANCE\u001b[39m\u001b[33m\"\u001b[39m))\n\u001b[32m      9\u001b[39m backend_name = \u001b[33m\"\u001b[39m\u001b[33mibm_brisbane\u001b[39m\u001b[33m\"\u001b[39m\n\u001b[32m---> \u001b[39m\u001b[32m10\u001b[39m backend = \u001b[43mservice\u001b[49m\u001b[43m.\u001b[49m\u001b[43mbackend\u001b[49m\u001b[43m(\u001b[49m\u001b[43mbackend_name\u001b[49m\u001b[43m)\u001b[49m\n",
      "\u001b[36mFile \u001b[39m\u001b[32mc:\\Users\\rem.gabryldellarosa\\AppData\\Local\\miniconda3\\envs\\cwq\\Lib\\site-packages\\qiskit_ibm_runtime\\qiskit_runtime_service.py:781\u001b[39m, in \u001b[36mQiskitRuntimeService.backend\u001b[39m\u001b[34m(self, name, instance, use_fractional_gates)\u001b[39m\n\u001b[32m    776\u001b[39m     \u001b[38;5;28;01mif\u001b[39;00m \u001b[38;5;28mself\u001b[39m._channel \u001b[38;5;129;01min\u001b[39;00m [\u001b[33m\"\u001b[39m\u001b[33mibm_cloud\u001b[39m\u001b[33m\"\u001b[39m, \u001b[33m\"\u001b[39m\u001b[33mibm_quantum_platform\u001b[39m\u001b[33m\"\u001b[39m]:\n\u001b[32m    777\u001b[39m         cloud_msg_url = (\n\u001b[32m    778\u001b[39m             \u001b[33m\"\u001b[39m\u001b[33m Learn more about available backends here \u001b[39m\u001b[33m\"\u001b[39m\n\u001b[32m    779\u001b[39m             \u001b[33m\"\u001b[39m\u001b[33mhttps://quantum.cloud.ibm.com/docs/en/guides/qpu-information#view-your-resources\u001b[39m\u001b[33m\"\u001b[39m\n\u001b[32m    780\u001b[39m         )\n\u001b[32m--> \u001b[39m\u001b[32m781\u001b[39m     \u001b[38;5;28;01mraise\u001b[39;00m QiskitBackendNotFoundError(\u001b[33m\"\u001b[39m\u001b[33mNo backend matches the criteria.\u001b[39m\u001b[33m\"\u001b[39m + cloud_msg_url)\n\u001b[32m    782\u001b[39m \u001b[38;5;28;01mreturn\u001b[39;00m backends[\u001b[32m0\u001b[39m]\n",
      "\u001b[31mQiskitBackendNotFoundError\u001b[39m: 'No backend matches the criteria. Learn more about available backends here https://quantum.cloud.ibm.com/docs/en/guides/qpu-information#view-your-resources'"
     ]
    }
   ],
   "source": [
    "from qiskit_ibm_runtime import QiskitRuntimeService\n",
    "from qiskit_aer.noise import NoiseModel\n",
    "from dotenv import load_dotenv\n",
    "import os\n",
    "\n",
    "# Carica il file .env nella sessione\n",
    "load_dotenv()\n",
    "service = QiskitRuntimeService(channel=\"ibm_quantum_platform\",token=os.getenv(\"IBM_TOKEN\"),instance=os.getenv(\"INSTANCE\"))\n",
    "backend_name = \"ibm_brisbane\"\n",
    "backend = service.backend(backend_name)"
   ]
  },
  {
   "cell_type": "code",
   "execution_count": 46,
   "id": "be393a61",
   "metadata": {},
   "outputs": [
    {
     "ename": "NameError",
     "evalue": "name 'backend' is not defined",
     "output_type": "error",
     "traceback": [
      "\u001b[31m---------------------------------------------------------------------------\u001b[39m",
      "\u001b[31mNameError\u001b[39m                                 Traceback (most recent call last)",
      "\u001b[36mCell\u001b[39m\u001b[36m \u001b[39m\u001b[32mIn[46]\u001b[39m\u001b[32m, line 54\u001b[39m\n\u001b[32m     44\u001b[39m     \u001b[38;5;28;01mreturn\u001b[39;00m job[\u001b[32m0\u001b[39m].data.c\n\u001b[32m     46\u001b[39m param_values = {\n\u001b[32m     47\u001b[39m     \u001b[33m\"\u001b[39m\u001b[33mθ[0]\u001b[39m\u001b[33m\"\u001b[39m: np.pi/\u001b[32m6\u001b[39m,\n\u001b[32m     48\u001b[39m     \u001b[33m\"\u001b[39m\u001b[33mθ[1]\u001b[39m\u001b[33m\"\u001b[39m: np.pi/\u001b[32m4\u001b[39m,\n\u001b[32m   (...)\u001b[39m\u001b[32m     52\u001b[39m     \u001b[33m\"\u001b[39m\u001b[33mα\u001b[39m\u001b[33m\"\u001b[39m : \u001b[32m0.3\u001b[39m\n\u001b[32m     53\u001b[39m }\n\u001b[32m---> \u001b[39m\u001b[32m54\u001b[39m result = SimulationOfERADC_with_Ancilla_on_backend(params=param_values, backend = \u001b[43mbackend\u001b[49m, shots = \u001b[32m2000\u001b[39m)\n\u001b[32m     55\u001b[39m \u001b[38;5;28mprint\u001b[39m(result.get_counts())\n",
      "\u001b[31mNameError\u001b[39m: name 'backend' is not defined"
     ]
    }
   ],
   "source": [
    "def SimulationOfERADC_with_Ancilla_on_backend(params, backend, shots = 1000): \n",
    "    \"\"\"\n",
    "    Simula l'evoluzione di un circuito quantistico che implementa un modello di decoerenza (ERADC)\n",
    "    con inizializzazione tramite ancilla, usando un backend simulato con rumore.\n",
    "\n",
    "    Parametri:\n",
    "        params (dict): dizionario con parametri simbolici da assegnare (θ[0], ..., θ[3], α, η)\n",
    "        backend (Backend): backend reale o simulato da cui ottenere le informazioni di rumore\n",
    "        real_noise (bool): se True, usa il noise model reale del backend; altrimenti usa un gate custom,\n",
    "          che simula il canale soggetto a Amplitude Damping con parametro η\n",
    "        shots (int): numero di esecuzioni del circuito per la statistica delle misure\n",
    "\n",
    "    Restituisce:\n",
    "        result (Result): oggetto di risultato della simulazione, contenente conteggi, densità ecc.\n",
    "    \"\"\"\n",
    "    # Costruisce un circuito quantistico con 3 qubit e 1 bit classico\n",
    "    ERADC_mea = QuantumCircuit(3, 1, name=\"ERADC with Ancilla and measure\")\n",
    "    # Crea i parametri simbolici delle rotazioni θ[0]...θ[3]\n",
    "    thetas = ParameterVector(\"θ\",4)\n",
    "    alpha = Parameter(\"α\")\n",
    "    noise = Parameter(\"η\")\n",
    "    # Inizializzazione dello stato misto sul qubit 0 tramite ancilla (qubit 2)\n",
    "    # Il gate prepara una sovrapposizione sull'ancilla e la entangla con il qubit target\n",
    "    ERADC_mea.append(getAncillaParametrized(alpha), [0, 2])\n",
    "\n",
    "    ERADC_mea.ry(thetas[0], 0)                      # RY su qubit sis\n",
    "    ERADC_mea.rz(thetas[1], 0)                      # RZ su qubit sis\n",
    "    \n",
    "    # Inserisce il modello di decoerenza: \n",
    "    # - se `real_noise` è True, si applica rumore realistico dal backend\n",
    "    # - altrimenti si inserisce un gate custom di amplitude damping\n",
    "    \n",
    "    ERADC_mea.append(amplitude_damping_gate_qi(noise),[0,1])\n",
    "\n",
    "    ERADC_mea.rz(thetas[2], 0)                      # RZ su qubit sis\n",
    "    ERADC_mea.ry(thetas[3], 0)                      # RY su qubit sis\n",
    "\n",
    "    # Misura il qubit del sistema (qubit 0), il risultato va nel bit classico 0    \n",
    "    ERADC_mea.measure(0, 0)\n",
    "\n",
    "    sim = NoisySimulator(backend)\n",
    "\n",
    "    job = sim.run([(ERADC_mea, params , shots)])\n",
    "    return job[0].data.c\n",
    "\n",
    "param_values = {\n",
    "    \"θ[0]\": np.pi/6,\n",
    "    \"θ[1]\": np.pi/4,\n",
    "    \"θ[2]\": np.pi/3,\n",
    "    \"θ[3]\": np.pi/2,\n",
    "    \"η\"   : theta_to_noise(np.pi/3),\n",
    "    \"α\" : 0.3\n",
    "}\n",
    "result = SimulationOfERADC_with_Ancilla_on_backend(params=param_values, backend = backend, shots = 2000)\n",
    "print(result.get_counts())"
   ]
  },
  {
   "cell_type": "markdown",
   "id": "aebc90c4",
   "metadata": {},
   "source": [
    "# Check dei circuiti creati"
   ]
  },
  {
   "cell_type": "markdown",
   "id": "3a24b8f0",
   "metadata": {},
   "source": [
    "## Check Amplitude Damping"
   ]
  },
  {
   "cell_type": "code",
   "execution_count": 47,
   "id": "30b84074",
   "metadata": {},
   "outputs": [
    {
     "name": "stdout",
     "output_type": "stream",
     "text": [
      "distanza = 0.0, distanza1 = 0.0\n",
      " eta = 0.0, alpha = 0.0\n",
      "matrice densita circuito convenzione classica\n"
     ]
    },
    {
     "data": {
      "text/latex": [
       "$$\n",
       "\n",
       "\\begin{bmatrix}\n",
       "1 & 0  \\\\\n",
       " 0 & 0  \\\\\n",
       " \\end{bmatrix}\n",
       "$$"
      ],
      "text/plain": [
       "<IPython.core.display.Latex object>"
      ]
     },
     "metadata": {},
     "output_type": "display_data"
    },
    {
     "name": "stdout",
     "output_type": "stream",
     "text": [
      "matrice densita circuito calcolato teoricamente\n"
     ]
    },
    {
     "data": {
      "text/latex": [
       "$$\n",
       "\n",
       "\\begin{bmatrix}\n",
       "1 & 0  \\\\\n",
       " 0 & 0  \\\\\n",
       " \\end{bmatrix}\n",
       "$$"
      ],
      "text/plain": [
       "<IPython.core.display.Latex object>"
      ]
     },
     "metadata": {},
     "output_type": "display_data"
    },
    {
     "name": "stdout",
     "output_type": "stream",
     "text": [
      "distanza = 0.0, distanza1 = 0.0\n",
      " eta = 0.0, alpha = 0.1\n",
      "matrice densita circuito convenzione classica\n"
     ]
    },
    {
     "data": {
      "text/latex": [
       "$$\n",
       "\n",
       "\\begin{bmatrix}\n",
       "\\frac{9}{10} & 0  \\\\\n",
       " 0 & \\frac{1}{10}  \\\\\n",
       " \\end{bmatrix}\n",
       "$$"
      ],
      "text/plain": [
       "<IPython.core.display.Latex object>"
      ]
     },
     "metadata": {},
     "output_type": "display_data"
    },
    {
     "name": "stdout",
     "output_type": "stream",
     "text": [
      "matrice densita circuito calcolato teoricamente\n"
     ]
    },
    {
     "data": {
      "text/latex": [
       "$$\n",
       "\n",
       "\\begin{bmatrix}\n",
       "\\frac{9}{10} & 0  \\\\\n",
       " 0 & \\frac{1}{10}  \\\\\n",
       " \\end{bmatrix}\n",
       "$$"
      ],
      "text/plain": [
       "<IPython.core.display.Latex object>"
      ]
     },
     "metadata": {},
     "output_type": "display_data"
    },
    {
     "name": "stdout",
     "output_type": "stream",
     "text": [
      "distanza = 0.0, distanza1 = 0.0\n",
      " eta = 0.0, alpha = 0.2\n",
      "matrice densita circuito convenzione classica\n"
     ]
    },
    {
     "data": {
      "text/latex": [
       "$$\n",
       "\n",
       "\\begin{bmatrix}\n",
       "\\frac{4}{5} & 0  \\\\\n",
       " 0 & \\frac{1}{5}  \\\\\n",
       " \\end{bmatrix}\n",
       "$$"
      ],
      "text/plain": [
       "<IPython.core.display.Latex object>"
      ]
     },
     "metadata": {},
     "output_type": "display_data"
    },
    {
     "name": "stdout",
     "output_type": "stream",
     "text": [
      "matrice densita circuito calcolato teoricamente\n"
     ]
    },
    {
     "data": {
      "text/latex": [
       "$$\n",
       "\n",
       "\\begin{bmatrix}\n",
       "\\frac{4}{5} & 0  \\\\\n",
       " 0 & \\frac{1}{5}  \\\\\n",
       " \\end{bmatrix}\n",
       "$$"
      ],
      "text/plain": [
       "<IPython.core.display.Latex object>"
      ]
     },
     "metadata": {},
     "output_type": "display_data"
    },
    {
     "name": "stdout",
     "output_type": "stream",
     "text": [
      "distanza = 0.0, distanza1 = 0.0\n",
      " eta = 0.0, alpha = 0.3\n",
      "matrice densita circuito convenzione classica\n"
     ]
    },
    {
     "data": {
      "text/latex": [
       "$$\n",
       "\n",
       "\\begin{bmatrix}\n",
       "\\frac{7}{10} & 0  \\\\\n",
       " 0 & \\frac{3}{10}  \\\\\n",
       " \\end{bmatrix}\n",
       "$$"
      ],
      "text/plain": [
       "<IPython.core.display.Latex object>"
      ]
     },
     "metadata": {},
     "output_type": "display_data"
    },
    {
     "name": "stdout",
     "output_type": "stream",
     "text": [
      "matrice densita circuito calcolato teoricamente\n"
     ]
    },
    {
     "data": {
      "text/latex": [
       "$$\n",
       "\n",
       "\\begin{bmatrix}\n",
       "\\frac{7}{10} & 0  \\\\\n",
       " 0 & \\frac{3}{10}  \\\\\n",
       " \\end{bmatrix}\n",
       "$$"
      ],
      "text/plain": [
       "<IPython.core.display.Latex object>"
      ]
     },
     "metadata": {},
     "output_type": "display_data"
    },
    {
     "name": "stdout",
     "output_type": "stream",
     "text": [
      "distanza = 0.0, distanza1 = 0.0\n",
      " eta = 0.0, alpha = 0.4\n",
      "matrice densita circuito convenzione classica\n"
     ]
    },
    {
     "data": {
      "text/latex": [
       "$$\n",
       "\n",
       "\\begin{bmatrix}\n",
       "\\frac{3}{5} & 0  \\\\\n",
       " 0 & \\frac{2}{5}  \\\\\n",
       " \\end{bmatrix}\n",
       "$$"
      ],
      "text/plain": [
       "<IPython.core.display.Latex object>"
      ]
     },
     "metadata": {},
     "output_type": "display_data"
    },
    {
     "name": "stdout",
     "output_type": "stream",
     "text": [
      "matrice densita circuito calcolato teoricamente\n"
     ]
    },
    {
     "data": {
      "text/latex": [
       "$$\n",
       "\n",
       "\\begin{bmatrix}\n",
       "\\frac{3}{5} & 0  \\\\\n",
       " 0 & \\frac{2}{5}  \\\\\n",
       " \\end{bmatrix}\n",
       "$$"
      ],
      "text/plain": [
       "<IPython.core.display.Latex object>"
      ]
     },
     "metadata": {},
     "output_type": "display_data"
    },
    {
     "name": "stdout",
     "output_type": "stream",
     "text": [
      "distanza = 0.0, distanza1 = 0.0\n",
      " eta = 0.0, alpha = 0.5\n",
      "matrice densita circuito convenzione classica\n"
     ]
    },
    {
     "data": {
      "text/latex": [
       "$$\n",
       "\n",
       "\\begin{bmatrix}\n",
       "\\frac{1}{2} & 0  \\\\\n",
       " 0 & \\frac{1}{2}  \\\\\n",
       " \\end{bmatrix}\n",
       "$$"
      ],
      "text/plain": [
       "<IPython.core.display.Latex object>"
      ]
     },
     "metadata": {},
     "output_type": "display_data"
    },
    {
     "name": "stdout",
     "output_type": "stream",
     "text": [
      "matrice densita circuito calcolato teoricamente\n"
     ]
    },
    {
     "data": {
      "text/latex": [
       "$$\n",
       "\n",
       "\\begin{bmatrix}\n",
       "\\frac{1}{2} & 0  \\\\\n",
       " 0 & \\frac{1}{2}  \\\\\n",
       " \\end{bmatrix}\n",
       "$$"
      ],
      "text/plain": [
       "<IPython.core.display.Latex object>"
      ]
     },
     "metadata": {},
     "output_type": "display_data"
    },
    {
     "name": "stdout",
     "output_type": "stream",
     "text": [
      "distanza = 0.0, distanza1 = 0.0\n",
      " eta = 0.0, alpha = 0.6\n",
      "matrice densita circuito convenzione classica\n"
     ]
    },
    {
     "data": {
      "text/latex": [
       "$$\n",
       "\n",
       "\\begin{bmatrix}\n",
       "\\frac{2}{5} & 0  \\\\\n",
       " 0 & \\frac{3}{5}  \\\\\n",
       " \\end{bmatrix}\n",
       "$$"
      ],
      "text/plain": [
       "<IPython.core.display.Latex object>"
      ]
     },
     "metadata": {},
     "output_type": "display_data"
    },
    {
     "name": "stdout",
     "output_type": "stream",
     "text": [
      "matrice densita circuito calcolato teoricamente\n"
     ]
    },
    {
     "data": {
      "text/latex": [
       "$$\n",
       "\n",
       "\\begin{bmatrix}\n",
       "\\frac{2}{5} & 0  \\\\\n",
       " 0 & \\frac{3}{5}  \\\\\n",
       " \\end{bmatrix}\n",
       "$$"
      ],
      "text/plain": [
       "<IPython.core.display.Latex object>"
      ]
     },
     "metadata": {},
     "output_type": "display_data"
    },
    {
     "name": "stdout",
     "output_type": "stream",
     "text": [
      "distanza = 0.0, distanza1 = 0.0\n",
      " eta = 0.0, alpha = 0.7\n",
      "matrice densita circuito convenzione classica\n"
     ]
    },
    {
     "data": {
      "text/latex": [
       "$$\n",
       "\n",
       "\\begin{bmatrix}\n",
       "\\frac{3}{10} & 0  \\\\\n",
       " 0 & \\frac{7}{10}  \\\\\n",
       " \\end{bmatrix}\n",
       "$$"
      ],
      "text/plain": [
       "<IPython.core.display.Latex object>"
      ]
     },
     "metadata": {},
     "output_type": "display_data"
    },
    {
     "name": "stdout",
     "output_type": "stream",
     "text": [
      "matrice densita circuito calcolato teoricamente\n"
     ]
    },
    {
     "data": {
      "text/latex": [
       "$$\n",
       "\n",
       "\\begin{bmatrix}\n",
       "\\frac{3}{10} & 0  \\\\\n",
       " 0 & \\frac{7}{10}  \\\\\n",
       " \\end{bmatrix}\n",
       "$$"
      ],
      "text/plain": [
       "<IPython.core.display.Latex object>"
      ]
     },
     "metadata": {},
     "output_type": "display_data"
    },
    {
     "name": "stdout",
     "output_type": "stream",
     "text": [
      "distanza = 0.0, distanza1 = 0.0\n",
      " eta = 0.0, alpha = 0.8\n",
      "matrice densita circuito convenzione classica\n"
     ]
    },
    {
     "data": {
      "text/latex": [
       "$$\n",
       "\n",
       "\\begin{bmatrix}\n",
       "\\frac{1}{5} & 0  \\\\\n",
       " 0 & \\frac{4}{5}  \\\\\n",
       " \\end{bmatrix}\n",
       "$$"
      ],
      "text/plain": [
       "<IPython.core.display.Latex object>"
      ]
     },
     "metadata": {},
     "output_type": "display_data"
    },
    {
     "name": "stdout",
     "output_type": "stream",
     "text": [
      "matrice densita circuito calcolato teoricamente\n"
     ]
    },
    {
     "data": {
      "text/latex": [
       "$$\n",
       "\n",
       "\\begin{bmatrix}\n",
       "\\frac{1}{5} & 0  \\\\\n",
       " 0 & \\frac{4}{5}  \\\\\n",
       " \\end{bmatrix}\n",
       "$$"
      ],
      "text/plain": [
       "<IPython.core.display.Latex object>"
      ]
     },
     "metadata": {},
     "output_type": "display_data"
    },
    {
     "name": "stdout",
     "output_type": "stream",
     "text": [
      "distanza = 0.0, distanza1 = 0.0\n",
      " eta = 0.0, alpha = 0.9\n",
      "matrice densita circuito convenzione classica\n"
     ]
    },
    {
     "data": {
      "text/latex": [
       "$$\n",
       "\n",
       "\\begin{bmatrix}\n",
       "\\frac{1}{10} & 0  \\\\\n",
       " 0 & \\frac{9}{10}  \\\\\n",
       " \\end{bmatrix}\n",
       "$$"
      ],
      "text/plain": [
       "<IPython.core.display.Latex object>"
      ]
     },
     "metadata": {},
     "output_type": "display_data"
    },
    {
     "name": "stdout",
     "output_type": "stream",
     "text": [
      "matrice densita circuito calcolato teoricamente\n"
     ]
    },
    {
     "data": {
      "text/latex": [
       "$$\n",
       "\n",
       "\\begin{bmatrix}\n",
       "\\frac{1}{10} & 0  \\\\\n",
       " 0 & \\frac{9}{10}  \\\\\n",
       " \\end{bmatrix}\n",
       "$$"
      ],
      "text/plain": [
       "<IPython.core.display.Latex object>"
      ]
     },
     "metadata": {},
     "output_type": "display_data"
    },
    {
     "name": "stdout",
     "output_type": "stream",
     "text": [
      "distanza = 0.0, distanza1 = 0.0\n",
      " eta = 0.0, alpha = 1.0\n",
      "matrice densita circuito convenzione classica\n"
     ]
    },
    {
     "data": {
      "text/latex": [
       "$$\n",
       "\n",
       "\\begin{bmatrix}\n",
       "0 & 0  \\\\\n",
       " 0 & 1  \\\\\n",
       " \\end{bmatrix}\n",
       "$$"
      ],
      "text/plain": [
       "<IPython.core.display.Latex object>"
      ]
     },
     "metadata": {},
     "output_type": "display_data"
    },
    {
     "name": "stdout",
     "output_type": "stream",
     "text": [
      "matrice densita circuito calcolato teoricamente\n"
     ]
    },
    {
     "data": {
      "text/latex": [
       "$$\n",
       "\n",
       "\\begin{bmatrix}\n",
       "0 & 0  \\\\\n",
       " 0 & 1  \\\\\n",
       " \\end{bmatrix}\n",
       "$$"
      ],
      "text/plain": [
       "<IPython.core.display.Latex object>"
      ]
     },
     "metadata": {},
     "output_type": "display_data"
    },
    {
     "name": "stdout",
     "output_type": "stream",
     "text": [
      "distanza = 0.0, distanza1 = 0.0\n",
      "distanza = 0.0, distanza1 = 0.0\n",
      "distanza = 0.0, distanza1 = 0.0\n",
      "distanza = 0.0, distanza1 = 0.0\n",
      "distanza = 0.0, distanza1 = 0.0\n",
      "distanza = 0.0, distanza1 = 0.0\n",
      "distanza = 0.0, distanza1 = 0.0\n",
      "distanza = 0.0, distanza1 = 0.0\n",
      "distanza = 0.0, distanza1 = 0.0\n",
      "distanza = 0.0, distanza1 = 0.0\n",
      "distanza = 0.0, distanza1 = 0.0\n",
      "distanza = 0.0, distanza1 = 0.0\n",
      "distanza = 0.0, distanza1 = 0.0\n",
      "distanza = 0.0, distanza1 = 0.0\n",
      "distanza = 0.0, distanza1 = 0.0\n",
      "distanza = 0.0, distanza1 = 0.0\n",
      "distanza = 0.0, distanza1 = 0.0\n",
      "distanza = 0.0, distanza1 = 0.0\n",
      "distanza = 0.0, distanza1 = 0.0\n",
      "distanza = 0.0, distanza1 = 0.0\n",
      "distanza = 0.0, distanza1 = 0.0\n",
      "distanza = 0.0, distanza1 = 0.0\n",
      "distanza = 0.0, distanza1 = 0.0\n",
      "distanza = 0.0, distanza1 = 0.0\n",
      "distanza = 0.0, distanza1 = 0.0\n",
      "distanza = 0.0, distanza1 = 0.0\n",
      "distanza = 0.0, distanza1 = 0.0\n",
      "distanza = 0.0, distanza1 = 0.0\n",
      "distanza = 0.0, distanza1 = 0.0\n",
      "distanza = 0.0, distanza1 = 0.0\n",
      "distanza = 0.0, distanza1 = 0.0\n",
      "distanza = 0.0, distanza1 = 0.0\n",
      "distanza = 0.0, distanza1 = 0.0\n",
      "distanza = 0.0, distanza1 = 0.0\n",
      "distanza = 0.0, distanza1 = 0.0\n",
      "distanza = 0.0, distanza1 = 0.0\n",
      "distanza = 0.0, distanza1 = 0.0\n",
      "distanza = 0.0, distanza1 = 0.0\n",
      "distanza = 0.0, distanza1 = 0.0\n",
      "distanza = 0.0, distanza1 = 0.0\n",
      "distanza = 0.0, distanza1 = 0.0\n",
      "distanza = 0.0, distanza1 = 0.0\n",
      "distanza = 0.0, distanza1 = 0.0\n",
      "distanza = 0.0, distanza1 = 0.0\n",
      "distanza = 0.0, distanza1 = 0.0\n",
      " eta = 0.5, alpha = 0.0\n",
      "matrice densita circuito convenzione classica\n"
     ]
    },
    {
     "data": {
      "text/latex": [
       "$$\n",
       "\n",
       "\\begin{bmatrix}\n",
       "1 & 0  \\\\\n",
       " 0 & 0  \\\\\n",
       " \\end{bmatrix}\n",
       "$$"
      ],
      "text/plain": [
       "<IPython.core.display.Latex object>"
      ]
     },
     "metadata": {},
     "output_type": "display_data"
    },
    {
     "name": "stdout",
     "output_type": "stream",
     "text": [
      "matrice densita circuito calcolato teoricamente\n"
     ]
    },
    {
     "data": {
      "text/latex": [
       "$$\n",
       "\n",
       "\\begin{bmatrix}\n",
       "1 & 0  \\\\\n",
       " 0 & 0  \\\\\n",
       " \\end{bmatrix}\n",
       "$$"
      ],
      "text/plain": [
       "<IPython.core.display.Latex object>"
      ]
     },
     "metadata": {},
     "output_type": "display_data"
    },
    {
     "name": "stdout",
     "output_type": "stream",
     "text": [
      "distanza = 1.3877787807814457e-17, distanza1 = 1.3877787807814457e-17\n",
      " eta = 0.5, alpha = 0.1\n",
      "matrice densita circuito convenzione classica\n"
     ]
    },
    {
     "data": {
      "text/latex": [
       "$$\n",
       "\n",
       "\\begin{bmatrix}\n",
       "\\frac{19}{20} & 0  \\\\\n",
       " 0 & \\frac{1}{20}  \\\\\n",
       " \\end{bmatrix}\n",
       "$$"
      ],
      "text/plain": [
       "<IPython.core.display.Latex object>"
      ]
     },
     "metadata": {},
     "output_type": "display_data"
    },
    {
     "name": "stdout",
     "output_type": "stream",
     "text": [
      "matrice densita circuito calcolato teoricamente\n"
     ]
    },
    {
     "data": {
      "text/latex": [
       "$$\n",
       "\n",
       "\\begin{bmatrix}\n",
       "\\frac{19}{20} & 0  \\\\\n",
       " 0 & \\frac{1}{20}  \\\\\n",
       " \\end{bmatrix}\n",
       "$$"
      ],
      "text/plain": [
       "<IPython.core.display.Latex object>"
      ]
     },
     "metadata": {},
     "output_type": "display_data"
    },
    {
     "name": "stdout",
     "output_type": "stream",
     "text": [
      "distanza = 2.7755575615628914e-17, distanza1 = 2.7755575615628914e-17\n",
      " eta = 0.5, alpha = 0.2\n",
      "matrice densita circuito convenzione classica\n"
     ]
    },
    {
     "data": {
      "text/latex": [
       "$$\n",
       "\n",
       "\\begin{bmatrix}\n",
       "\\frac{9}{10} & 0  \\\\\n",
       " 0 & \\frac{1}{10}  \\\\\n",
       " \\end{bmatrix}\n",
       "$$"
      ],
      "text/plain": [
       "<IPython.core.display.Latex object>"
      ]
     },
     "metadata": {},
     "output_type": "display_data"
    },
    {
     "name": "stdout",
     "output_type": "stream",
     "text": [
      "matrice densita circuito calcolato teoricamente\n"
     ]
    },
    {
     "data": {
      "text/latex": [
       "$$\n",
       "\n",
       "\\begin{bmatrix}\n",
       "\\frac{9}{10} & 0  \\\\\n",
       " 0 & \\frac{1}{10}  \\\\\n",
       " \\end{bmatrix}\n",
       "$$"
      ],
      "text/plain": [
       "<IPython.core.display.Latex object>"
      ]
     },
     "metadata": {},
     "output_type": "display_data"
    },
    {
     "name": "stdout",
     "output_type": "stream",
     "text": [
      "distanza = 5.551115123125783e-17, distanza1 = 5.551115123125783e-17\n",
      " eta = 0.5, alpha = 0.3\n",
      "matrice densita circuito convenzione classica\n"
     ]
    },
    {
     "data": {
      "text/latex": [
       "$$\n",
       "\n",
       "\\begin{bmatrix}\n",
       "\\frac{17}{20} & 0  \\\\\n",
       " 0 & \\frac{3}{20}  \\\\\n",
       " \\end{bmatrix}\n",
       "$$"
      ],
      "text/plain": [
       "<IPython.core.display.Latex object>"
      ]
     },
     "metadata": {},
     "output_type": "display_data"
    },
    {
     "name": "stdout",
     "output_type": "stream",
     "text": [
      "matrice densita circuito calcolato teoricamente\n"
     ]
    },
    {
     "data": {
      "text/latex": [
       "$$\n",
       "\n",
       "\\begin{bmatrix}\n",
       "\\frac{17}{20} & 0  \\\\\n",
       " 0 & \\frac{3}{20}  \\\\\n",
       " \\end{bmatrix}\n",
       "$$"
      ],
      "text/plain": [
       "<IPython.core.display.Latex object>"
      ]
     },
     "metadata": {},
     "output_type": "display_data"
    },
    {
     "name": "stdout",
     "output_type": "stream",
     "text": [
      "distanza = 5.551115123125783e-17, distanza1 = 5.551115123125783e-17\n",
      " eta = 0.5, alpha = 0.4\n",
      "matrice densita circuito convenzione classica\n"
     ]
    },
    {
     "data": {
      "text/latex": [
       "$$\n",
       "\n",
       "\\begin{bmatrix}\n",
       "\\frac{4}{5} & 0  \\\\\n",
       " 0 & \\frac{1}{5}  \\\\\n",
       " \\end{bmatrix}\n",
       "$$"
      ],
      "text/plain": [
       "<IPython.core.display.Latex object>"
      ]
     },
     "metadata": {},
     "output_type": "display_data"
    },
    {
     "name": "stdout",
     "output_type": "stream",
     "text": [
      "matrice densita circuito calcolato teoricamente\n"
     ]
    },
    {
     "data": {
      "text/latex": [
       "$$\n",
       "\n",
       "\\begin{bmatrix}\n",
       "\\frac{4}{5} & 0  \\\\\n",
       " 0 & \\frac{1}{5}  \\\\\n",
       " \\end{bmatrix}\n",
       "$$"
      ],
      "text/plain": [
       "<IPython.core.display.Latex object>"
      ]
     },
     "metadata": {},
     "output_type": "display_data"
    },
    {
     "name": "stdout",
     "output_type": "stream",
     "text": [
      "distanza = 1.1102230246251565e-16, distanza1 = 1.1102230246251565e-16\n",
      " eta = 0.5, alpha = 0.5\n",
      "matrice densita circuito convenzione classica\n"
     ]
    },
    {
     "data": {
      "text/latex": [
       "$$\n",
       "\n",
       "\\begin{bmatrix}\n",
       "\\frac{3}{4} & 0  \\\\\n",
       " 0 & \\frac{1}{4}  \\\\\n",
       " \\end{bmatrix}\n",
       "$$"
      ],
      "text/plain": [
       "<IPython.core.display.Latex object>"
      ]
     },
     "metadata": {},
     "output_type": "display_data"
    },
    {
     "name": "stdout",
     "output_type": "stream",
     "text": [
      "matrice densita circuito calcolato teoricamente\n"
     ]
    },
    {
     "data": {
      "text/latex": [
       "$$\n",
       "\n",
       "\\begin{bmatrix}\n",
       "\\frac{3}{4} & 0  \\\\\n",
       " 0 & \\frac{1}{4}  \\\\\n",
       " \\end{bmatrix}\n",
       "$$"
      ],
      "text/plain": [
       "<IPython.core.display.Latex object>"
      ]
     },
     "metadata": {},
     "output_type": "display_data"
    },
    {
     "name": "stdout",
     "output_type": "stream",
     "text": [
      "distanza = 1.1102230246251565e-16, distanza1 = 1.1102230246251565e-16\n",
      " eta = 0.5, alpha = 0.6\n",
      "matrice densita circuito convenzione classica\n"
     ]
    },
    {
     "data": {
      "text/latex": [
       "$$\n",
       "\n",
       "\\begin{bmatrix}\n",
       "\\frac{7}{10} & 0  \\\\\n",
       " 0 & \\frac{3}{10}  \\\\\n",
       " \\end{bmatrix}\n",
       "$$"
      ],
      "text/plain": [
       "<IPython.core.display.Latex object>"
      ]
     },
     "metadata": {},
     "output_type": "display_data"
    },
    {
     "name": "stdout",
     "output_type": "stream",
     "text": [
      "matrice densita circuito calcolato teoricamente\n"
     ]
    },
    {
     "data": {
      "text/latex": [
       "$$\n",
       "\n",
       "\\begin{bmatrix}\n",
       "\\frac{7}{10} & 0  \\\\\n",
       " 0 & \\frac{3}{10}  \\\\\n",
       " \\end{bmatrix}\n",
       "$$"
      ],
      "text/plain": [
       "<IPython.core.display.Latex object>"
      ]
     },
     "metadata": {},
     "output_type": "display_data"
    },
    {
     "name": "stdout",
     "output_type": "stream",
     "text": [
      "distanza = 1.1102230246251565e-16, distanza1 = 1.1102230246251565e-16\n",
      " eta = 0.5, alpha = 0.7\n",
      "matrice densita circuito convenzione classica\n"
     ]
    },
    {
     "data": {
      "text/latex": [
       "$$\n",
       "\n",
       "\\begin{bmatrix}\n",
       "\\frac{13}{20} & 0  \\\\\n",
       " 0 & \\frac{7}{20}  \\\\\n",
       " \\end{bmatrix}\n",
       "$$"
      ],
      "text/plain": [
       "<IPython.core.display.Latex object>"
      ]
     },
     "metadata": {},
     "output_type": "display_data"
    },
    {
     "name": "stdout",
     "output_type": "stream",
     "text": [
      "matrice densita circuito calcolato teoricamente\n"
     ]
    },
    {
     "data": {
      "text/latex": [
       "$$\n",
       "\n",
       "\\begin{bmatrix}\n",
       "\\frac{13}{20} & 0  \\\\\n",
       " 0 & \\frac{7}{20}  \\\\\n",
       " \\end{bmatrix}\n",
       "$$"
      ],
      "text/plain": [
       "<IPython.core.display.Latex object>"
      ]
     },
     "metadata": {},
     "output_type": "display_data"
    },
    {
     "name": "stdout",
     "output_type": "stream",
     "text": [
      "distanza = 1.1102230246251565e-16, distanza1 = 1.1102230246251565e-16\n",
      " eta = 0.5, alpha = 0.8\n",
      "matrice densita circuito convenzione classica\n"
     ]
    },
    {
     "data": {
      "text/latex": [
       "$$\n",
       "\n",
       "\\begin{bmatrix}\n",
       "\\frac{3}{5} & 0  \\\\\n",
       " 0 & \\frac{2}{5}  \\\\\n",
       " \\end{bmatrix}\n",
       "$$"
      ],
      "text/plain": [
       "<IPython.core.display.Latex object>"
      ]
     },
     "metadata": {},
     "output_type": "display_data"
    },
    {
     "name": "stdout",
     "output_type": "stream",
     "text": [
      "matrice densita circuito calcolato teoricamente\n"
     ]
    },
    {
     "data": {
      "text/latex": [
       "$$\n",
       "\n",
       "\\begin{bmatrix}\n",
       "\\frac{3}{5} & 0  \\\\\n",
       " 0 & \\frac{2}{5}  \\\\\n",
       " \\end{bmatrix}\n",
       "$$"
      ],
      "text/plain": [
       "<IPython.core.display.Latex object>"
      ]
     },
     "metadata": {},
     "output_type": "display_data"
    },
    {
     "name": "stdout",
     "output_type": "stream",
     "text": [
      "distanza = 1.1102230246251565e-16, distanza1 = 1.1102230246251565e-16\n",
      " eta = 0.5, alpha = 0.9\n",
      "matrice densita circuito convenzione classica\n"
     ]
    },
    {
     "data": {
      "text/latex": [
       "$$\n",
       "\n",
       "\\begin{bmatrix}\n",
       "\\frac{11}{20} & 0  \\\\\n",
       " 0 & \\frac{9}{20}  \\\\\n",
       " \\end{bmatrix}\n",
       "$$"
      ],
      "text/plain": [
       "<IPython.core.display.Latex object>"
      ]
     },
     "metadata": {},
     "output_type": "display_data"
    },
    {
     "name": "stdout",
     "output_type": "stream",
     "text": [
      "matrice densita circuito calcolato teoricamente\n"
     ]
    },
    {
     "data": {
      "text/latex": [
       "$$\n",
       "\n",
       "\\begin{bmatrix}\n",
       "\\frac{11}{20} & 0  \\\\\n",
       " 0 & \\frac{9}{20}  \\\\\n",
       " \\end{bmatrix}\n",
       "$$"
      ],
      "text/plain": [
       "<IPython.core.display.Latex object>"
      ]
     },
     "metadata": {},
     "output_type": "display_data"
    },
    {
     "name": "stdout",
     "output_type": "stream",
     "text": [
      "distanza = 2.220446049250313e-16, distanza1 = 2.220446049250313e-16\n",
      " eta = 0.5, alpha = 1.0\n",
      "matrice densita circuito convenzione classica\n"
     ]
    },
    {
     "data": {
      "text/latex": [
       "$$\n",
       "\n",
       "\\begin{bmatrix}\n",
       "\\frac{1}{2} & 0  \\\\\n",
       " 0 & \\frac{1}{2}  \\\\\n",
       " \\end{bmatrix}\n",
       "$$"
      ],
      "text/plain": [
       "<IPython.core.display.Latex object>"
      ]
     },
     "metadata": {},
     "output_type": "display_data"
    },
    {
     "name": "stdout",
     "output_type": "stream",
     "text": [
      "matrice densita circuito calcolato teoricamente\n"
     ]
    },
    {
     "data": {
      "text/latex": [
       "$$\n",
       "\n",
       "\\begin{bmatrix}\n",
       "\\frac{1}{2} & 0  \\\\\n",
       " 0 & \\frac{1}{2}  \\\\\n",
       " \\end{bmatrix}\n",
       "$$"
      ],
      "text/plain": [
       "<IPython.core.display.Latex object>"
      ]
     },
     "metadata": {},
     "output_type": "display_data"
    },
    {
     "name": "stdout",
     "output_type": "stream",
     "text": [
      "distanza = 0.0, distanza1 = 0.0\n",
      "distanza = 0.0, distanza1 = 0.0\n",
      "distanza = 0.0, distanza1 = 0.0\n",
      "distanza = 0.0, distanza1 = 0.0\n",
      "distanza = 0.0, distanza1 = 0.0\n",
      "distanza = 0.0, distanza1 = 0.0\n",
      "distanza = 0.0, distanza1 = 0.0\n",
      "distanza = 0.0, distanza1 = 0.0\n",
      "distanza = 0.0, distanza1 = 0.0\n",
      "distanza = 0.0, distanza1 = 0.0\n",
      "distanza = 0.0, distanza1 = 0.0\n",
      "distanza = 0.0, distanza1 = 0.0\n",
      "distanza = 1.0408340855860843e-17, distanza1 = 1.0408340855860843e-17\n",
      "distanza = 2.0816681711721685e-17, distanza1 = 2.0816681711721685e-17\n",
      "distanza = 2.7755575615628914e-17, distanza1 = 2.7755575615628914e-17\n",
      "distanza = 4.163336342344337e-17, distanza1 = 4.163336342344337e-17\n",
      "distanza = 8.326672684688674e-17, distanza1 = 8.326672684688674e-17\n",
      "distanza = 5.551115123125783e-17, distanza1 = 5.551115123125783e-17\n",
      "distanza = 1.1102230246251565e-16, distanza1 = 1.1102230246251565e-16\n",
      "distanza = 8.326672684688674e-17, distanza1 = 8.326672684688674e-17\n",
      "distanza = 1.1102230246251565e-16, distanza1 = 1.1102230246251565e-16\n",
      "distanza = 1.6653345369377348e-16, distanza1 = 1.6653345369377348e-16\n",
      "distanza = 0.0, distanza1 = 0.0\n",
      "distanza = 1.734723475976807e-17, distanza1 = 1.734723475976807e-17\n",
      "distanza = 3.469446951953614e-17, distanza1 = 3.469446951953614e-17\n",
      "distanza = 4.85722573273506e-17, distanza1 = 4.85722573273506e-17\n",
      "distanza = 6.938893903907228e-17, distanza1 = 6.938893903907228e-17\n",
      "distanza = 8.326672684688674e-17, distanza1 = 8.326672684688674e-17\n",
      "distanza = 9.71445146547012e-17, distanza1 = 9.71445146547012e-17\n",
      "distanza = 1.1102230246251565e-16, distanza1 = 1.1102230246251565e-16\n",
      "distanza = 1.3877787807814457e-16, distanza1 = 1.3877787807814457e-16\n",
      "distanza = 1.3877787807814457e-16, distanza1 = 1.3877787807814457e-16\n",
      "distanza = 1.6653345369377348e-16, distanza1 = 1.6653345369377348e-16\n",
      "distanza = 0.0, distanza1 = 0.0\n",
      "distanza = 3.469446951953614e-18, distanza1 = 3.469446951953614e-18\n",
      "distanza = 6.938893903907228e-18, distanza1 = 6.938893903907228e-18\n",
      "distanza = 1.0408340855860843e-17, distanza1 = 1.0408340855860843e-17\n",
      "distanza = 1.3877787807814457e-17, distanza1 = 1.3877787807814457e-17\n",
      "distanza = 2.0816681711721685e-17, distanza1 = 2.0816681711721685e-17\n",
      "distanza = 2.0816681711721685e-17, distanza1 = 2.0816681711721685e-17\n",
      "distanza = 4.163336342344337e-17, distanza1 = 4.163336342344337e-17\n",
      "distanza = 2.7755575615628914e-17, distanza1 = 2.7755575615628914e-17\n",
      "distanza = 2.7755575615628914e-17, distanza1 = 2.7755575615628914e-17\n",
      "distanza = 4.163336342344337e-17, distanza1 = 4.163336342344337e-17\n",
      "distanza = 0.0, distanza1 = 0.0\n",
      " eta = 1.0, alpha = 0.0\n",
      "matrice densita circuito convenzione classica\n"
     ]
    },
    {
     "data": {
      "text/latex": [
       "$$\n",
       "\n",
       "\\begin{bmatrix}\n",
       "1 & 0  \\\\\n",
       " 0 & 0  \\\\\n",
       " \\end{bmatrix}\n",
       "$$"
      ],
      "text/plain": [
       "<IPython.core.display.Latex object>"
      ]
     },
     "metadata": {},
     "output_type": "display_data"
    },
    {
     "name": "stdout",
     "output_type": "stream",
     "text": [
      "matrice densita circuito calcolato teoricamente\n"
     ]
    },
    {
     "data": {
      "text/latex": [
       "$$\n",
       "\n",
       "\\begin{bmatrix}\n",
       "1 & 0  \\\\\n",
       " 0 & 0  \\\\\n",
       " \\end{bmatrix}\n",
       "$$"
      ],
      "text/plain": [
       "<IPython.core.display.Latex object>"
      ]
     },
     "metadata": {},
     "output_type": "display_data"
    },
    {
     "name": "stdout",
     "output_type": "stream",
     "text": [
      "distanza = 3.7493994566546444e-34, distanza1 = 3.7493994566546444e-34\n",
      " eta = 1.0, alpha = 0.1\n",
      "matrice densita circuito convenzione classica\n"
     ]
    },
    {
     "data": {
      "text/latex": [
       "$$\n",
       "\n",
       "\\begin{bmatrix}\n",
       "1 & 0  \\\\\n",
       " 0 & 0  \\\\\n",
       " \\end{bmatrix}\n",
       "$$"
      ],
      "text/plain": [
       "<IPython.core.display.Latex object>"
      ]
     },
     "metadata": {},
     "output_type": "display_data"
    },
    {
     "name": "stdout",
     "output_type": "stream",
     "text": [
      "matrice densita circuito calcolato teoricamente\n"
     ]
    },
    {
     "data": {
      "text/latex": [
       "$$\n",
       "\n",
       "\\begin{bmatrix}\n",
       "1 & 0  \\\\\n",
       " 0 & 0  \\\\\n",
       " \\end{bmatrix}\n",
       "$$"
      ],
      "text/plain": [
       "<IPython.core.display.Latex object>"
      ]
     },
     "metadata": {},
     "output_type": "display_data"
    },
    {
     "name": "stdout",
     "output_type": "stream",
     "text": [
      "distanza = 7.498798913309289e-34, distanza1 = 7.498798913309289e-34\n",
      " eta = 1.0, alpha = 0.2\n",
      "matrice densita circuito convenzione classica\n"
     ]
    },
    {
     "data": {
      "text/latex": [
       "$$\n",
       "\n",
       "\\begin{bmatrix}\n",
       "1 & 0  \\\\\n",
       " 0 & 0  \\\\\n",
       " \\end{bmatrix}\n",
       "$$"
      ],
      "text/plain": [
       "<IPython.core.display.Latex object>"
      ]
     },
     "metadata": {},
     "output_type": "display_data"
    },
    {
     "name": "stdout",
     "output_type": "stream",
     "text": [
      "matrice densita circuito calcolato teoricamente\n"
     ]
    },
    {
     "data": {
      "text/latex": [
       "$$\n",
       "\n",
       "\\begin{bmatrix}\n",
       "1 & 0  \\\\\n",
       " 0 & 0  \\\\\n",
       " \\end{bmatrix}\n",
       "$$"
      ],
      "text/plain": [
       "<IPython.core.display.Latex object>"
      ]
     },
     "metadata": {},
     "output_type": "display_data"
    },
    {
     "name": "stdout",
     "output_type": "stream",
     "text": [
      "distanza = 1.1248198369963932e-33, distanza1 = 1.1248198369963932e-33\n",
      " eta = 1.0, alpha = 0.3\n",
      "matrice densita circuito convenzione classica\n"
     ]
    },
    {
     "data": {
      "text/latex": [
       "$$\n",
       "\n",
       "\\begin{bmatrix}\n",
       "1 & 0  \\\\\n",
       " 0 & 0  \\\\\n",
       " \\end{bmatrix}\n",
       "$$"
      ],
      "text/plain": [
       "<IPython.core.display.Latex object>"
      ]
     },
     "metadata": {},
     "output_type": "display_data"
    },
    {
     "name": "stdout",
     "output_type": "stream",
     "text": [
      "matrice densita circuito calcolato teoricamente\n"
     ]
    },
    {
     "data": {
      "text/latex": [
       "$$\n",
       "\n",
       "\\begin{bmatrix}\n",
       "1 & 0  \\\\\n",
       " 0 & 0  \\\\\n",
       " \\end{bmatrix}\n",
       "$$"
      ],
      "text/plain": [
       "<IPython.core.display.Latex object>"
      ]
     },
     "metadata": {},
     "output_type": "display_data"
    },
    {
     "name": "stdout",
     "output_type": "stream",
     "text": [
      "distanza = 1.4997597826618578e-33, distanza1 = 1.4997597826618578e-33\n",
      " eta = 1.0, alpha = 0.4\n",
      "matrice densita circuito convenzione classica\n"
     ]
    },
    {
     "data": {
      "text/latex": [
       "$$\n",
       "\n",
       "\\begin{bmatrix}\n",
       "1 & 0  \\\\\n",
       " 0 & 0  \\\\\n",
       " \\end{bmatrix}\n",
       "$$"
      ],
      "text/plain": [
       "<IPython.core.display.Latex object>"
      ]
     },
     "metadata": {},
     "output_type": "display_data"
    },
    {
     "name": "stdout",
     "output_type": "stream",
     "text": [
      "matrice densita circuito calcolato teoricamente\n"
     ]
    },
    {
     "data": {
      "text/latex": [
       "$$\n",
       "\n",
       "\\begin{bmatrix}\n",
       "1 & 0  \\\\\n",
       " 0 & 0  \\\\\n",
       " \\end{bmatrix}\n",
       "$$"
      ],
      "text/plain": [
       "<IPython.core.display.Latex object>"
      ]
     },
     "metadata": {},
     "output_type": "display_data"
    },
    {
     "name": "stdout",
     "output_type": "stream",
     "text": [
      "distanza = 1.874699728327322e-33, distanza1 = 1.874699728327322e-33\n",
      " eta = 1.0, alpha = 0.5\n",
      "matrice densita circuito convenzione classica\n"
     ]
    },
    {
     "data": {
      "text/latex": [
       "$$\n",
       "\n",
       "\\begin{bmatrix}\n",
       "1 & 0  \\\\\n",
       " 0 & 0  \\\\\n",
       " \\end{bmatrix}\n",
       "$$"
      ],
      "text/plain": [
       "<IPython.core.display.Latex object>"
      ]
     },
     "metadata": {},
     "output_type": "display_data"
    },
    {
     "name": "stdout",
     "output_type": "stream",
     "text": [
      "matrice densita circuito calcolato teoricamente\n"
     ]
    },
    {
     "data": {
      "text/latex": [
       "$$\n",
       "\n",
       "\\begin{bmatrix}\n",
       "1 & 0  \\\\\n",
       " 0 & 0  \\\\\n",
       " \\end{bmatrix}\n",
       "$$"
      ],
      "text/plain": [
       "<IPython.core.display.Latex object>"
      ]
     },
     "metadata": {},
     "output_type": "display_data"
    },
    {
     "name": "stdout",
     "output_type": "stream",
     "text": [
      "distanza = 2.2496396739927864e-33, distanza1 = 2.2496396739927864e-33\n",
      " eta = 1.0, alpha = 0.6\n",
      "matrice densita circuito convenzione classica\n"
     ]
    },
    {
     "data": {
      "text/latex": [
       "$$\n",
       "\n",
       "\\begin{bmatrix}\n",
       "1 & 0  \\\\\n",
       " 0 & 0  \\\\\n",
       " \\end{bmatrix}\n",
       "$$"
      ],
      "text/plain": [
       "<IPython.core.display.Latex object>"
      ]
     },
     "metadata": {},
     "output_type": "display_data"
    },
    {
     "name": "stdout",
     "output_type": "stream",
     "text": [
      "matrice densita circuito calcolato teoricamente\n"
     ]
    },
    {
     "data": {
      "text/latex": [
       "$$\n",
       "\n",
       "\\begin{bmatrix}\n",
       "1 & 0  \\\\\n",
       " 0 & 0  \\\\\n",
       " \\end{bmatrix}\n",
       "$$"
      ],
      "text/plain": [
       "<IPython.core.display.Latex object>"
      ]
     },
     "metadata": {},
     "output_type": "display_data"
    },
    {
     "name": "stdout",
     "output_type": "stream",
     "text": [
      "distanza = 2.6245796196582508e-33, distanza1 = 2.6245796196582508e-33\n",
      " eta = 1.0, alpha = 0.7\n",
      "matrice densita circuito convenzione classica\n"
     ]
    },
    {
     "data": {
      "text/latex": [
       "$$\n",
       "\n",
       "\\begin{bmatrix}\n",
       "1 & 0  \\\\\n",
       " 0 & 0  \\\\\n",
       " \\end{bmatrix}\n",
       "$$"
      ],
      "text/plain": [
       "<IPython.core.display.Latex object>"
      ]
     },
     "metadata": {},
     "output_type": "display_data"
    },
    {
     "name": "stdout",
     "output_type": "stream",
     "text": [
      "matrice densita circuito calcolato teoricamente\n"
     ]
    },
    {
     "data": {
      "text/latex": [
       "$$\n",
       "\n",
       "\\begin{bmatrix}\n",
       "1 & 0  \\\\\n",
       " 0 & 0  \\\\\n",
       " \\end{bmatrix}\n",
       "$$"
      ],
      "text/plain": [
       "<IPython.core.display.Latex object>"
      ]
     },
     "metadata": {},
     "output_type": "display_data"
    },
    {
     "name": "stdout",
     "output_type": "stream",
     "text": [
      "distanza = 2.9995195653237156e-33, distanza1 = 2.9995195653237156e-33\n",
      " eta = 1.0, alpha = 0.8\n",
      "matrice densita circuito convenzione classica\n"
     ]
    },
    {
     "data": {
      "text/latex": [
       "$$\n",
       "\n",
       "\\begin{bmatrix}\n",
       "1 & 0  \\\\\n",
       " 0 & 0  \\\\\n",
       " \\end{bmatrix}\n",
       "$$"
      ],
      "text/plain": [
       "<IPython.core.display.Latex object>"
      ]
     },
     "metadata": {},
     "output_type": "display_data"
    },
    {
     "name": "stdout",
     "output_type": "stream",
     "text": [
      "matrice densita circuito calcolato teoricamente\n"
     ]
    },
    {
     "data": {
      "text/latex": [
       "$$\n",
       "\n",
       "\\begin{bmatrix}\n",
       "1 & 0  \\\\\n",
       " 0 & 0  \\\\\n",
       " \\end{bmatrix}\n",
       "$$"
      ],
      "text/plain": [
       "<IPython.core.display.Latex object>"
      ]
     },
     "metadata": {},
     "output_type": "display_data"
    },
    {
     "name": "stdout",
     "output_type": "stream",
     "text": [
      "distanza = 3.3744595109891796e-33, distanza1 = 3.3744595109891796e-33\n",
      " eta = 1.0, alpha = 0.9\n",
      "matrice densita circuito convenzione classica\n"
     ]
    },
    {
     "data": {
      "text/latex": [
       "$$\n",
       "\n",
       "\\begin{bmatrix}\n",
       "1 & 0  \\\\\n",
       " 0 & 0  \\\\\n",
       " \\end{bmatrix}\n",
       "$$"
      ],
      "text/plain": [
       "<IPython.core.display.Latex object>"
      ]
     },
     "metadata": {},
     "output_type": "display_data"
    },
    {
     "name": "stdout",
     "output_type": "stream",
     "text": [
      "matrice densita circuito calcolato teoricamente\n"
     ]
    },
    {
     "data": {
      "text/latex": [
       "$$\n",
       "\n",
       "\\begin{bmatrix}\n",
       "1 & 0  \\\\\n",
       " 0 & 0  \\\\\n",
       " \\end{bmatrix}\n",
       "$$"
      ],
      "text/plain": [
       "<IPython.core.display.Latex object>"
      ]
     },
     "metadata": {},
     "output_type": "display_data"
    },
    {
     "name": "stdout",
     "output_type": "stream",
     "text": [
      "distanza = 3.749399456654644e-33, distanza1 = 3.749399456654644e-33\n",
      " eta = 1.0, alpha = 1.0\n",
      "matrice densita circuito convenzione classica\n"
     ]
    },
    {
     "data": {
      "text/latex": [
       "$$\n",
       "\n",
       "\\begin{bmatrix}\n",
       "1 & 0  \\\\\n",
       " 0 & 0  \\\\\n",
       " \\end{bmatrix}\n",
       "$$"
      ],
      "text/plain": [
       "<IPython.core.display.Latex object>"
      ]
     },
     "metadata": {},
     "output_type": "display_data"
    },
    {
     "name": "stdout",
     "output_type": "stream",
     "text": [
      "matrice densita circuito calcolato teoricamente\n"
     ]
    },
    {
     "data": {
      "text/latex": [
       "$$\n",
       "\n",
       "\\begin{bmatrix}\n",
       "1 & 0  \\\\\n",
       " 0 & 0  \\\\\n",
       " \\end{bmatrix}\n",
       "$$"
      ],
      "text/plain": [
       "<IPython.core.display.Latex object>"
      ]
     },
     "metadata": {},
     "output_type": "display_data"
    }
   ],
   "source": [
    "eta = [round(i * 0.1, 1) for i in range(11)]\n",
    "\n",
    "alpha = [round(i * 0.1, 1) for i in range(11)]\n",
    "\n",
    "eta_p = Parameter(\"eta\")\n",
    "qc0 = QuantumCircuit(2, name =\"test\")\n",
    "qc0.append(amplitude_damping_gate(eta_p),[0,1])\n",
    "\n",
    "qc1 = QuantumCircuit(2, name =\"test\")\n",
    "qc1.append(amplitude_damping_gate_qi(eta_p), [0,1])\n",
    "\n",
    "for e in eta:\n",
    "    for a in alpha:\n",
    "        kraus_op_adc_0 = [[1, 0],[0,np.sqrt(1-e)]]\n",
    "        kraus_op_adc_0_dag = Operator(kraus_op_adc_0).adjoint().data\n",
    "\n",
    "        kraus_op_adc_1 = [[0, np.sqrt(e)],[0,0]]\n",
    "        kraus_op_adc_1_dag = Operator(kraus_op_adc_1).adjoint().data\n",
    "\n",
    "        rho_in_total = initial_mixed_state_real_density_matrix(a)\n",
    "        rho_in_sis = partial_trace(rho_in_total, [0]).to_operator()\n",
    "        # calcolo esplicitamente la matrice densità di output dal circuito teorico\n",
    "        rho_out_teorical = DensityMatrix(kraus_op_adc_0 @ rho_in_sis.data @ kraus_op_adc_0_dag + kraus_op_adc_1 @ rho_in_sis.data @ kraus_op_adc_1_dag)\n",
    "        rho_out_teorical.draw(\"latex\")\n",
    "\n",
    "        # calcolo faccio evolvere i circuiti e ottengo la matrice densità di output dai due circuiti e la confronto su un insieme di dati in ingresso\n",
    "        rho_out_total_cir  = rho_in_total.evolve(qc0.assign_parameters({eta_p : e}) )\n",
    "        rho_out_cir = partial_trace(rho_out_total_cir, [0])\n",
    "\n",
    "        rho_out_total_cir_q  = reverse_qargs_density_matrix(rho_in_total).evolve(qc1.assign_parameters({eta_p : e}))\n",
    "        rho_out_cir_q = partial_trace(rho_out_total_cir_q, [1])\n",
    "\n",
    "        # Calcola la distanza di Frobenius tra le due matrici\n",
    "        distance = np.linalg.norm(rho_out_teorical.data - rho_out_cir.data, ord='fro')\n",
    "        distance1 = np.linalg.norm(rho_out_teorical.data - rho_out_cir_q.data, ord='fro')\n",
    "\n",
    "        if not((rho_out_cir.to_operator().equiv(rho_out_teorical.to_operator())) and (rho_out_cir_q.to_operator().equiv(rho_out_teorical.to_operator()))):\n",
    "            print(f\"Rho diversi per eta = {e}, alpha = {a}\")\n",
    "            print(\"matrice densita circuito convenzione classica\")\n",
    "            display(rho_out_cir.draw(\"latex\"))\n",
    "            print(\"matrice densita circuito convenzione qiskit\")\n",
    "            display(rho_out_cir_q.draw(\"latex\"))\n",
    "            print(\"matrice densita circuito calcolato teoricamente\")\n",
    "            display(rho_out_teorical.draw(\"latex\"))\n",
    "            print(f\"Distanza dei due stati teorico e conv. clas.: {distance:.6f}, teorico e conv. qiskit: {distance1:.6f}\")\n",
    "            raise(\"matrici diverse tra loro\")\n",
    "        else:\n",
    "            print(f\"distanza = {distance}, distanza1 = {distance1}\")\n",
    "            if(e == 0) or (e == 0.5) or (e==1):\n",
    "                print(f\" eta = {e}, alpha = {a}\")\n",
    "                print(\"matrice densita circuito convenzione classica\")\n",
    "                display(rho_out_cir.draw(\"latex\"))\n",
    "                # print(\"matrice densita circuito convenzione qiskit\")\n",
    "                # display(rho_out_cir_q.draw(\"latex\"))\n",
    "                print(\"matrice densita circuito calcolato teoricamente\")\n",
    "                display(rho_out_teorical.draw(\"latex\"))\n",
    "            \n",
    "        \n"
   ]
  },
  {
   "cell_type": "markdown",
   "id": "5cbd1167",
   "metadata": {},
   "source": [
    "## Check ancilla"
   ]
  },
  {
   "cell_type": "code",
   "execution_count": 48,
   "id": "6008c640",
   "metadata": {},
   "outputs": [
    {
     "name": "stdout",
     "output_type": "stream",
     "text": [
      "distanza = 0.0, distanza1 = 0.0\n",
      "alpha = 0.0\n",
      "matrice densita circuito convenzione classica\n"
     ]
    },
    {
     "data": {
      "text/latex": [
       "$$\n",
       "\n",
       "\\begin{bmatrix}\n",
       "1 & 0  \\\\\n",
       " 0 & 0  \\\\\n",
       " \\end{bmatrix}\n",
       "$$"
      ],
      "text/plain": [
       "<IPython.core.display.Latex object>"
      ]
     },
     "metadata": {},
     "output_type": "display_data"
    },
    {
     "name": "stdout",
     "output_type": "stream",
     "text": [
      "matrice densita circuito calcolato teoricamente\n"
     ]
    },
    {
     "data": {
      "text/latex": [
       "$$\n",
       "\n",
       "\\begin{bmatrix}\n",
       "1 & 0  \\\\\n",
       " 0 & 0  \\\\\n",
       " \\end{bmatrix}\n",
       "$$"
      ],
      "text/plain": [
       "<IPython.core.display.Latex object>"
      ]
     },
     "metadata": {},
     "output_type": "display_data"
    },
    {
     "name": "stdout",
     "output_type": "stream",
     "text": [
      "distanza = 1.1102230246251565e-16, distanza1 = 1.1102230246251565e-16\n",
      "alpha = 0.1\n",
      "matrice densita circuito convenzione classica\n"
     ]
    },
    {
     "data": {
      "text/latex": [
       "$$\n",
       "\n",
       "\\begin{bmatrix}\n",
       "\\frac{9}{10} & 0  \\\\\n",
       " 0 & \\frac{1}{10}  \\\\\n",
       " \\end{bmatrix}\n",
       "$$"
      ],
      "text/plain": [
       "<IPython.core.display.Latex object>"
      ]
     },
     "metadata": {},
     "output_type": "display_data"
    },
    {
     "name": "stdout",
     "output_type": "stream",
     "text": [
      "matrice densita circuito calcolato teoricamente\n"
     ]
    },
    {
     "data": {
      "text/latex": [
       "$$\n",
       "\n",
       "\\begin{bmatrix}\n",
       "\\frac{9}{10} & 0  \\\\\n",
       " 0 & \\frac{1}{10}  \\\\\n",
       " \\end{bmatrix}\n",
       "$$"
      ],
      "text/plain": [
       "<IPython.core.display.Latex object>"
      ]
     },
     "metadata": {},
     "output_type": "display_data"
    },
    {
     "name": "stdout",
     "output_type": "stream",
     "text": [
      "distanza = 1.1443916996305594e-16, distanza1 = 1.1443916996305594e-16\n",
      "alpha = 0.2\n",
      "matrice densita circuito convenzione classica\n"
     ]
    },
    {
     "data": {
      "text/latex": [
       "$$\n",
       "\n",
       "\\begin{bmatrix}\n",
       "\\frac{4}{5} & 0  \\\\\n",
       " 0 & \\frac{1}{5}  \\\\\n",
       " \\end{bmatrix}\n",
       "$$"
      ],
      "text/plain": [
       "<IPython.core.display.Latex object>"
      ]
     },
     "metadata": {},
     "output_type": "display_data"
    },
    {
     "name": "stdout",
     "output_type": "stream",
     "text": [
      "matrice densita circuito calcolato teoricamente\n"
     ]
    },
    {
     "data": {
      "text/latex": [
       "$$\n",
       "\n",
       "\\begin{bmatrix}\n",
       "\\frac{4}{5} & 0  \\\\\n",
       " 0 & \\frac{1}{5}  \\\\\n",
       " \\end{bmatrix}\n",
       "$$"
      ],
      "text/plain": [
       "<IPython.core.display.Latex object>"
      ]
     },
     "metadata": {},
     "output_type": "display_data"
    },
    {
     "name": "stdout",
     "output_type": "stream",
     "text": [
      "distanza = 1.2412670766236366e-16, distanza1 = 1.2412670766236366e-16\n",
      "alpha = 0.3\n",
      "matrice densita circuito convenzione classica\n"
     ]
    },
    {
     "data": {
      "text/latex": [
       "$$\n",
       "\n",
       "\\begin{bmatrix}\n",
       "\\frac{7}{10} & 0  \\\\\n",
       " 0 & \\frac{3}{10}  \\\\\n",
       " \\end{bmatrix}\n",
       "$$"
      ],
      "text/plain": [
       "<IPython.core.display.Latex object>"
      ]
     },
     "metadata": {},
     "output_type": "display_data"
    },
    {
     "name": "stdout",
     "output_type": "stream",
     "text": [
      "matrice densita circuito calcolato teoricamente\n"
     ]
    },
    {
     "data": {
      "text/latex": [
       "$$\n",
       "\n",
       "\\begin{bmatrix}\n",
       "\\frac{7}{10} & 0  \\\\\n",
       " 0 & \\frac{3}{10}  \\\\\n",
       " \\end{bmatrix}\n",
       "$$"
      ],
      "text/plain": [
       "<IPython.core.display.Latex object>"
      ]
     },
     "metadata": {},
     "output_type": "display_data"
    },
    {
     "name": "stdout",
     "output_type": "stream",
     "text": [
      "distanza = 1.1102230246251565e-16, distanza1 = 1.1102230246251565e-16\n",
      "alpha = 0.4\n",
      "matrice densita circuito convenzione classica\n"
     ]
    },
    {
     "data": {
      "text/latex": [
       "$$\n",
       "\n",
       "\\begin{bmatrix}\n",
       "\\frac{3}{5} & 0  \\\\\n",
       " 0 & \\frac{2}{5}  \\\\\n",
       " \\end{bmatrix}\n",
       "$$"
      ],
      "text/plain": [
       "<IPython.core.display.Latex object>"
      ]
     },
     "metadata": {},
     "output_type": "display_data"
    },
    {
     "name": "stdout",
     "output_type": "stream",
     "text": [
      "matrice densita circuito calcolato teoricamente\n"
     ]
    },
    {
     "data": {
      "text/latex": [
       "$$\n",
       "\n",
       "\\begin{bmatrix}\n",
       "\\frac{3}{5} & 0  \\\\\n",
       " 0 & \\frac{2}{5}  \\\\\n",
       " \\end{bmatrix}\n",
       "$$"
      ],
      "text/plain": [
       "<IPython.core.display.Latex object>"
      ]
     },
     "metadata": {},
     "output_type": "display_data"
    },
    {
     "name": "stdout",
     "output_type": "stream",
     "text": [
      "distanza = 1.5700924586837752e-16, distanza1 = 1.5700924586837752e-16\n",
      "alpha = 0.5\n",
      "matrice densita circuito convenzione classica\n"
     ]
    },
    {
     "data": {
      "text/latex": [
       "$$\n",
       "\n",
       "\\begin{bmatrix}\n",
       "\\frac{1}{2} & 0  \\\\\n",
       " 0 & \\frac{1}{2}  \\\\\n",
       " \\end{bmatrix}\n",
       "$$"
      ],
      "text/plain": [
       "<IPython.core.display.Latex object>"
      ]
     },
     "metadata": {},
     "output_type": "display_data"
    },
    {
     "name": "stdout",
     "output_type": "stream",
     "text": [
      "matrice densita circuito calcolato teoricamente\n"
     ]
    },
    {
     "data": {
      "text/latex": [
       "$$\n",
       "\n",
       "\\begin{bmatrix}\n",
       "\\frac{1}{2} & 0  \\\\\n",
       " 0 & \\frac{1}{2}  \\\\\n",
       " \\end{bmatrix}\n",
       "$$"
      ],
      "text/plain": [
       "<IPython.core.display.Latex object>"
      ]
     },
     "metadata": {},
     "output_type": "display_data"
    },
    {
     "name": "stdout",
     "output_type": "stream",
     "text": [
      "distanza = 1.1102230246251565e-16, distanza1 = 1.1102230246251565e-16\n",
      "alpha = 0.6\n",
      "matrice densita circuito convenzione classica\n"
     ]
    },
    {
     "data": {
      "text/latex": [
       "$$\n",
       "\n",
       "\\begin{bmatrix}\n",
       "\\frac{2}{5} & 0  \\\\\n",
       " 0 & \\frac{3}{5}  \\\\\n",
       " \\end{bmatrix}\n",
       "$$"
      ],
      "text/plain": [
       "<IPython.core.display.Latex object>"
      ]
     },
     "metadata": {},
     "output_type": "display_data"
    },
    {
     "name": "stdout",
     "output_type": "stream",
     "text": [
      "matrice densita circuito calcolato teoricamente\n"
     ]
    },
    {
     "data": {
      "text/latex": [
       "$$\n",
       "\n",
       "\\begin{bmatrix}\n",
       "\\frac{2}{5} & 0  \\\\\n",
       " 0 & \\frac{3}{5}  \\\\\n",
       " \\end{bmatrix}\n",
       "$$"
      ],
      "text/plain": [
       "<IPython.core.display.Latex object>"
      ]
     },
     "metadata": {},
     "output_type": "display_data"
    },
    {
     "name": "stdout",
     "output_type": "stream",
     "text": [
      "distanza = 1.5700924586837752e-16, distanza1 = 1.5700924586837752e-16\n",
      "alpha = 0.7\n",
      "matrice densita circuito convenzione classica\n"
     ]
    },
    {
     "data": {
      "text/latex": [
       "$$\n",
       "\n",
       "\\begin{bmatrix}\n",
       "\\frac{3}{10} & 0  \\\\\n",
       " 0 & \\frac{7}{10}  \\\\\n",
       " \\end{bmatrix}\n",
       "$$"
      ],
      "text/plain": [
       "<IPython.core.display.Latex object>"
      ]
     },
     "metadata": {},
     "output_type": "display_data"
    },
    {
     "name": "stdout",
     "output_type": "stream",
     "text": [
      "matrice densita circuito calcolato teoricamente\n"
     ]
    },
    {
     "data": {
      "text/latex": [
       "$$\n",
       "\n",
       "\\begin{bmatrix}\n",
       "\\frac{3}{10} & 0  \\\\\n",
       " 0 & \\frac{7}{10}  \\\\\n",
       " \\end{bmatrix}\n",
       "$$"
      ],
      "text/plain": [
       "<IPython.core.display.Latex object>"
      ]
     },
     "metadata": {},
     "output_type": "display_data"
    },
    {
     "name": "stdout",
     "output_type": "stream",
     "text": [
      "distanza = 1.7772239894833365e-16, distanza1 = 1.7772239894833365e-16\n",
      "alpha = 0.8\n",
      "matrice densita circuito convenzione classica\n"
     ]
    },
    {
     "data": {
      "text/latex": [
       "$$\n",
       "\n",
       "\\begin{bmatrix}\n",
       "\\frac{1}{5} & 0  \\\\\n",
       " 0 & \\frac{4}{5}  \\\\\n",
       " \\end{bmatrix}\n",
       "$$"
      ],
      "text/plain": [
       "<IPython.core.display.Latex object>"
      ]
     },
     "metadata": {},
     "output_type": "display_data"
    },
    {
     "name": "stdout",
     "output_type": "stream",
     "text": [
      "matrice densita circuito calcolato teoricamente\n"
     ]
    },
    {
     "data": {
      "text/latex": [
       "$$\n",
       "\n",
       "\\begin{bmatrix}\n",
       "\\frac{1}{5} & 0  \\\\\n",
       " 0 & \\frac{4}{5}  \\\\\n",
       " \\end{bmatrix}\n",
       "$$"
      ],
      "text/plain": [
       "<IPython.core.display.Latex object>"
      ]
     },
     "metadata": {},
     "output_type": "display_data"
    },
    {
     "name": "stdout",
     "output_type": "stream",
     "text": [
      "distanza = 1.1443916996305594e-16, distanza1 = 1.1443916996305594e-16\n",
      "alpha = 0.9\n",
      "matrice densita circuito convenzione classica\n"
     ]
    },
    {
     "data": {
      "text/latex": [
       "$$\n",
       "\n",
       "\\begin{bmatrix}\n",
       "\\frac{1}{10} & 0  \\\\\n",
       " 0 & \\frac{9}{10}  \\\\\n",
       " \\end{bmatrix}\n",
       "$$"
      ],
      "text/plain": [
       "<IPython.core.display.Latex object>"
      ]
     },
     "metadata": {},
     "output_type": "display_data"
    },
    {
     "name": "stdout",
     "output_type": "stream",
     "text": [
      "matrice densita circuito calcolato teoricamente\n"
     ]
    },
    {
     "data": {
      "text/latex": [
       "$$\n",
       "\n",
       "\\begin{bmatrix}\n",
       "\\frac{1}{10} & 0  \\\\\n",
       " 0 & \\frac{9}{10}  \\\\\n",
       " \\end{bmatrix}\n",
       "$$"
      ],
      "text/plain": [
       "<IPython.core.display.Latex object>"
      ]
     },
     "metadata": {},
     "output_type": "display_data"
    },
    {
     "name": "stdout",
     "output_type": "stream",
     "text": [
      "distanza = 3.749399456654644e-33, distanza1 = 3.749399456654644e-33\n",
      "alpha = 1.0\n",
      "matrice densita circuito convenzione classica\n"
     ]
    },
    {
     "data": {
      "text/latex": [
       "$$\n",
       "\n",
       "\\begin{bmatrix}\n",
       "0 & 0  \\\\\n",
       " 0 & 1  \\\\\n",
       " \\end{bmatrix}\n",
       "$$"
      ],
      "text/plain": [
       "<IPython.core.display.Latex object>"
      ]
     },
     "metadata": {},
     "output_type": "display_data"
    },
    {
     "name": "stdout",
     "output_type": "stream",
     "text": [
      "matrice densita circuito calcolato teoricamente\n"
     ]
    },
    {
     "data": {
      "text/latex": [
       "$$\n",
       "\n",
       "\\begin{bmatrix}\n",
       "0 & 0  \\\\\n",
       " 0 & 1  \\\\\n",
       " \\end{bmatrix}\n",
       "$$"
      ],
      "text/plain": [
       "<IPython.core.display.Latex object>"
      ]
     },
     "metadata": {},
     "output_type": "display_data"
    }
   ],
   "source": [
    "alpha = [round(i * 0.1, 1) for i in range(11)]\n",
    "alpha_par = Parameter(\"alpha\")\n",
    "qc = QuantumCircuit(3, name = \"test\")\n",
    "qc.append(getAncillaParametrized(alpha_par), [0,2])\n",
    "for a in alpha:\n",
    "    rho_teorical = DensityMatrix([[1-a , 0],[0 , a]])\n",
    "    rho_out_cir = DensityMatrix.from_label('000').evolve(qc.assign_parameters({alpha_par : a}))\n",
    "    rho_out_class = partial_trace(rho_out_cir, [0,1])\n",
    "    rho_out_qi = partial_trace(rho_out_cir, [1,2])\n",
    "    # Calcola la distanza di Frobenius tra le due matrici\n",
    "    distance = np.linalg.norm(rho_teorical.data - rho_out_class.data, ord='fro')\n",
    "    distance1 = np.linalg.norm(rho_teorical.data - rho_out_qi.data, ord='fro')\n",
    "\n",
    "    if not((rho_out_class.to_operator().equiv(rho_teorical.to_operator())) and (rho_out_qi.to_operator().equiv(rho_teorical.to_operator()))):\n",
    "        print(f\"Rho diversi per alpha = {a}\")\n",
    "        print(\"matrice densita circuito convenzione classica\")\n",
    "        display(rho_out_class.draw(\"latex\"))\n",
    "        print(\"matrice densita circuito convenzione qiskit\")\n",
    "        display(rho_out_qi.draw(\"latex\"))\n",
    "        print(\"matrice densita circuito calcolato teoricamente\")\n",
    "        display(rho_teorical.draw(\"latex\"))\n",
    "        print(f\"Distanza dei due stati teorico e conv. clas.: {distance:.6f}, teorico e conv. qiskit: {distance1:.6f}\")\n",
    "        raise(\"matrici diverse tra loro\")\n",
    "    else:\n",
    "        print(f\"distanza = {distance}, distanza1 = {distance1}\")\n",
    "        if(e == 0) or (e == 0.5) or (e==1):\n",
    "            print(f\"alpha = {a}\")\n",
    "            print(\"matrice densita circuito convenzione classica\")\n",
    "            display(rho_out_class.draw(\"latex\"))\n",
    "            # print(\"matrice densita circuito convenzione qiskit\")\n",
    "            # display(rho_out_cir_q.draw(\"latex\"))\n",
    "            print(\"matrice densita circuito calcolato teoricamente\")\n",
    "            display(rho_teorical.draw(\"latex\"))"
   ]
  },
  {
   "cell_type": "markdown",
   "id": "07d137d9",
   "metadata": {},
   "source": [
    "## Check canale per il calcolo error rate"
   ]
  },
  {
   "cell_type": "code",
   "execution_count": 49,
   "id": "23842764",
   "metadata": {},
   "outputs": [
    {
     "data": {
      "image/png": "[encoded data removed]",
      "text/plain": [
       "<Figure size 538.128x200.667 with 1 Axes>"
      ]
     },
     "metadata": {},
     "output_type": "display_data"
    },
    {
     "name": "stdout",
     "output_type": "stream",
     "text": [
      "distanza = 0.0, distanza1 = 0.0\n",
      "Operatori per t0 = 0.0, t01 = 0.0,t2 = 0.0,t3 = 0.0\n",
      "Operatore circuito convenzione classica\n"
     ]
    },
    {
     "data": {
      "text/latex": [
       "$$\n",
       "\n",
       "\\begin{bmatrix}\n",
       "1 & 0 & 0 & 0  \\\\\n",
       " 0 & 0 & \\frac{1}{2} & \\frac{\\sqrt{3}}{2}  \\\\\n",
       " 0 & 0 & \\frac{\\sqrt{3}}{2} & - \\frac{1}{2}  \\\\\n",
       " 0 & 1 & 0 & 0  \\\\\n",
       " \\end{bmatrix}\n",
       "$$"
      ],
      "text/plain": [
       "<IPython.core.display.Latex object>"
      ]
     },
     "metadata": {},
     "output_type": "display_data"
    },
    {
     "name": "stdout",
     "output_type": "stream",
     "text": [
      "Operatore circuito convenzione classica calcolato teoricamente\n"
     ]
    },
    {
     "data": {
      "text/latex": [
       "$$\n",
       "\n",
       "\\begin{bmatrix}\n",
       "1 & 0 & 0 & 0  \\\\\n",
       " 0 & 0 & \\frac{1}{2} & \\frac{\\sqrt{3}}{2}  \\\\\n",
       " 0 & 0 & \\frac{\\sqrt{3}}{2} & - \\frac{1}{2}  \\\\\n",
       " 0 & 1 & 0 & 0  \\\\\n",
       " \\end{bmatrix}\n",
       "$$"
      ],
      "text/plain": [
       "<IPython.core.display.Latex object>"
      ]
     },
     "metadata": {},
     "output_type": "display_data"
    },
    {
     "name": "stdout",
     "output_type": "stream",
     "text": [
      "distanza = 0.0, distanza1 = 0.0\n",
      " t0 = 0.0, t01 = 0.0,t2 = 0.0,t3 = 0.0\n",
      "matrice densita output circuito convenzione classica\n"
     ]
    },
    {
     "data": {
      "text/latex": [
       "$$\n",
       "\n",
       "\\begin{bmatrix}\n",
       "\\frac{1}{4} & 0  \\\\\n",
       " 0 & \\frac{3}{4}  \\\\\n",
       " \\end{bmatrix}\n",
       "$$"
      ],
      "text/plain": [
       "<IPython.core.display.Latex object>"
      ]
     },
     "metadata": {},
     "output_type": "display_data"
    },
    {
     "name": "stdout",
     "output_type": "stream",
     "text": [
      "matrice densita output circuito calcolato teoricamente\n"
     ]
    },
    {
     "data": {
      "text/latex": [
       "$$\n",
       "\n",
       "\\begin{bmatrix}\n",
       "\\frac{1}{4} & 0  \\\\\n",
       " 0 & \\frac{3}{4}  \\\\\n",
       " \\end{bmatrix}\n",
       "$$"
      ],
      "text/plain": [
       "<IPython.core.display.Latex object>"
      ]
     },
     "metadata": {},
     "output_type": "display_data"
    },
    {
     "name": "stdout",
     "output_type": "stream",
     "text": [
      "distanza = 0.0, distanza1 = 0.0\n",
      "Operatori per t0 = 0.0, t01 = 0.7853981633974483,t2 = 0.7853981633974483,t3 = 0.0\n",
      "Operatore circuito convenzione classica\n"
     ]
    },
    {
     "data": {
      "text/latex": [
       "$$\n",
       "\n",
       "\\begin{bmatrix}\n",
       "\\frac{\\sqrt{2}}{2} - \\frac{\\sqrt{2} i}{2} & 0 & 0 & 0  \\\\\n",
       " 0 & 0 & \\frac{1}{2} & \\frac{\\sqrt{3}}{2}  \\\\\n",
       " 0 & 0 & \\frac{\\sqrt{6}}{4} + \\frac{\\sqrt{6} i}{4} & - \\frac{\\sqrt{2}}{4} - \\frac{\\sqrt{2} i}{4}  \\\\\n",
       " 0 & 1 & 0 & 0  \\\\\n",
       " \\end{bmatrix}\n",
       "$$"
      ],
      "text/plain": [
       "<IPython.core.display.Latex object>"
      ]
     },
     "metadata": {},
     "output_type": "display_data"
    },
    {
     "name": "stdout",
     "output_type": "stream",
     "text": [
      "Operatore circuito convenzione classica calcolato teoricamente\n"
     ]
    },
    {
     "data": {
      "text/latex": [
       "$$\n",
       "\n",
       "\\begin{bmatrix}\n",
       "\\frac{\\sqrt{2}}{2} - \\frac{\\sqrt{2} i}{2} & 0 & 0 & 0  \\\\\n",
       " 0 & 0 & \\frac{1}{2} & \\frac{\\sqrt{3}}{2}  \\\\\n",
       " 0 & 0 & \\frac{\\sqrt{6}}{4} + \\frac{\\sqrt{6} i}{4} & - \\frac{\\sqrt{2}}{4} - \\frac{\\sqrt{2} i}{4}  \\\\\n",
       " 0 & 1 & 0 & 0  \\\\\n",
       " \\end{bmatrix}\n",
       "$$"
      ],
      "text/plain": [
       "<IPython.core.display.Latex object>"
      ]
     },
     "metadata": {},
     "output_type": "display_data"
    },
    {
     "name": "stdout",
     "output_type": "stream",
     "text": [
      "distanza = 0.0, distanza1 = 0.0\n",
      " t0 = 0.0, t01 = 0.7853981633974483,t2 = 0.7853981633974483,t3 = 0.0\n",
      "matrice densita output circuito convenzione classica\n"
     ]
    },
    {
     "data": {
      "text/latex": [
       "$$\n",
       "\n",
       "\\begin{bmatrix}\n",
       "\\frac{1}{4} & 0  \\\\\n",
       " 0 & \\frac{3}{4}  \\\\\n",
       " \\end{bmatrix}\n",
       "$$"
      ],
      "text/plain": [
       "<IPython.core.display.Latex object>"
      ]
     },
     "metadata": {},
     "output_type": "display_data"
    },
    {
     "name": "stdout",
     "output_type": "stream",
     "text": [
      "matrice densita output circuito calcolato teoricamente\n"
     ]
    },
    {
     "data": {
      "text/latex": [
       "$$\n",
       "\n",
       "\\begin{bmatrix}\n",
       "\\frac{1}{4} & 0  \\\\\n",
       " 0 & \\frac{3}{4}  \\\\\n",
       " \\end{bmatrix}\n",
       "$$"
      ],
      "text/plain": [
       "<IPython.core.display.Latex object>"
      ]
     },
     "metadata": {},
     "output_type": "display_data"
    },
    {
     "name": "stdout",
     "output_type": "stream",
     "text": [
      "distanza = 0.0, distanza1 = 0.0\n",
      "Operatori per t0 = 0.0, t01 = 1.5707963267948966,t2 = 1.5707963267948966,t3 = 0.0\n",
      "Operatore circuito convenzione classica\n"
     ]
    },
    {
     "data": {
      "text/latex": [
       "$$\n",
       "\n",
       "\\begin{bmatrix}\n",
       "- i & 0 & 0 & 0  \\\\\n",
       " 0 & 0 & \\frac{1}{2} & \\frac{\\sqrt{3}}{2}  \\\\\n",
       " 0 & 0 & \\frac{\\sqrt{3} i}{2} & - \\frac{i}{2}  \\\\\n",
       " 0 & 1 & 0 & 0  \\\\\n",
       " \\end{bmatrix}\n",
       "$$"
      ],
      "text/plain": [
       "<IPython.core.display.Latex object>"
      ]
     },
     "metadata": {},
     "output_type": "display_data"
    },
    {
     "name": "stdout",
     "output_type": "stream",
     "text": [
      "Operatore circuito convenzione classica calcolato teoricamente\n"
     ]
    },
    {
     "data": {
      "text/latex": [
       "$$\n",
       "\n",
       "\\begin{bmatrix}\n",
       "- i & 0 & 0 & 0  \\\\\n",
       " 0 & 0 & \\frac{1}{2} & \\frac{\\sqrt{3}}{2}  \\\\\n",
       " 0 & 0 & \\frac{\\sqrt{3} i}{2} & - \\frac{i}{2}  \\\\\n",
       " 0 & 1 & 0 & 0  \\\\\n",
       " \\end{bmatrix}\n",
       "$$"
      ],
      "text/plain": [
       "<IPython.core.display.Latex object>"
      ]
     },
     "metadata": {},
     "output_type": "display_data"
    },
    {
     "name": "stdout",
     "output_type": "stream",
     "text": [
      "distanza = 0.0, distanza1 = 0.0\n",
      " t0 = 0.0, t01 = 1.5707963267948966,t2 = 1.5707963267948966,t3 = 0.0\n",
      "matrice densita output circuito convenzione classica\n"
     ]
    },
    {
     "data": {
      "text/latex": [
       "$$\n",
       "\n",
       "\\begin{bmatrix}\n",
       "\\frac{1}{4} & 0  \\\\\n",
       " 0 & \\frac{3}{4}  \\\\\n",
       " \\end{bmatrix}\n",
       "$$"
      ],
      "text/plain": [
       "<IPython.core.display.Latex object>"
      ]
     },
     "metadata": {},
     "output_type": "display_data"
    },
    {
     "name": "stdout",
     "output_type": "stream",
     "text": [
      "matrice densita output circuito calcolato teoricamente\n"
     ]
    },
    {
     "data": {
      "text/latex": [
       "$$\n",
       "\n",
       "\\begin{bmatrix}\n",
       "\\frac{1}{4} & 0  \\\\\n",
       " 0 & \\frac{3}{4}  \\\\\n",
       " \\end{bmatrix}\n",
       "$$"
      ],
      "text/plain": [
       "<IPython.core.display.Latex object>"
      ]
     },
     "metadata": {},
     "output_type": "display_data"
    },
    {
     "name": "stdout",
     "output_type": "stream",
     "text": [
      "distanza = 1.1102230246251565e-16, distanza1 = 1.1102230246251565e-16\n",
      "Operatori per t0 = 0.0, t01 = 2.356194490192345,t2 = 2.356194490192345,t3 = 0.0\n",
      "Operatore circuito convenzione classica\n"
     ]
    },
    {
     "data": {
      "text/latex": [
       "$$\n",
       "\n",
       "\\begin{bmatrix}\n",
       "- \\frac{\\sqrt{2}}{2} - \\frac{\\sqrt{2} i}{2} & 0 & 0 & 0  \\\\\n",
       " 0 & 0 & \\frac{1}{2} & \\frac{\\sqrt{3}}{2}  \\\\\n",
       " 0 & 0 & - \\frac{\\sqrt{6}}{4} + \\frac{\\sqrt{6} i}{4} & \\frac{\\sqrt{2}}{4} - \\frac{\\sqrt{2} i}{4}  \\\\\n",
       " 0 & 1 & 0 & 0  \\\\\n",
       " \\end{bmatrix}\n",
       "$$"
      ],
      "text/plain": [
       "<IPython.core.display.Latex object>"
      ]
     },
     "metadata": {},
     "output_type": "display_data"
    },
    {
     "name": "stdout",
     "output_type": "stream",
     "text": [
      "Operatore circuito convenzione classica calcolato teoricamente\n"
     ]
    },
    {
     "data": {
      "text/latex": [
       "$$\n",
       "\n",
       "\\begin{bmatrix}\n",
       "- \\frac{\\sqrt{2}}{2} - \\frac{\\sqrt{2} i}{2} & 0 & 0 & 0  \\\\\n",
       " 0 & 0 & \\frac{1}{2} & \\frac{\\sqrt{3}}{2}  \\\\\n",
       " 0 & 0 & - \\frac{\\sqrt{6}}{4} + \\frac{\\sqrt{6} i}{4} & \\frac{\\sqrt{2}}{4} - \\frac{\\sqrt{2} i}{4}  \\\\\n",
       " 0 & 1 & 0 & 0  \\\\\n",
       " \\end{bmatrix}\n",
       "$$"
      ],
      "text/plain": [
       "<IPython.core.display.Latex object>"
      ]
     },
     "metadata": {},
     "output_type": "display_data"
    },
    {
     "name": "stdout",
     "output_type": "stream",
     "text": [
      "distanza = 1.1102230246251565e-16, distanza1 = 1.1102230246251565e-16\n",
      " t0 = 0.0, t01 = 2.356194490192345,t2 = 2.356194490192345,t3 = 0.0\n",
      "matrice densita output circuito convenzione classica\n"
     ]
    },
    {
     "data": {
      "text/latex": [
       "$$\n",
       "\n",
       "\\begin{bmatrix}\n",
       "\\frac{1}{4} & 0  \\\\\n",
       " 0 & \\frac{3}{4}  \\\\\n",
       " \\end{bmatrix}\n",
       "$$"
      ],
      "text/plain": [
       "<IPython.core.display.Latex object>"
      ]
     },
     "metadata": {},
     "output_type": "display_data"
    },
    {
     "name": "stdout",
     "output_type": "stream",
     "text": [
      "matrice densita output circuito calcolato teoricamente\n"
     ]
    },
    {
     "data": {
      "text/latex": [
       "$$\n",
       "\n",
       "\\begin{bmatrix}\n",
       "\\frac{1}{4} & 0  \\\\\n",
       " 0 & \\frac{3}{4}  \\\\\n",
       " \\end{bmatrix}\n",
       "$$"
      ],
      "text/plain": [
       "<IPython.core.display.Latex object>"
      ]
     },
     "metadata": {},
     "output_type": "display_data"
    },
    {
     "name": "stdout",
     "output_type": "stream",
     "text": [
      "distanza = 0.0, distanza1 = 0.0\n",
      "Operatori per t0 = 0.0, t01 = 3.141592653589793,t2 = 3.141592653589793,t3 = 0.0\n",
      "Operatore circuito convenzione classica\n"
     ]
    },
    {
     "data": {
      "text/latex": [
       "$$\n",
       "\n",
       "\\begin{bmatrix}\n",
       "-1 & 0 & 0 & 0  \\\\\n",
       " 0 & 0 & \\frac{1}{2} & \\frac{\\sqrt{3}}{2}  \\\\\n",
       " 0 & 0 & - \\frac{\\sqrt{3}}{2} & \\frac{1}{2}  \\\\\n",
       " 0 & 1 & 0 & 0  \\\\\n",
       " \\end{bmatrix}\n",
       "$$"
      ],
      "text/plain": [
       "<IPython.core.display.Latex object>"
      ]
     },
     "metadata": {},
     "output_type": "display_data"
    },
    {
     "name": "stdout",
     "output_type": "stream",
     "text": [
      "Operatore circuito convenzione classica calcolato teoricamente\n"
     ]
    },
    {
     "data": {
      "text/latex": [
       "$$\n",
       "\n",
       "\\begin{bmatrix}\n",
       "-1 & 0 & 0 & 0  \\\\\n",
       " 0 & 0 & \\frac{1}{2} & \\frac{\\sqrt{3}}{2}  \\\\\n",
       " 0 & 0 & - \\frac{\\sqrt{3}}{2} & \\frac{1}{2}  \\\\\n",
       " 0 & 1 & 0 & 0  \\\\\n",
       " \\end{bmatrix}\n",
       "$$"
      ],
      "text/plain": [
       "<IPython.core.display.Latex object>"
      ]
     },
     "metadata": {},
     "output_type": "display_data"
    },
    {
     "name": "stdout",
     "output_type": "stream",
     "text": [
      "distanza = 0.0, distanza1 = 0.0\n",
      " t0 = 0.0, t01 = 3.141592653589793,t2 = 3.141592653589793,t3 = 0.0\n",
      "matrice densita output circuito convenzione classica\n"
     ]
    },
    {
     "data": {
      "text/latex": [
       "$$\n",
       "\n",
       "\\begin{bmatrix}\n",
       "\\frac{1}{4} & 0  \\\\\n",
       " 0 & \\frac{3}{4}  \\\\\n",
       " \\end{bmatrix}\n",
       "$$"
      ],
      "text/plain": [
       "<IPython.core.display.Latex object>"
      ]
     },
     "metadata": {},
     "output_type": "display_data"
    },
    {
     "name": "stdout",
     "output_type": "stream",
     "text": [
      "matrice densita output circuito calcolato teoricamente\n"
     ]
    },
    {
     "data": {
      "text/latex": [
       "$$\n",
       "\n",
       "\\begin{bmatrix}\n",
       "\\frac{1}{4} & 0  \\\\\n",
       " 0 & \\frac{3}{4}  \\\\\n",
       " \\end{bmatrix}\n",
       "$$"
      ],
      "text/plain": [
       "<IPython.core.display.Latex object>"
      ]
     },
     "metadata": {},
     "output_type": "display_data"
    },
    {
     "name": "stdout",
     "output_type": "stream",
     "text": [
      "distanza = 2.7755575615628914e-17, distanza1 = 2.7755575615628914e-17\n",
      "Operatori per t0 = 0.7853981633974483, t01 = 0.0,t2 = 0.0,t3 = 0.7853981633974483\n",
      "Operatore circuito convenzione classica\n"
     ]
    },
    {
     "data": {
      "text/latex": [
       "$$\n",
       "\n",
       "\\begin{bmatrix}\n",
       "0.7267269065 & 0.0732233047 & -0.6597396084 & 0.1767766953  \\\\\n",
       " 0.1767766953 & -0.0473671727 & 0.4267766953 & 0.8856455291  \\\\\n",
       " 0.6597396084 & -0.1767766953 & 0.5927523103 & -0.4267766953  \\\\\n",
       " 0.0732233047 & 0.9803798746 & 0.1767766953 & -0.0473671727  \\\\\n",
       " \\end{bmatrix}\n",
       "$$"
      ],
      "text/plain": [
       "<IPython.core.display.Latex object>"
      ]
     },
     "metadata": {},
     "output_type": "display_data"
    },
    {
     "name": "stdout",
     "output_type": "stream",
     "text": [
      "Operatore circuito convenzione classica calcolato teoricamente\n"
     ]
    },
    {
     "data": {
      "text/latex": [
       "$$\n",
       "\n",
       "\\begin{bmatrix}\n",
       "0.7267269065 & 0.0732233047 & -0.6597396084 & 0.1767766953  \\\\\n",
       " 0.1767766953 & -0.0473671727 & 0.4267766953 & 0.8856455291  \\\\\n",
       " 0.6597396084 & -0.1767766953 & 0.5927523103 & -0.4267766953  \\\\\n",
       " 0.0732233047 & 0.9803798746 & 0.1767766953 & -0.0473671727  \\\\\n",
       " \\end{bmatrix}\n",
       "$$"
      ],
      "text/plain": [
       "<IPython.core.display.Latex object>"
      ]
     },
     "metadata": {},
     "output_type": "display_data"
    },
    {
     "name": "stdout",
     "output_type": "stream",
     "text": [
      "distanza = 2.7755575615628914e-17, distanza1 = 2.7755575615628914e-17\n",
      " t0 = 0.7853981633974483, t01 = 0.0,t2 = 0.0,t3 = 0.7853981633974483\n",
      "matrice densita output circuito convenzione classica\n"
     ]
    },
    {
     "data": {
      "text/latex": [
       "$$\n",
       "\n",
       "\\begin{bmatrix}\n",
       "0.6173946986 & -0.3156180033  \\\\\n",
       " -0.3156180033 & 0.3826053014  \\\\\n",
       " \\end{bmatrix}\n",
       "$$"
      ],
      "text/plain": [
       "<IPython.core.display.Latex object>"
      ]
     },
     "metadata": {},
     "output_type": "display_data"
    },
    {
     "name": "stdout",
     "output_type": "stream",
     "text": [
      "matrice densita output circuito calcolato teoricamente\n"
     ]
    },
    {
     "data": {
      "text/latex": [
       "$$\n",
       "\n",
       "\\begin{bmatrix}\n",
       "0.6173946986 & -0.3156180033  \\\\\n",
       " -0.3156180033 & 0.3826053014  \\\\\n",
       " \\end{bmatrix}\n",
       "$$"
      ],
      "text/plain": [
       "<IPython.core.display.Latex object>"
      ]
     },
     "metadata": {},
     "output_type": "display_data"
    },
    {
     "name": "stdout",
     "output_type": "stream",
     "text": [
      "distanza = 1.4534988239820727e-16, distanza1 = 1.4534988239820727e-16\n",
      "Operatori per t0 = 0.7853981633974483, t01 = 0.7853981633974483,t2 = 0.7853981633974483,t3 = 0.7853981633974483\n",
      "Operatore circuito convenzione classica\n"
     ]
    },
    {
     "data": {
      "text/latex": [
       "$$\n",
       "\n",
       "\\begin{bmatrix}\n",
       "0.5138735237 - 0.6932332575 i & 0.0517766953 + 0.0517766953 i & -0.4665063509 + 0.0334936491 i & \\frac{1}{8} + \\frac{i}{8}  \\\\\n",
       " 0.1767766953 & -0.0473671727 & 0.4267766953 & 0.8856455291  \\\\\n",
       " 0.4665063509 - 0.0334936491 i & - \\frac{1}{8} - \\frac{i}{8} & 0.4191391782 + 0.6262459594 i & -0.3017766953 - 0.3017766953 i  \\\\\n",
       " 0.0732233047 & 0.9803798746 & 0.1767766953 & -0.0473671727  \\\\\n",
       " \\end{bmatrix}\n",
       "$$"
      ],
      "text/plain": [
       "<IPython.core.display.Latex object>"
      ]
     },
     "metadata": {},
     "output_type": "display_data"
    },
    {
     "name": "stdout",
     "output_type": "stream",
     "text": [
      "Operatore circuito convenzione classica calcolato teoricamente\n"
     ]
    },
    {
     "data": {
      "text/latex": [
       "$$\n",
       "\n",
       "\\begin{bmatrix}\n",
       "0.5138735237 - 0.6932332575 i & 0.0517766953 + 0.0517766953 i & -0.4665063509 + 0.0334936491 i & \\frac{1}{8} + \\frac{i}{8}  \\\\\n",
       " 0.1767766953 & -0.0473671727 & 0.4267766953 & 0.8856455291  \\\\\n",
       " 0.4665063509 - 0.0334936491 i & - \\frac{1}{8} - \\frac{i}{8} & 0.4191391782 + 0.6262459594 i & -0.3017766953 - 0.3017766953 i  \\\\\n",
       " 0.0732233047 & 0.9803798746 & 0.1767766953 & -0.0473671727  \\\\\n",
       " \\end{bmatrix}\n",
       "$$"
      ],
      "text/plain": [
       "<IPython.core.display.Latex object>"
      ]
     },
     "metadata": {},
     "output_type": "display_data"
    },
    {
     "name": "stdout",
     "output_type": "stream",
     "text": [
      "distanza = 1.4534988239820727e-16, distanza1 = 1.4534988239820727e-16\n",
      " t0 = 0.7853981633974483, t01 = 0.7853981633974483,t2 = 0.7853981633974483,t3 = 0.7853981633974483\n",
      "matrice densita output circuito convenzione classica\n"
     ]
    },
    {
     "data": {
      "text/latex": [
       "$$\n",
       "\n",
       "\\begin{bmatrix}\n",
       "0.4008883476 & -0.0991116524 + 0.3061862178 i  \\\\\n",
       " -0.0991116524 - 0.3061862178 i & \\frac{2^{\\frac{161}{424}} \\cdot 3^{\\frac{43}{53}} \\cdot 5^{\\frac{39}{106}} \\cdot 7^{\\frac{19}{848}}}{10}  \\\\\n",
       " \\end{bmatrix}\n",
       "$$"
      ],
      "text/plain": [
       "<IPython.core.display.Latex object>"
      ]
     },
     "metadata": {},
     "output_type": "display_data"
    },
    {
     "name": "stdout",
     "output_type": "stream",
     "text": [
      "matrice densita output circuito calcolato teoricamente\n"
     ]
    },
    {
     "data": {
      "text/latex": [
       "$$\n",
       "\n",
       "\\begin{bmatrix}\n",
       "0.4008883476 & -0.0991116524 + 0.3061862178 i  \\\\\n",
       " -0.0991116524 - 0.3061862178 i & \\frac{2^{\\frac{161}{424}} \\cdot 3^{\\frac{43}{53}} \\cdot 5^{\\frac{39}{106}} \\cdot 7^{\\frac{19}{848}}}{10}  \\\\\n",
       " \\end{bmatrix}\n",
       "$$"
      ],
      "text/plain": [
       "<IPython.core.display.Latex object>"
      ]
     },
     "metadata": {},
     "output_type": "display_data"
    },
    {
     "name": "stdout",
     "output_type": "stream",
     "text": [
      "distanza = 9.664760850780579e-17, distanza1 = 9.664760850780579e-17\n",
      "Operatori per t0 = 0.7853981633974483, t01 = 1.5707963267948966,t2 = 1.5707963267948966,t3 = 0.7853981633974483\n",
      "Operatore circuito convenzione classica\n"
     ]
    },
    {
     "data": {
      "text/latex": [
       "$$\n",
       "\n",
       "\\begin{bmatrix}\n",
       "- 0.9803798746 i & 0.0732233047 i & 0.0473671727 i & 0.1767766953 i  \\\\\n",
       " 0.1767766953 & -0.0473671727 & 0.4267766953 & 0.8856455291  \\\\\n",
       " - 0.0473671727 i & - 0.1767766953 i & 0.8856455291 i & - 0.4267766953 i  \\\\\n",
       " 0.0732233047 & 0.9803798746 & 0.1767766953 & -0.0473671727  \\\\\n",
       " \\end{bmatrix}\n",
       "$$"
      ],
      "text/plain": [
       "<IPython.core.display.Latex object>"
      ]
     },
     "metadata": {},
     "output_type": "display_data"
    },
    {
     "name": "stdout",
     "output_type": "stream",
     "text": [
      "Operatore circuito convenzione classica calcolato teoricamente\n"
     ]
    },
    {
     "data": {
      "text/latex": [
       "$$\n",
       "\n",
       "\\begin{bmatrix}\n",
       "- 0.9803798746 i & 0.0732233047 i & 0.0473671727 i & 0.1767766953 i  \\\\\n",
       " 0.1767766953 & -0.0473671727 & 0.4267766953 & 0.8856455291  \\\\\n",
       " - 0.0473671727 i & - 0.1767766953 i & 0.8856455291 i & - 0.4267766953 i  \\\\\n",
       " 0.0732233047 & 0.9803798746 & 0.1767766953 & -0.0473671727  \\\\\n",
       " \\end{bmatrix}\n",
       "$$"
      ],
      "text/plain": [
       "<IPython.core.display.Latex object>"
      ]
     },
     "metadata": {},
     "output_type": "display_data"
    },
    {
     "name": "stdout",
     "output_type": "stream",
     "text": [
      "distanza = 9.664760850780579e-17, distanza1 = 9.664760850780579e-17\n",
      " t0 = 0.7853981633974483, t01 = 1.5707963267948966,t2 = 1.5707963267948966,t3 = 0.7853981633974483\n",
      "matrice densita output circuito convenzione classica\n"
     ]
    },
    {
     "data": {
      "text/latex": [
       "$$\n",
       "\n",
       "\\begin{bmatrix}\n",
       "0.1843819967 & 0.1173946986  \\\\\n",
       " 0.1173946986 & 0.8156180033  \\\\\n",
       " \\end{bmatrix}\n",
       "$$"
      ],
      "text/plain": [
       "<IPython.core.display.Latex object>"
      ]
     },
     "metadata": {},
     "output_type": "display_data"
    },
    {
     "name": "stdout",
     "output_type": "stream",
     "text": [
      "matrice densita output circuito calcolato teoricamente\n"
     ]
    },
    {
     "data": {
      "text/latex": [
       "$$\n",
       "\n",
       "\\begin{bmatrix}\n",
       "0.1843819967 & 0.1173946986  \\\\\n",
       " 0.1173946986 & 0.8156180033  \\\\\n",
       " \\end{bmatrix}\n",
       "$$"
      ],
      "text/plain": [
       "<IPython.core.display.Latex object>"
      ]
     },
     "metadata": {},
     "output_type": "display_data"
    },
    {
     "name": "stdout",
     "output_type": "stream",
     "text": [
      "distanza = 2.477892447299123e-16, distanza1 = 2.477892447299123e-16\n",
      "Operatori per t0 = 0.7853981633974483, t01 = 2.356194490192345,t2 = 2.356194490192345,t3 = 0.7853981633974483\n",
      "Operatore circuito convenzione classica\n"
     ]
    },
    {
     "data": {
      "text/latex": [
       "$$\n",
       "\n",
       "\\begin{bmatrix}\n",
       "-0.5138735237 - 0.6932332575 i & -0.0517766953 + 0.0517766953 i & 0.4665063509 + 0.0334936491 i & - \\frac{1}{8} + \\frac{i}{8}  \\\\\n",
       " 0.1767766953 & -0.0473671727 & 0.4267766953 & 0.8856455291  \\\\\n",
       " -0.4665063509 - 0.0334936491 i & \\frac{1}{8} - \\frac{i}{8} & -0.4191391782 + 0.6262459594 i & 0.3017766953 - 0.3017766953 i  \\\\\n",
       " 0.0732233047 & 0.9803798746 & 0.1767766953 & -0.0473671727  \\\\\n",
       " \\end{bmatrix}\n",
       "$$"
      ],
      "text/plain": [
       "<IPython.core.display.Latex object>"
      ]
     },
     "metadata": {},
     "output_type": "display_data"
    },
    {
     "name": "stdout",
     "output_type": "stream",
     "text": [
      "Operatore circuito convenzione classica calcolato teoricamente\n"
     ]
    },
    {
     "data": {
      "text/latex": [
       "$$\n",
       "\n",
       "\\begin{bmatrix}\n",
       "-0.5138735237 - 0.6932332575 i & -0.0517766953 + 0.0517766953 i & 0.4665063509 + 0.0334936491 i & - \\frac{1}{8} + \\frac{i}{8}  \\\\\n",
       " 0.1767766953 & -0.0473671727 & 0.4267766953 & 0.8856455291  \\\\\n",
       " -0.4665063509 - 0.0334936491 i & \\frac{1}{8} - \\frac{i}{8} & -0.4191391782 + 0.6262459594 i & 0.3017766953 - 0.3017766953 i  \\\\\n",
       " 0.0732233047 & 0.9803798746 & 0.1767766953 & -0.0473671727  \\\\\n",
       " \\end{bmatrix}\n",
       "$$"
      ],
      "text/plain": [
       "<IPython.core.display.Latex object>"
      ]
     },
     "metadata": {},
     "output_type": "display_data"
    },
    {
     "name": "stdout",
     "output_type": "stream",
     "text": [
      "distanza = 2.477892447299123e-16, distanza1 = 2.477892447299123e-16\n",
      " t0 = 0.7853981633974483, t01 = 2.356194490192345,t2 = 2.356194490192345,t3 = 0.7853981633974483\n",
      "matrice densita output circuito convenzione classica\n"
     ]
    },
    {
     "data": {
      "text/latex": [
       "$$\n",
       "\n",
       "\\begin{bmatrix}\n",
       "0.4008883476 & -0.0991116524 - 0.3061862178 i  \\\\\n",
       " -0.0991116524 + 0.3061862178 i & \\frac{2^{\\frac{161}{424}} \\cdot 3^{\\frac{43}{53}} \\cdot 5^{\\frac{39}{106}} \\cdot 7^{\\frac{19}{848}}}{10}  \\\\\n",
       " \\end{bmatrix}\n",
       "$$"
      ],
      "text/plain": [
       "<IPython.core.display.Latex object>"
      ]
     },
     "metadata": {},
     "output_type": "display_data"
    },
    {
     "name": "stdout",
     "output_type": "stream",
     "text": [
      "matrice densita output circuito calcolato teoricamente\n"
     ]
    },
    {
     "data": {
      "text/latex": [
       "$$\n",
       "\n",
       "\\begin{bmatrix}\n",
       "0.4008883476 & -0.0991116524 - 0.3061862178 i  \\\\\n",
       " -0.0991116524 + 0.3061862178 i & \\frac{2^{\\frac{161}{424}} \\cdot 3^{\\frac{43}{53}} \\cdot 5^{\\frac{39}{106}} \\cdot 7^{\\frac{19}{848}}}{10}  \\\\\n",
       " \\end{bmatrix}\n",
       "$$"
      ],
      "text/plain": [
       "<IPython.core.display.Latex object>"
      ]
     },
     "metadata": {},
     "output_type": "display_data"
    },
    {
     "name": "stdout",
     "output_type": "stream",
     "text": [
      "distanza = 2.7755575615628914e-17, distanza1 = 2.7755575615628914e-17\n",
      "Operatori per t0 = 0.7853981633974483, t01 = 3.141592653589793,t2 = 3.141592653589793,t3 = 0.7853981633974483\n",
      "Operatore circuito convenzione classica\n"
     ]
    },
    {
     "data": {
      "text/latex": [
       "$$\n",
       "\n",
       "\\begin{bmatrix}\n",
       "-0.7267269065 & -0.0732233047 & 0.6597396084 & -0.1767766953  \\\\\n",
       " 0.1767766953 & -0.0473671727 & 0.4267766953 & 0.8856455291  \\\\\n",
       " -0.6597396084 & 0.1767766953 & -0.5927523103 & 0.4267766953  \\\\\n",
       " 0.0732233047 & 0.9803798746 & 0.1767766953 & -0.0473671727  \\\\\n",
       " \\end{bmatrix}\n",
       "$$"
      ],
      "text/plain": [
       "<IPython.core.display.Latex object>"
      ]
     },
     "metadata": {},
     "output_type": "display_data"
    },
    {
     "name": "stdout",
     "output_type": "stream",
     "text": [
      "Operatore circuito convenzione classica calcolato teoricamente\n"
     ]
    },
    {
     "data": {
      "text/latex": [
       "$$\n",
       "\n",
       "\\begin{bmatrix}\n",
       "-0.7267269065 & -0.0732233047 & 0.6597396084 & -0.1767766953  \\\\\n",
       " 0.1767766953 & -0.0473671727 & 0.4267766953 & 0.8856455291  \\\\\n",
       " -0.6597396084 & 0.1767766953 & -0.5927523103 & 0.4267766953  \\\\\n",
       " 0.0732233047 & 0.9803798746 & 0.1767766953 & -0.0473671727  \\\\\n",
       " \\end{bmatrix}\n",
       "$$"
      ],
      "text/plain": [
       "<IPython.core.display.Latex object>"
      ]
     },
     "metadata": {},
     "output_type": "display_data"
    },
    {
     "name": "stdout",
     "output_type": "stream",
     "text": [
      "distanza = 2.7755575615628914e-17, distanza1 = 2.7755575615628914e-17\n",
      " t0 = 0.7853981633974483, t01 = 3.141592653589793,t2 = 3.141592653589793,t3 = 0.7853981633974483\n",
      "matrice densita output circuito convenzione classica\n"
     ]
    },
    {
     "data": {
      "text/latex": [
       "$$\n",
       "\n",
       "\\begin{bmatrix}\n",
       "0.6173946986 & -0.3156180033  \\\\\n",
       " -0.3156180033 & 0.3826053014  \\\\\n",
       " \\end{bmatrix}\n",
       "$$"
      ],
      "text/plain": [
       "<IPython.core.display.Latex object>"
      ]
     },
     "metadata": {},
     "output_type": "display_data"
    },
    {
     "name": "stdout",
     "output_type": "stream",
     "text": [
      "matrice densita output circuito calcolato teoricamente\n"
     ]
    },
    {
     "data": {
      "text/latex": [
       "$$\n",
       "\n",
       "\\begin{bmatrix}\n",
       "0.6173946986 & -0.3156180033  \\\\\n",
       " -0.3156180033 & 0.3826053014  \\\\\n",
       " \\end{bmatrix}\n",
       "$$"
      ],
      "text/plain": [
       "<IPython.core.display.Latex object>"
      ]
     },
     "metadata": {},
     "output_type": "display_data"
    },
    {
     "name": "stdout",
     "output_type": "stream",
     "text": [
      "distanza = 2.7755575615628914e-17, distanza1 = 2.7755575615628914e-17\n",
      "Operatori per t0 = 1.5707963267948966, t01 = 0.0,t2 = 0.0,t3 = 1.5707963267948966\n",
      "Operatore circuito convenzione classica\n"
     ]
    },
    {
     "data": {
      "text/latex": [
       "$$\n",
       "\n",
       "\\begin{bmatrix}\n",
       "0.0669872981 & \\frac{1}{4} & -0.9330127019 & \\frac{1}{4}  \\\\\n",
       " \\frac{1}{4} & -0.0669872981 & \\frac{1}{4} & 0.9330127019  \\\\\n",
       " 0.9330127019 & - \\frac{1}{4} & -0.0669872981 & - \\frac{1}{4}  \\\\\n",
       " \\frac{1}{4} & 0.9330127019 & \\frac{1}{4} & -0.0669872981  \\\\\n",
       " \\end{bmatrix}\n",
       "$$"
      ],
      "text/plain": [
       "<IPython.core.display.Latex object>"
      ]
     },
     "metadata": {},
     "output_type": "display_data"
    },
    {
     "name": "stdout",
     "output_type": "stream",
     "text": [
      "Operatore circuito convenzione classica calcolato teoricamente\n"
     ]
    },
    {
     "data": {
      "text/latex": [
       "$$\n",
       "\n",
       "\\begin{bmatrix}\n",
       "0.0669872981 & \\frac{1}{4} & -0.9330127019 & \\frac{1}{4}  \\\\\n",
       " \\frac{1}{4} & -0.0669872981 & \\frac{1}{4} & 0.9330127019  \\\\\n",
       " 0.9330127019 & - \\frac{1}{4} & -0.0669872981 & - \\frac{1}{4}  \\\\\n",
       " \\frac{1}{4} & 0.9330127019 & \\frac{1}{4} & -0.0669872981  \\\\\n",
       " \\end{bmatrix}\n",
       "$$"
      ],
      "text/plain": [
       "<IPython.core.display.Latex object>"
      ]
     },
     "metadata": {},
     "output_type": "display_data"
    },
    {
     "name": "stdout",
     "output_type": "stream",
     "text": [
      "distanza = 2.7755575615628914e-17, distanza1 = 2.7755575615628914e-17\n",
      " t0 = 1.5707963267948966, t01 = 0.0,t2 = 0.0,t3 = 1.5707963267948966\n",
      "matrice densita output circuito convenzione classica\n"
     ]
    },
    {
     "data": {
      "text/latex": [
       "$$\n",
       "\n",
       "\\begin{bmatrix}\n",
       "0.9330127019 & \\frac{1}{8}  \\\\\n",
       " \\frac{1}{8} & 0.0669872981  \\\\\n",
       " \\end{bmatrix}\n",
       "$$"
      ],
      "text/plain": [
       "<IPython.core.display.Latex object>"
      ]
     },
     "metadata": {},
     "output_type": "display_data"
    },
    {
     "name": "stdout",
     "output_type": "stream",
     "text": [
      "matrice densita output circuito calcolato teoricamente\n"
     ]
    },
    {
     "data": {
      "text/latex": [
       "$$\n",
       "\n",
       "\\begin{bmatrix}\n",
       "0.9330127019 & \\frac{1}{8}  \\\\\n",
       " \\frac{1}{8} & 0.0669872981  \\\\\n",
       " \\end{bmatrix}\n",
       "$$"
      ],
      "text/plain": [
       "<IPython.core.display.Latex object>"
      ]
     },
     "metadata": {},
     "output_type": "display_data"
    },
    {
     "name": "stdout",
     "output_type": "stream",
     "text": [
      "distanza = 1.9558574467581085e-16, distanza1 = 1.9558574467581085e-16\n",
      "Operatori per t0 = 1.5707963267948966, t01 = 0.7853981633974483,t2 = 0.7853981633974483,t3 = 1.5707963267948966\n",
      "Operatore circuito convenzione classica\n"
     ]
    },
    {
     "data": {
      "text/latex": [
       "$$\n",
       "\n",
       "\\begin{bmatrix}\n",
       "0.0473671727 - 0.6597396084 i & 0.1767766953 + 0.1767766953 i & -0.6597396084 + 0.0473671727 i & 0.1767766953 + 0.1767766953 i  \\\\\n",
       " \\frac{1}{4} & -0.0669872981 & \\frac{1}{4} & 0.9330127019  \\\\\n",
       " 0.6597396084 - 0.0473671727 i & -0.1767766953 - 0.1767766953 i & -0.0473671727 + 0.6597396084 i & -0.1767766953 - 0.1767766953 i  \\\\\n",
       " \\frac{1}{4} & 0.9330127019 & \\frac{1}{4} & -0.0669872981  \\\\\n",
       " \\end{bmatrix}\n",
       "$$"
      ],
      "text/plain": [
       "<IPython.core.display.Latex object>"
      ]
     },
     "metadata": {},
     "output_type": "display_data"
    },
    {
     "name": "stdout",
     "output_type": "stream",
     "text": [
      "Operatore circuito convenzione classica calcolato teoricamente\n"
     ]
    },
    {
     "data": {
      "text/latex": [
       "$$\n",
       "\n",
       "\\begin{bmatrix}\n",
       "0.0473671727 - 0.6597396084 i & 0.1767766953 + 0.1767766953 i & -0.6597396084 + 0.0473671727 i & 0.1767766953 + 0.1767766953 i  \\\\\n",
       " \\frac{1}{4} & -0.0669872981 & \\frac{1}{4} & 0.9330127019  \\\\\n",
       " 0.6597396084 - 0.0473671727 i & -0.1767766953 - 0.1767766953 i & -0.0473671727 + 0.6597396084 i & -0.1767766953 - 0.1767766953 i  \\\\\n",
       " \\frac{1}{4} & 0.9330127019 & \\frac{1}{4} & -0.0669872981  \\\\\n",
       " \\end{bmatrix}\n",
       "$$"
      ],
      "text/plain": [
       "<IPython.core.display.Latex object>"
      ]
     },
     "metadata": {},
     "output_type": "display_data"
    },
    {
     "name": "stdout",
     "output_type": "stream",
     "text": [
      "distanza = 1.9558574467581085e-16, distanza1 = 1.9558574467581085e-16\n",
      " t0 = 1.5707963267948966, t01 = 0.7853981633974483,t2 = 0.7853981633974483,t3 = 1.5707963267948966\n",
      "matrice densita output circuito convenzione classica\n"
     ]
    },
    {
     "data": {
      "text/latex": [
       "$$\n",
       "\n",
       "\\begin{bmatrix}\n",
       "\\frac{1}{2} & \\frac{1}{8} + \\frac{\\sqrt{3} i}{4}  \\\\\n",
       " \\frac{1}{8} - \\frac{\\sqrt{3} i}{4} & \\frac{1}{2}  \\\\\n",
       " \\end{bmatrix}\n",
       "$$"
      ],
      "text/plain": [
       "<IPython.core.display.Latex object>"
      ]
     },
     "metadata": {},
     "output_type": "display_data"
    },
    {
     "name": "stdout",
     "output_type": "stream",
     "text": [
      "matrice densita output circuito calcolato teoricamente\n"
     ]
    },
    {
     "data": {
      "text/latex": [
       "$$\n",
       "\n",
       "\\begin{bmatrix}\n",
       "\\frac{1}{2} & \\frac{1}{8} + \\frac{\\sqrt{3} i}{4}  \\\\\n",
       " \\frac{1}{8} - \\frac{\\sqrt{3} i}{4} & \\frac{1}{2}  \\\\\n",
       " \\end{bmatrix}\n",
       "$$"
      ],
      "text/plain": [
       "<IPython.core.display.Latex object>"
      ]
     },
     "metadata": {},
     "output_type": "display_data"
    },
    {
     "name": "stdout",
     "output_type": "stream",
     "text": [
      "distanza = 3.3422138886441676e-16, distanza1 = 3.3422138886441676e-16\n",
      "Operatori per t0 = 1.5707963267948966, t01 = 1.5707963267948966,t2 = 1.5707963267948966,t3 = 1.5707963267948966\n",
      "Operatore circuito convenzione classica\n"
     ]
    },
    {
     "data": {
      "text/latex": [
       "$$\n",
       "\n",
       "\\begin{bmatrix}\n",
       "- 0.9330127019 i & \\frac{i}{4} & 0.0669872981 i & \\frac{i}{4}  \\\\\n",
       " \\frac{1}{4} & -0.0669872981 & \\frac{1}{4} & 0.9330127019  \\\\\n",
       " - 0.0669872981 i & - \\frac{i}{4} & 0.9330127019 i & - \\frac{i}{4}  \\\\\n",
       " \\frac{1}{4} & 0.9330127019 & \\frac{1}{4} & -0.0669872981  \\\\\n",
       " \\end{bmatrix}\n",
       "$$"
      ],
      "text/plain": [
       "<IPython.core.display.Latex object>"
      ]
     },
     "metadata": {},
     "output_type": "display_data"
    },
    {
     "name": "stdout",
     "output_type": "stream",
     "text": [
      "Operatore circuito convenzione classica calcolato teoricamente\n"
     ]
    },
    {
     "data": {
      "text/latex": [
       "$$\n",
       "\n",
       "\\begin{bmatrix}\n",
       "- 0.9330127019 i & \\frac{i}{4} & 0.0669872981 i & \\frac{i}{4}  \\\\\n",
       " \\frac{1}{4} & -0.0669872981 & \\frac{1}{4} & 0.9330127019  \\\\\n",
       " - 0.0669872981 i & - \\frac{i}{4} & 0.9330127019 i & - \\frac{i}{4}  \\\\\n",
       " \\frac{1}{4} & 0.9330127019 & \\frac{1}{4} & -0.0669872981  \\\\\n",
       " \\end{bmatrix}\n",
       "$$"
      ],
      "text/plain": [
       "<IPython.core.display.Latex object>"
      ]
     },
     "metadata": {},
     "output_type": "display_data"
    },
    {
     "name": "stdout",
     "output_type": "stream",
     "text": [
      "distanza = 3.3422138886441676e-16, distanza1 = 3.3422138886441676e-16\n",
      " t0 = 1.5707963267948966, t01 = 1.5707963267948966,t2 = 1.5707963267948966,t3 = 1.5707963267948966\n",
      "matrice densita output circuito convenzione classica\n"
     ]
    },
    {
     "data": {
      "text/latex": [
       "$$\n",
       "\n",
       "\\begin{bmatrix}\n",
       "0.0669872981 & \\frac{1}{8}  \\\\\n",
       " \\frac{1}{8} & 0.9330127019  \\\\\n",
       " \\end{bmatrix}\n",
       "$$"
      ],
      "text/plain": [
       "<IPython.core.display.Latex object>"
      ]
     },
     "metadata": {},
     "output_type": "display_data"
    },
    {
     "name": "stdout",
     "output_type": "stream",
     "text": [
      "matrice densita output circuito calcolato teoricamente\n"
     ]
    },
    {
     "data": {
      "text/latex": [
       "$$\n",
       "\n",
       "\\begin{bmatrix}\n",
       "0.0669872981 & \\frac{1}{8}  \\\\\n",
       " \\frac{1}{8} & 0.9330127019  \\\\\n",
       " \\end{bmatrix}\n",
       "$$"
      ],
      "text/plain": [
       "<IPython.core.display.Latex object>"
      ]
     },
     "metadata": {},
     "output_type": "display_data"
    },
    {
     "name": "stdout",
     "output_type": "stream",
     "text": [
      "distanza = 1.9740070324097615e-16, distanza1 = 1.9740070324097615e-16\n",
      "Operatori per t0 = 1.5707963267948966, t01 = 2.356194490192345,t2 = 2.356194490192345,t3 = 1.5707963267948966\n",
      "Operatore circuito convenzione classica\n"
     ]
    },
    {
     "data": {
      "text/latex": [
       "$$\n",
       "\n",
       "\\begin{bmatrix}\n",
       "-0.0473671727 - 0.6597396084 i & -0.1767766953 + 0.1767766953 i & 0.6597396084 + 0.0473671727 i & -0.1767766953 + 0.1767766953 i  \\\\\n",
       " \\frac{1}{4} & -0.0669872981 & \\frac{1}{4} & 0.9330127019  \\\\\n",
       " -0.6597396084 - 0.0473671727 i & 0.1767766953 - 0.1767766953 i & 0.0473671727 + 0.6597396084 i & 0.1767766953 - 0.1767766953 i  \\\\\n",
       " \\frac{1}{4} & 0.9330127019 & \\frac{1}{4} & -0.0669872981  \\\\\n",
       " \\end{bmatrix}\n",
       "$$"
      ],
      "text/plain": [
       "<IPython.core.display.Latex object>"
      ]
     },
     "metadata": {},
     "output_type": "display_data"
    },
    {
     "name": "stdout",
     "output_type": "stream",
     "text": [
      "Operatore circuito convenzione classica calcolato teoricamente\n"
     ]
    },
    {
     "data": {
      "text/latex": [
       "$$\n",
       "\n",
       "\\begin{bmatrix}\n",
       "-0.0473671727 - 0.6597396084 i & -0.1767766953 + 0.1767766953 i & 0.6597396084 + 0.0473671727 i & -0.1767766953 + 0.1767766953 i  \\\\\n",
       " \\frac{1}{4} & -0.0669872981 & \\frac{1}{4} & 0.9330127019  \\\\\n",
       " -0.6597396084 - 0.0473671727 i & 0.1767766953 - 0.1767766953 i & 0.0473671727 + 0.6597396084 i & 0.1767766953 - 0.1767766953 i  \\\\\n",
       " \\frac{1}{4} & 0.9330127019 & \\frac{1}{4} & -0.0669872981  \\\\\n",
       " \\end{bmatrix}\n",
       "$$"
      ],
      "text/plain": [
       "<IPython.core.display.Latex object>"
      ]
     },
     "metadata": {},
     "output_type": "display_data"
    },
    {
     "name": "stdout",
     "output_type": "stream",
     "text": [
      "distanza = 1.9740070324097615e-16, distanza1 = 1.9740070324097615e-16\n",
      " t0 = 1.5707963267948966, t01 = 2.356194490192345,t2 = 2.356194490192345,t3 = 1.5707963267948966\n",
      "matrice densita output circuito convenzione classica\n"
     ]
    },
    {
     "data": {
      "text/latex": [
       "$$\n",
       "\n",
       "\\begin{bmatrix}\n",
       "\\frac{1}{2} & \\frac{1}{8} - \\frac{\\sqrt{3} i}{4}  \\\\\n",
       " \\frac{1}{8} + \\frac{\\sqrt{3} i}{4} & \\frac{1}{2}  \\\\\n",
       " \\end{bmatrix}\n",
       "$$"
      ],
      "text/plain": [
       "<IPython.core.display.Latex object>"
      ]
     },
     "metadata": {},
     "output_type": "display_data"
    },
    {
     "name": "stdout",
     "output_type": "stream",
     "text": [
      "matrice densita output circuito calcolato teoricamente\n"
     ]
    },
    {
     "data": {
      "text/latex": [
       "$$\n",
       "\n",
       "\\begin{bmatrix}\n",
       "\\frac{1}{2} & \\frac{1}{8} - \\frac{\\sqrt{3} i}{4}  \\\\\n",
       " \\frac{1}{8} + \\frac{\\sqrt{3} i}{4} & \\frac{1}{2}  \\\\\n",
       " \\end{bmatrix}\n",
       "$$"
      ],
      "text/plain": [
       "<IPython.core.display.Latex object>"
      ]
     },
     "metadata": {},
     "output_type": "display_data"
    },
    {
     "name": "stdout",
     "output_type": "stream",
     "text": [
      "distanza = 2.7755575615628914e-17, distanza1 = 2.7755575615628914e-17\n",
      "Operatori per t0 = 1.5707963267948966, t01 = 3.141592653589793,t2 = 3.141592653589793,t3 = 1.5707963267948966\n",
      "Operatore circuito convenzione classica\n"
     ]
    },
    {
     "data": {
      "text/latex": [
       "$$\n",
       "\n",
       "\\begin{bmatrix}\n",
       "-0.0669872981 & - \\frac{1}{4} & 0.9330127019 & - \\frac{1}{4}  \\\\\n",
       " \\frac{1}{4} & -0.0669872981 & \\frac{1}{4} & 0.9330127019  \\\\\n",
       " -0.9330127019 & \\frac{1}{4} & 0.0669872981 & \\frac{1}{4}  \\\\\n",
       " \\frac{1}{4} & 0.9330127019 & \\frac{1}{4} & -0.0669872981  \\\\\n",
       " \\end{bmatrix}\n",
       "$$"
      ],
      "text/plain": [
       "<IPython.core.display.Latex object>"
      ]
     },
     "metadata": {},
     "output_type": "display_data"
    },
    {
     "name": "stdout",
     "output_type": "stream",
     "text": [
      "Operatore circuito convenzione classica calcolato teoricamente\n"
     ]
    },
    {
     "data": {
      "text/latex": [
       "$$\n",
       "\n",
       "\\begin{bmatrix}\n",
       "-0.0669872981 & - \\frac{1}{4} & 0.9330127019 & - \\frac{1}{4}  \\\\\n",
       " \\frac{1}{4} & -0.0669872981 & \\frac{1}{4} & 0.9330127019  \\\\\n",
       " -0.9330127019 & \\frac{1}{4} & 0.0669872981 & \\frac{1}{4}  \\\\\n",
       " \\frac{1}{4} & 0.9330127019 & \\frac{1}{4} & -0.0669872981  \\\\\n",
       " \\end{bmatrix}\n",
       "$$"
      ],
      "text/plain": [
       "<IPython.core.display.Latex object>"
      ]
     },
     "metadata": {},
     "output_type": "display_data"
    },
    {
     "name": "stdout",
     "output_type": "stream",
     "text": [
      "distanza = 2.7755575615628914e-17, distanza1 = 2.7755575615628914e-17\n",
      " t0 = 1.5707963267948966, t01 = 3.141592653589793,t2 = 3.141592653589793,t3 = 1.5707963267948966\n",
      "matrice densita output circuito convenzione classica\n"
     ]
    },
    {
     "data": {
      "text/latex": [
       "$$\n",
       "\n",
       "\\begin{bmatrix}\n",
       "0.9330127019 & \\frac{1}{8}  \\\\\n",
       " \\frac{1}{8} & 0.0669872981  \\\\\n",
       " \\end{bmatrix}\n",
       "$$"
      ],
      "text/plain": [
       "<IPython.core.display.Latex object>"
      ]
     },
     "metadata": {},
     "output_type": "display_data"
    },
    {
     "name": "stdout",
     "output_type": "stream",
     "text": [
      "matrice densita output circuito calcolato teoricamente\n"
     ]
    },
    {
     "data": {
      "text/latex": [
       "$$\n",
       "\n",
       "\\begin{bmatrix}\n",
       "0.9330127019 & \\frac{1}{8}  \\\\\n",
       " \\frac{1}{8} & 0.0669872981  \\\\\n",
       " \\end{bmatrix}\n",
       "$$"
      ],
      "text/plain": [
       "<IPython.core.display.Latex object>"
      ]
     },
     "metadata": {},
     "output_type": "display_data"
    },
    {
     "name": "stdout",
     "output_type": "stream",
     "text": [
      "distanza = 1.2177709378935645e-16, distanza1 = 1.2177709378935645e-16\n",
      "Operatori per t0 = 2.356194490192345, t01 = 0.0,t2 = 0.0,t3 = 2.356194490192345\n",
      "Operatore circuito convenzione classica\n"
     ]
    },
    {
     "data": {
      "text/latex": [
       "$$\n",
       "\n",
       "\\begin{bmatrix}\n",
       "-0.5927523103 & 0.4267766953 & -0.6597396084 & 0.1767766953  \\\\\n",
       " 0.1767766953 & -0.0473671727 & 0.0732233047 & 0.9803798746  \\\\\n",
       " 0.6597396084 & -0.1767766953 & -0.7267269065 & -0.0732233047  \\\\\n",
       " 0.4267766953 & 0.8856455291 & 0.1767766953 & -0.0473671727  \\\\\n",
       " \\end{bmatrix}\n",
       "$$"
      ],
      "text/plain": [
       "<IPython.core.display.Latex object>"
      ]
     },
     "metadata": {},
     "output_type": "display_data"
    },
    {
     "name": "stdout",
     "output_type": "stream",
     "text": [
      "Operatore circuito convenzione classica calcolato teoricamente\n"
     ]
    },
    {
     "data": {
      "text/latex": [
       "$$\n",
       "\n",
       "\\begin{bmatrix}\n",
       "-0.5927523103 & 0.4267766953 & -0.6597396084 & 0.1767766953  \\\\\n",
       " 0.1767766953 & -0.0473671727 & 0.0732233047 & 0.9803798746  \\\\\n",
       " 0.6597396084 & -0.1767766953 & -0.7267269065 & -0.0732233047  \\\\\n",
       " 0.4267766953 & 0.8856455291 & 0.1767766953 & -0.0473671727  \\\\\n",
       " \\end{bmatrix}\n",
       "$$"
      ],
      "text/plain": [
       "<IPython.core.display.Latex object>"
      ]
     },
     "metadata": {},
     "output_type": "display_data"
    },
    {
     "name": "stdout",
     "output_type": "stream",
     "text": [
      "distanza = 1.2177709378935645e-16, distanza1 = 1.2177709378935645e-16\n",
      " t0 = 2.356194490192345, t01 = 0.0,t2 = 0.0,t3 = 2.356194490192345\n",
      "matrice densita output circuito convenzione classica\n"
     ]
    },
    {
     "data": {
      "text/latex": [
       "$$\n",
       "\n",
       "\\begin{bmatrix}\n",
       "0.4406180033 & 0.4923946986  \\\\\n",
       " 0.4923946986 & 0.5593819967  \\\\\n",
       " \\end{bmatrix}\n",
       "$$"
      ],
      "text/plain": [
       "<IPython.core.display.Latex object>"
      ]
     },
     "metadata": {},
     "output_type": "display_data"
    },
    {
     "name": "stdout",
     "output_type": "stream",
     "text": [
      "matrice densita output circuito calcolato teoricamente\n"
     ]
    },
    {
     "data": {
      "text/latex": [
       "$$\n",
       "\n",
       "\\begin{bmatrix}\n",
       "0.4406180033 & 0.4923946986  \\\\\n",
       " 0.4923946986 & 0.5593819967  \\\\\n",
       " \\end{bmatrix}\n",
       "$$"
      ],
      "text/plain": [
       "<IPython.core.display.Latex object>"
      ]
     },
     "metadata": {},
     "output_type": "display_data"
    },
    {
     "name": "stdout",
     "output_type": "stream",
     "text": [
      "distanza = 2.1566457325428242e-16, distanza1 = 2.1566457325428242e-16\n",
      "Operatori per t0 = 2.356194490192345, t01 = 0.7853981633974483,t2 = 0.7853981633974483,t3 = 2.356194490192345\n",
      "Operatore circuito convenzione classica\n"
     ]
    },
    {
     "data": {
      "text/latex": [
       "$$\n",
       "\n",
       "\\begin{bmatrix}\n",
       "-0.4191391782 - 0.6262459594 i & 0.3017766953 + 0.3017766953 i & -0.4665063509 + 0.0334936491 i & \\frac{1}{8} + \\frac{i}{8}  \\\\\n",
       " 0.1767766953 & -0.0473671727 & 0.0732233047 & 0.9803798746  \\\\\n",
       " 0.4665063509 - 0.0334936491 i & - \\frac{1}{8} - \\frac{i}{8} & -0.5138735237 + 0.6932332575 i & -0.0517766953 - 0.0517766953 i  \\\\\n",
       " 0.4267766953 & 0.8856455291 & 0.1767766953 & -0.0473671727  \\\\\n",
       " \\end{bmatrix}\n",
       "$$"
      ],
      "text/plain": [
       "<IPython.core.display.Latex object>"
      ]
     },
     "metadata": {},
     "output_type": "display_data"
    },
    {
     "name": "stdout",
     "output_type": "stream",
     "text": [
      "Operatore circuito convenzione classica calcolato teoricamente\n"
     ]
    },
    {
     "data": {
      "text/latex": [
       "$$\n",
       "\n",
       "\\begin{bmatrix}\n",
       "-0.4191391782 - 0.6262459594 i & 0.3017766953 + 0.3017766953 i & -0.4665063509 + 0.0334936491 i & \\frac{1}{8} + \\frac{i}{8}  \\\\\n",
       " 0.1767766953 & -0.0473671727 & 0.0732233047 & 0.9803798746  \\\\\n",
       " 0.4665063509 - 0.0334936491 i & - \\frac{1}{8} - \\frac{i}{8} & -0.5138735237 + 0.6932332575 i & -0.0517766953 - 0.0517766953 i  \\\\\n",
       " 0.4267766953 & 0.8856455291 & 0.1767766953 & -0.0473671727  \\\\\n",
       " \\end{bmatrix}\n",
       "$$"
      ],
      "text/plain": [
       "<IPython.core.display.Latex object>"
      ]
     },
     "metadata": {},
     "output_type": "display_data"
    },
    {
     "name": "stdout",
     "output_type": "stream",
     "text": [
      "distanza = 2.1566457325428242e-16, distanza1 = 2.1566457325428242e-16\n",
      " t0 = 2.356194490192345, t01 = 0.7853981633974483,t2 = 0.7853981633974483,t3 = 2.356194490192345\n",
      "matrice densita output circuito convenzione classica\n"
     ]
    },
    {
     "data": {
      "text/latex": [
       "$$\n",
       "\n",
       "\\begin{bmatrix}\n",
       "0.2241116524 & 0.2758883476 + 0.3061862178 i  \\\\\n",
       " 0.2758883476 - 0.3061862178 i & 0.7758883476  \\\\\n",
       " \\end{bmatrix}\n",
       "$$"
      ],
      "text/plain": [
       "<IPython.core.display.Latex object>"
      ]
     },
     "metadata": {},
     "output_type": "display_data"
    },
    {
     "name": "stdout",
     "output_type": "stream",
     "text": [
      "matrice densita output circuito calcolato teoricamente\n"
     ]
    },
    {
     "data": {
      "text/latex": [
       "$$\n",
       "\n",
       "\\begin{bmatrix}\n",
       "0.2241116524 & 0.2758883476 + 0.3061862178 i  \\\\\n",
       " 0.2758883476 - 0.3061862178 i & 0.7758883476  \\\\\n",
       " \\end{bmatrix}\n",
       "$$"
      ],
      "text/plain": [
       "<IPython.core.display.Latex object>"
      ]
     },
     "metadata": {},
     "output_type": "display_data"
    },
    {
     "name": "stdout",
     "output_type": "stream",
     "text": [
      "distanza = 1.7333351416399796e-16, distanza1 = 1.7333351416399796e-16\n",
      "Operatori per t0 = 2.356194490192345, t01 = 1.5707963267948966,t2 = 1.5707963267948966,t3 = 2.356194490192345\n",
      "Operatore circuito convenzione classica\n"
     ]
    },
    {
     "data": {
      "text/latex": [
       "$$\n",
       "\n",
       "\\begin{bmatrix}\n",
       "- 0.8856455291 i & 0.4267766953 i & 0.0473671727 i & 0.1767766953 i  \\\\\n",
       " 0.1767766953 & -0.0473671727 & 0.0732233047 & 0.9803798746  \\\\\n",
       " - 0.0473671727 i & - 0.1767766953 i & 0.9803798746 i & - 0.0732233047 i  \\\\\n",
       " 0.4267766953 & 0.8856455291 & 0.1767766953 & -0.0473671727  \\\\\n",
       " \\end{bmatrix}\n",
       "$$"
      ],
      "text/plain": [
       "<IPython.core.display.Latex object>"
      ]
     },
     "metadata": {},
     "output_type": "display_data"
    },
    {
     "name": "stdout",
     "output_type": "stream",
     "text": [
      "Operatore circuito convenzione classica calcolato teoricamente\n"
     ]
    },
    {
     "data": {
      "text/latex": [
       "$$\n",
       "\n",
       "\\begin{bmatrix}\n",
       "- 0.8856455291 i & 0.4267766953 i & 0.0473671727 i & 0.1767766953 i  \\\\\n",
       " 0.1767766953 & -0.0473671727 & 0.0732233047 & 0.9803798746  \\\\\n",
       " - 0.0473671727 i & - 0.1767766953 i & 0.9803798746 i & - 0.0732233047 i  \\\\\n",
       " 0.4267766953 & 0.8856455291 & 0.1767766953 & -0.0473671727  \\\\\n",
       " \\end{bmatrix}\n",
       "$$"
      ],
      "text/plain": [
       "<IPython.core.display.Latex object>"
      ]
     },
     "metadata": {},
     "output_type": "display_data"
    },
    {
     "name": "stdout",
     "output_type": "stream",
     "text": [
      "distanza = 1.7333351416399796e-16, distanza1 = 1.7333351416399796e-16\n",
      " t0 = 2.356194490192345, t01 = 1.5707963267948966,t2 = 1.5707963267948966,t3 = 2.356194490192345\n",
      "matrice densita output circuito convenzione classica\n"
     ]
    },
    {
     "data": {
      "text/latex": [
       "$$\n",
       "\n",
       "\\begin{bmatrix}\n",
       "0.0076053014 & 0.0593819967  \\\\\n",
       " 0.0593819967 & 0.9923946986  \\\\\n",
       " \\end{bmatrix}\n",
       "$$"
      ],
      "text/plain": [
       "<IPython.core.display.Latex object>"
      ]
     },
     "metadata": {},
     "output_type": "display_data"
    },
    {
     "name": "stdout",
     "output_type": "stream",
     "text": [
      "matrice densita output circuito calcolato teoricamente\n"
     ]
    },
    {
     "data": {
      "text/latex": [
       "$$\n",
       "\n",
       "\\begin{bmatrix}\n",
       "0.0076053014 & 0.0593819967  \\\\\n",
       " 0.0593819967 & 0.9923946986  \\\\\n",
       " \\end{bmatrix}\n",
       "$$"
      ],
      "text/plain": [
       "<IPython.core.display.Latex object>"
      ]
     },
     "metadata": {},
     "output_type": "display_data"
    },
    {
     "name": "stdout",
     "output_type": "stream",
     "text": [
      "distanza = 1.8760695545122184e-16, distanza1 = 1.8760695545122184e-16\n",
      "Operatori per t0 = 2.356194490192345, t01 = 2.356194490192345,t2 = 2.356194490192345,t3 = 2.356194490192345\n",
      "Operatore circuito convenzione classica\n"
     ]
    },
    {
     "data": {
      "text/latex": [
       "$$\n",
       "\n",
       "\\begin{bmatrix}\n",
       "0.4191391782 - 0.6262459594 i & -0.3017766953 + 0.3017766953 i & 0.4665063509 + 0.0334936491 i & - \\frac{1}{8} + \\frac{i}{8}  \\\\\n",
       " 0.1767766953 & -0.0473671727 & 0.0732233047 & 0.9803798746  \\\\\n",
       " -0.4665063509 - 0.0334936491 i & \\frac{1}{8} - \\frac{i}{8} & 0.5138735237 + 0.6932332575 i & 0.0517766953 - 0.0517766953 i  \\\\\n",
       " 0.4267766953 & 0.8856455291 & 0.1767766953 & -0.0473671727  \\\\\n",
       " \\end{bmatrix}\n",
       "$$"
      ],
      "text/plain": [
       "<IPython.core.display.Latex object>"
      ]
     },
     "metadata": {},
     "output_type": "display_data"
    },
    {
     "name": "stdout",
     "output_type": "stream",
     "text": [
      "Operatore circuito convenzione classica calcolato teoricamente\n"
     ]
    },
    {
     "data": {
      "text/latex": [
       "$$\n",
       "\n",
       "\\begin{bmatrix}\n",
       "0.4191391782 - 0.6262459594 i & -0.3017766953 + 0.3017766953 i & 0.4665063509 + 0.0334936491 i & - \\frac{1}{8} + \\frac{i}{8}  \\\\\n",
       " 0.1767766953 & -0.0473671727 & 0.0732233047 & 0.9803798746  \\\\\n",
       " -0.4665063509 - 0.0334936491 i & \\frac{1}{8} - \\frac{i}{8} & 0.5138735237 + 0.6932332575 i & 0.0517766953 - 0.0517766953 i  \\\\\n",
       " 0.4267766953 & 0.8856455291 & 0.1767766953 & -0.0473671727  \\\\\n",
       " \\end{bmatrix}\n",
       "$$"
      ],
      "text/plain": [
       "<IPython.core.display.Latex object>"
      ]
     },
     "metadata": {},
     "output_type": "display_data"
    },
    {
     "name": "stdout",
     "output_type": "stream",
     "text": [
      "distanza = 1.8760695545122184e-16, distanza1 = 1.8760695545122184e-16\n",
      " t0 = 2.356194490192345, t01 = 2.356194490192345,t2 = 2.356194490192345,t3 = 2.356194490192345\n",
      "matrice densita output circuito convenzione classica\n"
     ]
    },
    {
     "data": {
      "text/latex": [
       "$$\n",
       "\n",
       "\\begin{bmatrix}\n",
       "0.2241116524 & 0.2758883476 - 0.3061862178 i  \\\\\n",
       " 0.2758883476 + 0.3061862178 i & 0.7758883476  \\\\\n",
       " \\end{bmatrix}\n",
       "$$"
      ],
      "text/plain": [
       "<IPython.core.display.Latex object>"
      ]
     },
     "metadata": {},
     "output_type": "display_data"
    },
    {
     "name": "stdout",
     "output_type": "stream",
     "text": [
      "matrice densita output circuito calcolato teoricamente\n"
     ]
    },
    {
     "data": {
      "text/latex": [
       "$$\n",
       "\n",
       "\\begin{bmatrix}\n",
       "0.2241116524 & 0.2758883476 - 0.3061862178 i  \\\\\n",
       " 0.2758883476 + 0.3061862178 i & 0.7758883476  \\\\\n",
       " \\end{bmatrix}\n",
       "$$"
      ],
      "text/plain": [
       "<IPython.core.display.Latex object>"
      ]
     },
     "metadata": {},
     "output_type": "display_data"
    },
    {
     "name": "stdout",
     "output_type": "stream",
     "text": [
      "distanza = 1.2177709378935645e-16, distanza1 = 1.2177709378935645e-16\n",
      "Operatori per t0 = 2.356194490192345, t01 = 3.141592653589793,t2 = 3.141592653589793,t3 = 2.356194490192345\n",
      "Operatore circuito convenzione classica\n"
     ]
    },
    {
     "data": {
      "text/latex": [
       "$$\n",
       "\n",
       "\\begin{bmatrix}\n",
       "0.5927523103 & -0.4267766953 & 0.6597396084 & -0.1767766953  \\\\\n",
       " 0.1767766953 & -0.0473671727 & 0.0732233047 & 0.9803798746  \\\\\n",
       " -0.6597396084 & 0.1767766953 & 0.7267269065 & 0.0732233047  \\\\\n",
       " 0.4267766953 & 0.8856455291 & 0.1767766953 & -0.0473671727  \\\\\n",
       " \\end{bmatrix}\n",
       "$$"
      ],
      "text/plain": [
       "<IPython.core.display.Latex object>"
      ]
     },
     "metadata": {},
     "output_type": "display_data"
    },
    {
     "name": "stdout",
     "output_type": "stream",
     "text": [
      "Operatore circuito convenzione classica calcolato teoricamente\n"
     ]
    },
    {
     "data": {
      "text/latex": [
       "$$\n",
       "\n",
       "\\begin{bmatrix}\n",
       "0.5927523103 & -0.4267766953 & 0.6597396084 & -0.1767766953  \\\\\n",
       " 0.1767766953 & -0.0473671727 & 0.0732233047 & 0.9803798746  \\\\\n",
       " -0.6597396084 & 0.1767766953 & 0.7267269065 & 0.0732233047  \\\\\n",
       " 0.4267766953 & 0.8856455291 & 0.1767766953 & -0.0473671727  \\\\\n",
       " \\end{bmatrix}\n",
       "$$"
      ],
      "text/plain": [
       "<IPython.core.display.Latex object>"
      ]
     },
     "metadata": {},
     "output_type": "display_data"
    },
    {
     "name": "stdout",
     "output_type": "stream",
     "text": [
      "distanza = 1.2177709378935645e-16, distanza1 = 1.2177709378935645e-16\n",
      " t0 = 2.356194490192345, t01 = 3.141592653589793,t2 = 3.141592653589793,t3 = 2.356194490192345\n",
      "matrice densita output circuito convenzione classica\n"
     ]
    },
    {
     "data": {
      "text/latex": [
       "$$\n",
       "\n",
       "\\begin{bmatrix}\n",
       "0.4406180033 & 0.4923946986  \\\\\n",
       " 0.4923946986 & 0.5593819967  \\\\\n",
       " \\end{bmatrix}\n",
       "$$"
      ],
      "text/plain": [
       "<IPython.core.display.Latex object>"
      ]
     },
     "metadata": {},
     "output_type": "display_data"
    },
    {
     "name": "stdout",
     "output_type": "stream",
     "text": [
      "matrice densita output circuito calcolato teoricamente\n"
     ]
    },
    {
     "data": {
      "text/latex": [
       "$$\n",
       "\n",
       "\\begin{bmatrix}\n",
       "0.4406180033 & 0.4923946986  \\\\\n",
       " 0.4923946986 & 0.5593819967  \\\\\n",
       " \\end{bmatrix}\n",
       "$$"
      ],
      "text/plain": [
       "<IPython.core.display.Latex object>"
      ]
     },
     "metadata": {},
     "output_type": "display_data"
    },
    {
     "name": "stdout",
     "output_type": "stream",
     "text": [
      "distanza = 3.0814879110195774e-33, distanza1 = 3.0814879110195774e-33\n",
      "Operatori per t0 = 3.141592653589793, t01 = 0.0,t2 = 0.0,t3 = 3.141592653589793\n",
      "Operatore circuito convenzione classica\n"
     ]
    },
    {
     "data": {
      "text/latex": [
       "$$\n",
       "\n",
       "\\begin{bmatrix}\n",
       "- \\frac{\\sqrt{3}}{2} & \\frac{1}{2} & 0 & 0  \\\\\n",
       " 0 & 0 & 0 & 1  \\\\\n",
       " 0 & 0 & -1 & 0  \\\\\n",
       " \\frac{1}{2} & \\frac{\\sqrt{3}}{2} & 0 & 0  \\\\\n",
       " \\end{bmatrix}\n",
       "$$"
      ],
      "text/plain": [
       "<IPython.core.display.Latex object>"
      ]
     },
     "metadata": {},
     "output_type": "display_data"
    },
    {
     "name": "stdout",
     "output_type": "stream",
     "text": [
      "Operatore circuito convenzione classica calcolato teoricamente\n"
     ]
    },
    {
     "data": {
      "text/latex": [
       "$$\n",
       "\n",
       "\\begin{bmatrix}\n",
       "- \\frac{\\sqrt{3}}{2} & \\frac{1}{2} & 0 & 0  \\\\\n",
       " 0 & 0 & 0 & 1  \\\\\n",
       " 0 & 0 & -1 & 0  \\\\\n",
       " \\frac{1}{2} & \\frac{\\sqrt{3}}{2} & 0 & 0  \\\\\n",
       " \\end{bmatrix}\n",
       "$$"
      ],
      "text/plain": [
       "<IPython.core.display.Latex object>"
      ]
     },
     "metadata": {},
     "output_type": "display_data"
    },
    {
     "name": "stdout",
     "output_type": "stream",
     "text": [
      "distanza = 3.0814879110195774e-33, distanza1 = 3.0814879110195774e-33\n",
      " t0 = 3.141592653589793, t01 = 0.0,t2 = 0.0,t3 = 3.141592653589793\n",
      "matrice densita output circuito convenzione classica\n"
     ]
    },
    {
     "data": {
      "text/latex": [
       "$$\n",
       "\n",
       "\\begin{bmatrix}\n",
       "0 & 0  \\\\\n",
       " 0 & 1  \\\\\n",
       " \\end{bmatrix}\n",
       "$$"
      ],
      "text/plain": [
       "<IPython.core.display.Latex object>"
      ]
     },
     "metadata": {},
     "output_type": "display_data"
    },
    {
     "name": "stdout",
     "output_type": "stream",
     "text": [
      "matrice densita output circuito calcolato teoricamente\n"
     ]
    },
    {
     "data": {
      "text/latex": [
       "$$\n",
       "\n",
       "\\begin{bmatrix}\n",
       "0 & 0  \\\\\n",
       " 0 & 1  \\\\\n",
       " \\end{bmatrix}\n",
       "$$"
      ],
      "text/plain": [
       "<IPython.core.display.Latex object>"
      ]
     },
     "metadata": {},
     "output_type": "display_data"
    },
    {
     "name": "stdout",
     "output_type": "stream",
     "text": [
      "distanza = 2.470000460860417e-32, distanza1 = 2.470000460860417e-32\n",
      "Operatori per t0 = 3.141592653589793, t01 = 0.7853981633974483,t2 = 0.7853981633974483,t3 = 3.141592653589793\n",
      "Operatore circuito convenzione classica\n"
     ]
    },
    {
     "data": {
      "text/latex": [
       "$$\n",
       "\n",
       "\\begin{bmatrix}\n",
       "- \\frac{\\sqrt{6}}{4} - \\frac{\\sqrt{6} i}{4} & \\frac{\\sqrt{2}}{4} + \\frac{\\sqrt{2} i}{4} & 0 & 0  \\\\\n",
       " 0 & 0 & 0 & 1  \\\\\n",
       " 0 & 0 & - \\frac{\\sqrt{2}}{2} + \\frac{\\sqrt{2} i}{2} & 0  \\\\\n",
       " \\frac{1}{2} & \\frac{\\sqrt{3}}{2} & 0 & 0  \\\\\n",
       " \\end{bmatrix}\n",
       "$$"
      ],
      "text/plain": [
       "<IPython.core.display.Latex object>"
      ]
     },
     "metadata": {},
     "output_type": "display_data"
    },
    {
     "name": "stdout",
     "output_type": "stream",
     "text": [
      "Operatore circuito convenzione classica calcolato teoricamente\n"
     ]
    },
    {
     "data": {
      "text/latex": [
       "$$\n",
       "\n",
       "\\begin{bmatrix}\n",
       "- \\frac{\\sqrt{6}}{4} - \\frac{\\sqrt{6} i}{4} & \\frac{\\sqrt{2}}{4} + \\frac{\\sqrt{2} i}{4} & 0 & 0  \\\\\n",
       " 0 & 0 & 0 & 1  \\\\\n",
       " 0 & 0 & - \\frac{\\sqrt{2}}{2} + \\frac{\\sqrt{2} i}{2} & 0  \\\\\n",
       " \\frac{1}{2} & \\frac{\\sqrt{3}}{2} & 0 & 0  \\\\\n",
       " \\end{bmatrix}\n",
       "$$"
      ],
      "text/plain": [
       "<IPython.core.display.Latex object>"
      ]
     },
     "metadata": {},
     "output_type": "display_data"
    },
    {
     "name": "stdout",
     "output_type": "stream",
     "text": [
      "distanza = 2.470000460860417e-32, distanza1 = 2.470000460860417e-32\n",
      " t0 = 3.141592653589793, t01 = 0.7853981633974483,t2 = 0.7853981633974483,t3 = 3.141592653589793\n",
      "matrice densita output circuito convenzione classica\n"
     ]
    },
    {
     "data": {
      "text/latex": [
       "$$\n",
       "\n",
       "\\begin{bmatrix}\n",
       "0 & 0  \\\\\n",
       " 0 & 1  \\\\\n",
       " \\end{bmatrix}\n",
       "$$"
      ],
      "text/plain": [
       "<IPython.core.display.Latex object>"
      ]
     },
     "metadata": {},
     "output_type": "display_data"
    },
    {
     "name": "stdout",
     "output_type": "stream",
     "text": [
      "matrice densita output circuito calcolato teoricamente\n"
     ]
    },
    {
     "data": {
      "text/latex": [
       "$$\n",
       "\n",
       "\\begin{bmatrix}\n",
       "0 & 0  \\\\\n",
       " 0 & 1  \\\\\n",
       " \\end{bmatrix}\n",
       "$$"
      ],
      "text/plain": [
       "<IPython.core.display.Latex object>"
      ]
     },
     "metadata": {},
     "output_type": "display_data"
    },
    {
     "name": "stdout",
     "output_type": "stream",
     "text": [
      "distanza = 4.8722601905480684e-33, distanza1 = 4.8722601905480684e-33\n",
      "Operatori per t0 = 3.141592653589793, t01 = 1.5707963267948966,t2 = 1.5707963267948966,t3 = 3.141592653589793\n",
      "Operatore circuito convenzione classica\n"
     ]
    },
    {
     "data": {
      "text/latex": [
       "$$\n",
       "\n",
       "\\begin{bmatrix}\n",
       "- \\frac{\\sqrt{3} i}{2} & \\frac{i}{2} & 0 & 0  \\\\\n",
       " 0 & 0 & 0 & 1  \\\\\n",
       " 0 & 0 & i & 0  \\\\\n",
       " \\frac{1}{2} & \\frac{\\sqrt{3}}{2} & 0 & 0  \\\\\n",
       " \\end{bmatrix}\n",
       "$$"
      ],
      "text/plain": [
       "<IPython.core.display.Latex object>"
      ]
     },
     "metadata": {},
     "output_type": "display_data"
    },
    {
     "name": "stdout",
     "output_type": "stream",
     "text": [
      "Operatore circuito convenzione classica calcolato teoricamente\n"
     ]
    },
    {
     "data": {
      "text/latex": [
       "$$\n",
       "\n",
       "\\begin{bmatrix}\n",
       "- \\frac{\\sqrt{3} i}{2} & \\frac{i}{2} & 0 & 0  \\\\\n",
       " 0 & 0 & 0 & 1  \\\\\n",
       " 0 & 0 & i & 0  \\\\\n",
       " \\frac{1}{2} & \\frac{\\sqrt{3}}{2} & 0 & 0  \\\\\n",
       " \\end{bmatrix}\n",
       "$$"
      ],
      "text/plain": [
       "<IPython.core.display.Latex object>"
      ]
     },
     "metadata": {},
     "output_type": "display_data"
    },
    {
     "name": "stdout",
     "output_type": "stream",
     "text": [
      "distanza = 4.8722601905480684e-33, distanza1 = 4.8722601905480684e-33\n",
      " t0 = 3.141592653589793, t01 = 1.5707963267948966,t2 = 1.5707963267948966,t3 = 3.141592653589793\n",
      "matrice densita output circuito convenzione classica\n"
     ]
    },
    {
     "data": {
      "text/latex": [
       "$$\n",
       "\n",
       "\\begin{bmatrix}\n",
       "0 & 0  \\\\\n",
       " 0 & 1  \\\\\n",
       " \\end{bmatrix}\n",
       "$$"
      ],
      "text/plain": [
       "<IPython.core.display.Latex object>"
      ]
     },
     "metadata": {},
     "output_type": "display_data"
    },
    {
     "name": "stdout",
     "output_type": "stream",
     "text": [
      "matrice densita output circuito calcolato teoricamente\n"
     ]
    },
    {
     "data": {
      "text/latex": [
       "$$\n",
       "\n",
       "\\begin{bmatrix}\n",
       "0 & 0  \\\\\n",
       " 0 & 1  \\\\\n",
       " \\end{bmatrix}\n",
       "$$"
      ],
      "text/plain": [
       "<IPython.core.display.Latex object>"
      ]
     },
     "metadata": {},
     "output_type": "display_data"
    },
    {
     "name": "stdout",
     "output_type": "stream",
     "text": [
      "distanza = 1.1102230246251565e-16, distanza1 = 1.1102230246251565e-16\n",
      "Operatori per t0 = 3.141592653589793, t01 = 2.356194490192345,t2 = 2.356194490192345,t3 = 3.141592653589793\n",
      "Operatore circuito convenzione classica\n"
     ]
    },
    {
     "data": {
      "text/latex": [
       "$$\n",
       "\n",
       "\\begin{bmatrix}\n",
       "\\frac{\\sqrt{6}}{4} - \\frac{\\sqrt{6} i}{4} & - \\frac{\\sqrt{2}}{4} + \\frac{\\sqrt{2} i}{4} & 0 & 0  \\\\\n",
       " 0 & 0 & 0 & 1  \\\\\n",
       " 0 & 0 & \\frac{\\sqrt{2}}{2} + \\frac{\\sqrt{2} i}{2} & 0  \\\\\n",
       " \\frac{1}{2} & \\frac{\\sqrt{3}}{2} & 0 & 0  \\\\\n",
       " \\end{bmatrix}\n",
       "$$"
      ],
      "text/plain": [
       "<IPython.core.display.Latex object>"
      ]
     },
     "metadata": {},
     "output_type": "display_data"
    },
    {
     "name": "stdout",
     "output_type": "stream",
     "text": [
      "Operatore circuito convenzione classica calcolato teoricamente\n"
     ]
    },
    {
     "data": {
      "text/latex": [
       "$$\n",
       "\n",
       "\\begin{bmatrix}\n",
       "\\frac{\\sqrt{6}}{4} - \\frac{\\sqrt{6} i}{4} & - \\frac{\\sqrt{2}}{4} + \\frac{\\sqrt{2} i}{4} & 0 & 0  \\\\\n",
       " 0 & 0 & 0 & 1  \\\\\n",
       " 0 & 0 & \\frac{\\sqrt{2}}{2} + \\frac{\\sqrt{2} i}{2} & 0  \\\\\n",
       " \\frac{1}{2} & \\frac{\\sqrt{3}}{2} & 0 & 0  \\\\\n",
       " \\end{bmatrix}\n",
       "$$"
      ],
      "text/plain": [
       "<IPython.core.display.Latex object>"
      ]
     },
     "metadata": {},
     "output_type": "display_data"
    },
    {
     "name": "stdout",
     "output_type": "stream",
     "text": [
      "distanza = 1.1102230246251565e-16, distanza1 = 1.1102230246251565e-16\n",
      " t0 = 3.141592653589793, t01 = 2.356194490192345,t2 = 2.356194490192345,t3 = 3.141592653589793\n",
      "matrice densita output circuito convenzione classica\n"
     ]
    },
    {
     "data": {
      "text/latex": [
       "$$\n",
       "\n",
       "\\begin{bmatrix}\n",
       "0 & 0  \\\\\n",
       " 0 & 1  \\\\\n",
       " \\end{bmatrix}\n",
       "$$"
      ],
      "text/plain": [
       "<IPython.core.display.Latex object>"
      ]
     },
     "metadata": {},
     "output_type": "display_data"
    },
    {
     "name": "stdout",
     "output_type": "stream",
     "text": [
      "matrice densita output circuito calcolato teoricamente\n"
     ]
    },
    {
     "data": {
      "text/latex": [
       "$$\n",
       "\n",
       "\\begin{bmatrix}\n",
       "0 & 0  \\\\\n",
       " 0 & 1  \\\\\n",
       " \\end{bmatrix}\n",
       "$$"
      ],
      "text/plain": [
       "<IPython.core.display.Latex object>"
      ]
     },
     "metadata": {},
     "output_type": "display_data"
    },
    {
     "name": "stdout",
     "output_type": "stream",
     "text": [
      "distanza = 3.0814879110195774e-33, distanza1 = 3.0814879110195774e-33\n",
      "Operatori per t0 = 3.141592653589793, t01 = 3.141592653589793,t2 = 3.141592653589793,t3 = 3.141592653589793\n",
      "Operatore circuito convenzione classica\n"
     ]
    },
    {
     "data": {
      "text/latex": [
       "$$\n",
       "\n",
       "\\begin{bmatrix}\n",
       "\\frac{\\sqrt{3}}{2} & - \\frac{1}{2} & 0 & 0  \\\\\n",
       " 0 & 0 & 0 & 1  \\\\\n",
       " 0 & 0 & 1 & 0  \\\\\n",
       " \\frac{1}{2} & \\frac{\\sqrt{3}}{2} & 0 & 0  \\\\\n",
       " \\end{bmatrix}\n",
       "$$"
      ],
      "text/plain": [
       "<IPython.core.display.Latex object>"
      ]
     },
     "metadata": {},
     "output_type": "display_data"
    },
    {
     "name": "stdout",
     "output_type": "stream",
     "text": [
      "Operatore circuito convenzione classica calcolato teoricamente\n"
     ]
    },
    {
     "data": {
      "text/latex": [
       "$$\n",
       "\n",
       "\\begin{bmatrix}\n",
       "\\frac{\\sqrt{3}}{2} & - \\frac{1}{2} & 0 & 0  \\\\\n",
       " 0 & 0 & 0 & 1  \\\\\n",
       " 0 & 0 & 1 & 0  \\\\\n",
       " \\frac{1}{2} & \\frac{\\sqrt{3}}{2} & 0 & 0  \\\\\n",
       " \\end{bmatrix}\n",
       "$$"
      ],
      "text/plain": [
       "<IPython.core.display.Latex object>"
      ]
     },
     "metadata": {},
     "output_type": "display_data"
    },
    {
     "name": "stdout",
     "output_type": "stream",
     "text": [
      "distanza = 3.0814879110195774e-33, distanza1 = 3.0814879110195774e-33\n",
      " t0 = 3.141592653589793, t01 = 3.141592653589793,t2 = 3.141592653589793,t3 = 3.141592653589793\n",
      "matrice densita output circuito convenzione classica\n"
     ]
    },
    {
     "data": {
      "text/latex": [
       "$$\n",
       "\n",
       "\\begin{bmatrix}\n",
       "0 & 0  \\\\\n",
       " 0 & 1  \\\\\n",
       " \\end{bmatrix}\n",
       "$$"
      ],
      "text/plain": [
       "<IPython.core.display.Latex object>"
      ]
     },
     "metadata": {},
     "output_type": "display_data"
    },
    {
     "name": "stdout",
     "output_type": "stream",
     "text": [
      "matrice densita output circuito calcolato teoricamente\n"
     ]
    },
    {
     "data": {
      "text/latex": [
       "$$\n",
       "\n",
       "\\begin{bmatrix}\n",
       "0 & 0  \\\\\n",
       " 0 & 1  \\\\\n",
       " \\end{bmatrix}\n",
       "$$"
      ],
      "text/plain": [
       "<IPython.core.display.Latex object>"
      ]
     },
     "metadata": {},
     "output_type": "display_data"
    }
   ],
   "source": [
    "alpha_p = Parameter(\"alpha\")\n",
    "thetas_p = ParameterVector(\"theta\", 4)\n",
    "noise_p = Parameter(\"noise\")\n",
    "\n",
    "alpha_c = 1\n",
    "noise_c = theta_to_noise(np.pi/3) # usare il valore noise nell'intervallo[0,1]\n",
    "rho_in = initial_mixed_state_real_density_matrix(alpha_c)\n",
    "\n",
    "qcA = QuantumCircuit(3, name=\"initial state\")\n",
    "qc0 = QuantumCircuit(2, name=\"test_classical\")\n",
    "qc1 = QuantumCircuit(2, name=\"test_qiskit\")\n",
    "qcA.append(getAncillaParametrized(alpha_p), [0,2])\n",
    "qc0.append(build_parametrized_eradc( thetas=thetas_p, noise=noise_p), [0,1])\n",
    "qc1.append(build_parametrized_eradc_qi( thetas=thetas_p, noise=noise_p), [0,1])\n",
    "\n",
    "display(qc1.draw(\"mpl\"))\n",
    "\n",
    "qcA_bound = qcA.assign_parameters({alpha_p : alpha_c})\n",
    "qc0_partial_bound=qc0.assign_parameters({noise_p: noise_c})\n",
    "qc1_partial_bound=qc1.assign_parameters({noise_p: noise_c})\n",
    "\n",
    "values = [(i * np.pi*0.25)% (2*np.pi) for i in range(5)]\n",
    "theta_3_c,theta_2_c,theta_1_c,theta_0_c = [values.copy() for _ in range(4)]\n",
    "\n",
    "# Definizione operatori\n",
    "identity = np.array([[1,0],[0,1]])\n",
    "kraus_op_adc_0 = np.array([[1, 0],[0,np.sqrt(1-noise_c)]])\n",
    "kraus_op_adc_1 = np.array([[0, np.sqrt(noise_c)],[0,0]])\n",
    "CRy = DensityMatrix(CRYGate(noise_to_theta(noise_c)).to_matrix()).reverse_qargs().data\n",
    "CNotRev = CXGate().to_matrix()\n",
    "# CNot = DensityMatrix(CNotRev).reverse_qargs().data\n",
    "# CRyRev = DensityMatrix(CRy).reverse_qargs().data\n",
    "Epsilon_AD_class = CNotRev @ CRy\n",
    "# Epsilon_AD_qi = CNot @ CRyRev\n",
    "\n",
    "for t0 in theta_0_c:\n",
    "    for t1 in theta_1_c:\n",
    "        for t2 in theta_2_c:\n",
    "            for t3 in theta_3_c:\n",
    "\n",
    "                param_values={\n",
    "                    thetas_p[0]: t0,\n",
    "                    thetas_p[1]: t1,\n",
    "                    thetas_p[2]: t2,\n",
    "                    thetas_p[3]: t3,\n",
    "                }\n",
    "                \n",
    "                Ry_0 = RYGate(t0).to_matrix()\n",
    "                Rz_0 = RZGate(t1).to_matrix()\n",
    "                Rz_1 = RZGate(t2).to_matrix()\n",
    "                Ry_1 = RYGate(t3).to_matrix()\n",
    "                En = Rz_0 @ Ry_0\n",
    "                De = Ry_1 @ Rz_1\n",
    "                qc0_bound = qc0_partial_bound.assign_parameters(param_values)\n",
    "                qc1_bound = qc1_partial_bound.assign_parameters(param_values)\n",
    "\n",
    "                # Operatori per la rappresentazione dell'operatore del sistema-ambiente del circuito\n",
    "                En_total_qi = np.kron(identity,En)\n",
    "                De_total_qi = np.kron(identity,De)\n",
    "                De_total_class = np.kron(De,identity)\n",
    "                En_total_class = np.kron(En,identity)\n",
    "                operatoreCircuito_class = De_total_class @ Epsilon_AD_class @ En_total_class\n",
    "                operatoreCircuito_qi = DensityMatrix(operatoreCircuito_class).reverse_qargs().data\n",
    "                # verifico la coincidenza dell'operatore che rappresenta il sistema \n",
    "                # Calcola la distanza di Frobenius tra le due matrici\n",
    "                operatoreQc0 = Operator.from_circuit(qc0_bound).to_matrix()\n",
    "                operatoreQc1 = Operator.from_circuit(qc1_bound).to_matrix()\n",
    "                distance = np.linalg.norm(operatoreCircuito_class - operatoreQc0, ord='fro')\n",
    "                distance1 = np.linalg.norm(operatoreCircuito_qi - operatoreQc1, ord='fro')\n",
    "\n",
    "                if not((DensityMatrix(operatoreQc0).to_operator().equiv(DensityMatrix(operatoreCircuito_class).to_operator()))\n",
    "                and (DensityMatrix(operatoreQc1).to_operator().equiv(DensityMatrix(operatoreCircuito_qi).to_operator()))):\n",
    "                    print(f\"Operatori diversi per t0 = {t0}, t01 = {t1},t2 = {t2},t3 = {t3}\")\n",
    "                    print(\"Operatore circuito convenzione classica\")\n",
    "                    display(DensityMatrix(operatoreQc0).draw(\"latex\"))\n",
    "                    print(\"Operatore circuito convenzione classica calcolato teoricamente\")\n",
    "                    display(DensityMatrix(operatoreCircuito_class).draw(\"latex\"))\n",
    "                    print(\"Operatore circuito convenzione qiskit\")\n",
    "                    display(DensityMatrix(operatoreQc1).draw(\"latex\"))\n",
    "                    print(\"Operatore circuito convenzione qiskit calcolato teoricamente\")\n",
    "                    display(DensityMatrix(operatoreCircuito_qi).draw(\"latex\"))\n",
    "                    print(f\"Distanza dei due operatori teorico e conv. clas.: {distance:.6f}, teorico e conv. qiskit: {distance1:.6f}\")\n",
    "                    raise(\"matrici diverse tra loro\")\n",
    "                else:\n",
    "                    if(t0 == t3) and (t1 == t2) and (t0 == t3):\n",
    "                        print(f\"distanza = {distance}, distanza1 = {distance1}\")\n",
    "                        print(f\"Operatori per t0 = {t0}, t01 = {t1},t2 = {t2},t3 = {t3}\")\n",
    "                        print(\"Operatore circuito convenzione classica\")\n",
    "                        display(DensityMatrix(operatoreQc0).draw(\"latex\"))\n",
    "                        # print(\"matrice densita circuito convenzione qiskit\")\n",
    "                        # display(rho_out_cir_q.draw(\"latex\"))\n",
    "                        print(\"Operatore circuito convenzione classica calcolato teoricamente\")\n",
    "                        display(DensityMatrix(operatoreCircuito_class).draw(\"latex\"))\n",
    "\n",
    "\n",
    "                # Operatori per la rappresentazione dell'azione del circuito sul qubit dello stato iniziale\n",
    "                kraus_op_0 = De @ kraus_op_adc_0 @ En\n",
    "                kraus_op_0_dag = Operator(kraus_op_0).adjoint().data\n",
    "                kraus_op_1 = De @ kraus_op_adc_1 @ En\n",
    "                kraus_op_1_dag = Operator(kraus_op_1).adjoint().data\n",
    "                # operatori densità dello stato in uscita\n",
    "                rho_out_teorical = DensityMatrix(kraus_op_0 @ partial_trace(rho_in,[0]).data @ kraus_op_0_dag + kraus_op_1 @ partial_trace(rho_in,[0]).data @ kraus_op_1_dag)\n",
    "                qc0_bound_initial = qcA_bound.compose(qc0_bound,[1,2])\n",
    "                qc1_bound_initial = qcA_bound.compose(qc1_bound,[0,1])\n",
    "                rho_out_cir = partial_trace(DensityMatrix.from_label(\"000\").evolve(qc0_bound_initial), [0,1])\n",
    "                rho_out_cir_q = partial_trace(DensityMatrix.from_label(\"000\").evolve(qc1_bound_initial), [1,2])\n",
    "                \n",
    "                if not((rho_out_cir.to_operator().equiv(rho_out_teorical.to_operator())) and (rho_out_cir_q.to_operator().equiv(rho_out_teorical.to_operator()))):\n",
    "                    print(f\"Rho diversi per t0 = {t0}, t01 = {t1},t2 = {t2},t3 = {t3}\")\n",
    "                    print(\"matrice densita circuito output convenzione classica\")\n",
    "                    display(rho_out_cir.draw(\"latex\"))\n",
    "                    print(\"matrice densita circuito output convenzione qiskit\")\n",
    "                    display(rho_out_cir_q.draw(\"latex\"))\n",
    "                    print(\"matrice densita circuito output calcolato teoricamente\")\n",
    "                    display(rho_out_teorical.draw(\"latex\"))\n",
    "                    print(f\"Distanza dei due stati teorico e conv. clas.: {distance:.6f}, teorico e conv. qiskit: {distance1:.6f}\")\n",
    "                    raise(\"matrici diverse tra loro\")\n",
    "                else:\n",
    "                    if(t0 == t3) and (t1 == t2) and (t0 == t3):\n",
    "                        print(f\"distanza = {distance}, distanza1 = {distance1}\")\n",
    "                        print(f\" t0 = {t0}, t01 = {t1},t2 = {t2},t3 = {t3}\")\n",
    "                        print(\"matrice densita output circuito convenzione classica\")\n",
    "                        display(rho_out_cir.draw(\"latex\"))\n",
    "                        # print(\"matrice densita circuito convenzione qiskit\")\n",
    "                        # display(rho_out_cir_q.draw(\"latex\"))\n",
    "                        print(\"matrice densita output circuito calcolato teoricamente\")\n",
    "                        display(rho_out_teorical.draw(\"latex\"))\n",
    "                        \n",
    "\n",
    "\n",
    "\n"
   ]
  },
  {
   "cell_type": "markdown",
   "id": "9508afcd",
   "metadata": {},
   "source": [
    "# Fase 3: Calcolo Error-Rate con convenzione Qiskit"
   ]
  },
  {
   "cell_type": "markdown",
   "id": "fbcb0b70",
   "metadata": {},
   "source": [
    "## Funzioni ausiliari"
   ]
  },
  {
   "cell_type": "code",
   "execution_count": null,
   "id": "f5eb30eb",
   "metadata": {},
   "outputs": [],
   "source": [
    "def normalize_counts(counts):\n",
    "    \"\"\"\n",
    "    Aggiunge le chiavi '0' e '1' con valore 0 se mancanti.\n",
    "    \"\"\"\n",
    "    return {key: counts.get(key, 0) for key in ['0', '1']}\n",
    "\n",
    "def cost_function(counts):\n",
    "    \"\"\"\n",
    "    Calcola la stima della probabilità di errore media degli esiti di misura utilizzando il metodo della massima verosimiglianza.\n",
    "\n",
    "    Parametri:\n",
    "    -----------\n",
    "    counts : list of dict\n",
    "        Lista di dizionari. Ogni dizionario rappresenta i conteggi di misura\n",
    "        per una diversa classe (o esperimento), con chiavi '0' e '1' che indicano\n",
    "        il numero di volte in cui ciascun risultato è stato ottenuto.\n",
    "\n",
    "        Esempio:\n",
    "            counts = [\n",
    "                {'0': 900, '1': 100},   # Esperimento A\n",
    "                {'0': 200, '1': 800}    # Esperimento B\n",
    "            ]\n",
    "\n",
    "    Ritorna:\n",
    "    --------\n",
    "    float\n",
    "        Valore della funzione costo\n",
    "    \"\"\"\n",
    "    # Normalizza ogni dizionario in counts\n",
    "    counts = [normalize_counts(c) for c in counts]\n",
    "    # Calcola il numero totale di misure effettuate per ciascun set di parametri \n",
    "    # (compone un dizionario) di cui è stato eseguito il run di conteggi (somma di '0' e '1'),\n",
    "    # quindi restituisce una lista fatta in questo modo [numero_totale_di_run_per_il set_1, ...]\n",
    "    totals = [counts[i]['0']+counts[i]['1'] for i in range(len(counts))]\n",
    "    # somma tutti gli elementi della lista\n",
    "    all_totals = (lambda lst: sum(lst))(totals)\n",
    "\n",
    "    # Calcola la frequenza di misure che hanno dato resito '0' per ciascuna run di un set di parametri\n",
    "    # quindi restituisce una lista fatta in questo modo [numero_di_esiti_'0'_per_il_set_1/numero_totale_di_esiti_del_set_1, ...]\n",
    "    f_of_0_counts_norm = [counts[i]['0']/all_totals for i in range(len(counts))]\n",
    "\n",
    "    # Calcola la frequenza di misure che hanno dato resito '1' per ciascuna run di un set di parametri\n",
    "    # quindi restituisce una lista fatta in questo modo [numero_di_esiti_'1'_per_il_set_1/numero_totale_di_esiti_del_set_1, ...]\n",
    "    f_of_1_counts_norm = [counts[i]['1']/all_totals for i in range(len(counts))]\n",
    "    \n",
    "    # Ritorna il risultato della stima della probabilità di errore media utilizzando il metodo della\n",
    "    # massima verosimiglianza\n",
    "    return 1-(np.max(f_of_0_counts_norm)+np.max(f_of_1_counts_norm)) \n",
    "\n",
    "def merge_dict(dicts):\n",
    "    \"\"\"\n",
    "    Unisce una lista di dizionari in un singolo dizionario, in cui i valori associati\n",
    "    a ciascuna chiave sono raccolti in una lista ordinata.\n",
    "\n",
    "    Parametri:\n",
    "    -----------\n",
    "    dicts : list of dict\n",
    "        Una lista di dizionari, tutti con lo stesso insieme di chiavi (o parzialmente sovrapposti).\n",
    "        Esempio:\n",
    "            [{'a': 1, 'b': 2}, {'a': 3, 'b': 4}, {'a': 5, 'b': 6}]\n",
    "\n",
    "    Ritorna:\n",
    "    --------\n",
    "    dict\n",
    "        Un dizionario in cui ogni chiave è associata a una lista di valori\n",
    "        raccolti nell'ordine dei dizionari originali.\n",
    "        Esempio output:\n",
    "            {'a': [1, 3, 5], 'b': [2, 4, 6]}\n",
    "    \"\"\"\n",
    "    from functools import reduce\n",
    "    # Applica una funzione cumulativa a tutti i dizionari della lista 'dicts'.\n",
    "    # La funzione parte da un dizionario vuoto ({}), e per ogni dizionario 'd' nella lista,\n",
    "    # aggiorna l'accumulatore 'acc' aggiungendo i valori di 'd' a liste esistenti per ciascuna chiave.\n",
    "    return reduce(lambda acc, d: {k: acc.get(k, []) + [d[k]] for k in d},dicts,{})"
   ]
  },
  {
   "cell_type": "markdown",
   "id": "6c3f6cde",
   "metadata": {},
   "source": [
    "## Funzione di simulazione"
   ]
  },
  {
   "cell_type": "code",
   "execution_count": null,
   "id": "951fc363",
   "metadata": {},
   "outputs": [],
   "source": [
    "def simulation(qc, params, method , backend,shots = 1000, _noise_model = None):\n",
    "    \"\"\"\n",
    "    Simula un circuito quantistico con un modello di rumore che può essere reale derivato da un backend specifico.\n",
    "\n",
    "    Parametri:\n",
    "    -----------\n",
    "    qc : QuantumCircuit\n",
    "        Il circuito quantistico da simulare.\n",
    "\n",
    "    params : dict\n",
    "        Dizionario dei parametri da assegnare al circuito (assumendo sia parametrico).\n",
    "\n",
    "    method : str\n",
    "        Metodo di simulazione da usare (es. 'density_matrix', 'statevector', 'automatic', ecc.).\n",
    "\n",
    "    backend : Backend\n",
    "        Backend fisico o simulato da cui estrarre il modello di rumore.\n",
    "\n",
    "    shots : int, opzionale\n",
    "        Numero di ripetizioni (misure) da eseguire. Default: 1000.\n",
    "\n",
    "    Ritorna:\n",
    "    --------\n",
    "    result : qiskit.result.Result\n",
    "        L'oggetto risultato della simulazione, da cui si possono estrarre conteggi, stati, ecc.\n",
    "    \"\"\"\n",
    "    from qiskit_aer.noise import NoiseModel # Importa il costruttore del modello di rumore da Qiskit Aer\n",
    "    \n",
    "    # Costruisce un modello di rumore realistico a partire dal backend fornito se il rumore non viene fornito\n",
    "    if(_noise_model == None):\n",
    "        _noise_model = NoiseModel(None)\n",
    "    \n",
    "    # Crea un simulatore Aer con il metodo specificato e il modello di rumore\n",
    "    sim = AerSimulator(method = method, noise_model = _noise_model)\n",
    "\n",
    "    # Transpila il circuito per adattarlo al backend (necessario per rispettare vincoli hardware e noise model)\n",
    "    qc_transpiled = transpile(qc, backend=backend)\n",
    "\n",
    "    # Mostra graficamente il circuito transpiled (per debug o visualizzazione)\n",
    "    display(qc_transpiled.draw(\"mpl\"))\n",
    "\n",
    "    # Esegue la simulazione sul circuito transpiled, con i parametri specificati e il numero di shot richiesto\n",
    "    job = sim.run(qc_transpiled, parameter_binds=params , shots=shots)\n",
    "\n",
    "    result = job.result()\n",
    "\n",
    "    # Restituisce il risultato (oggetto Result)\n",
    "    return result"
   ]
  },
  {
   "cell_type": "markdown",
   "id": "2c653a2b",
   "metadata": {},
   "source": [
    "## Funzione calcolo costo error-rate "
   ]
  },
  {
   "cell_type": "code",
   "execution_count": null,
   "id": "4673175b",
   "metadata": {},
   "outputs": [
    {
     "name": "stdout",
     "output_type": "stream",
     "text": [
      "[{'0': 100000}, {'0': 57753, '1': 42247}]\n",
      "0.28876499999999994\n"
     ]
    }
   ],
   "source": [
    "def error_rate_function(qc, param_values, shots, backend, method, noise_model = None):\n",
    "    \"\"\"\n",
    "    Esegue la simulazione di un circuito quantistico con più diversi insiemi di parametri,\n",
    "    utilizzando eventualmente un modello di rumore, e calcola una funzione costo che misura la\n",
    "    probabilità di errore media delle distribuzioni di misura ottenute con metodo della massima verosimigliaza.\n",
    "\n",
    "    Parametri\n",
    "    ---------\n",
    "    qc : QuantumCircuit\n",
    "        Il circuito quantistico parametrico da simulare.\n",
    "\n",
    "    param_values : list of dict\n",
    "        lista di insiemi di valori dei parametri (ad es. [set parametri A, set parametri B, ...]).\n",
    "\n",
    "    shots : int\n",
    "        Numero di misure (ripetizioni del circuito) da eseguire nella simulazione.\n",
    "\n",
    "    backend : AerSimulator\n",
    "        Il simulatore quantistico Aer su cui eseguire il circuito.\n",
    "\n",
    "    method : str\n",
    "        Metodo di simulazione da usare (es. 'statevector', 'density_matrix', 'automatic').\n",
    "\n",
    "    noise_model : NoiseModel, opzionale\n",
    "        Modello di rumore da usare nella simulazione. Se non definito allora viene utilizzato quello ideale.\n",
    "\n",
    "    Ritorna\n",
    "    -------\n",
    "    list\n",
    "        Una lista con due elementi:\n",
    "        - result: oggetto Result contenente i conteggi della simulazione\n",
    "        - cost: valore numerico della funzione costo\n",
    "    \"\"\"\n",
    "    # Unisce i due dizionari di parametri (A e B) in un unico dizionario in cui\n",
    "    # ogni chiave ha una lista di due valori: [valore_A, valore_B]\n",
    "    # Questo permette di simulare entrambi i casi (A e B) in una singola esecuzione batch.\n",
    "    params_A_B = merge_dict(param_values)\n",
    "    # Esegue la simulazione del circuito con i due set di parametri assegnati.\n",
    "    # Il parametro _noise_model è opzionale e può essere passato per includere decoerenza/rumore.\n",
    "    # Il parametro shots definisce quante volte viene ripetuta la misura per ciascun esperimento.\n",
    "    result = simulation(qc, [params_A_B], method, backend, shots = shots, _noise_model = noise_model)\n",
    "    \n",
    "    # Estrae i conteggi delle misure per ogni esperimento, che dovrebbero essere 2.\n",
    "    # Passa questi conteggi alla funzione costo, che valuta quanto sono statisticamente separabili.\n",
    "    return [result ,cost_function([result.get_counts()[i] for i in range(len(result.get_counts()))])]\n",
    "\n",
    "# esempio di utilizzo\n",
    "# definire oggetti parametri per istanziare gli oggetti Parameter e Parameter vector del circuito, oppure ottenerli con metodo parameters\n",
    "alpha = Parameter(\"alpha\")\n",
    "noise = Parameter(\"noise\")\n",
    "thetas = ParameterVector(\"thetas\", 4)\n",
    "# Crea il circuito parametrico, con iparametri definiti\n",
    "qc = circuitERADC_with_Ancilla_parametrized_qi(alpha,thetas,noise)\n",
    "# aggiungiere misure o ulteriori gate o operatori ai fini della simulazione\n",
    "qc.add_register(0,1)\n",
    "\n",
    "qc.measure(0,0)\n",
    "\n",
    "qc.draw(\"mpl\")\n",
    "\n",
    "# creare set di parametri per ogni run che saranno eseguiti utilizzando i parameter istanziati\n",
    "# fissare alcuni parametri e ottenere il nuovo circuito parzialmente parametrizzato\n",
    "qc_noise_set = qc.assign_parameters({noise : theta_to_noise(1)})\n",
    "\n",
    "param_values_A = {\n",
    "    alpha : 0,\n",
    "    thetas[0]: 0,\n",
    "    thetas[1]: 0,\n",
    "    thetas[2]: 0,\n",
    "    thetas[3]: 0,\n",
    "    \n",
    "}\n",
    "param_values_B = {\n",
    "    alpha : 0.7,\n",
    "    thetas[0]: np.pi/2,\n",
    "    thetas[1]: np.pi/3,\n",
    "    thetas[2]: np.pi/4,\n",
    "    thetas[3]: np.pi/6,\n",
    "}\n",
    "\n",
    "# scegliere il metodo di sul quale eseguire AerSimulator\n",
    "method = \"automatic\"\n",
    "\n",
    "# scegliere il backend che puo essere FakeBackend, Ideal Backend (come in questo caso)\n",
    "backend = AerSimulator()\n",
    "# Esegue la funzione error_rate_function:\n",
    "# - qc_noise_set è il circuito con il parametro 'noise' già assegnato\n",
    "# - parametri A e B verranno assegnati come due esperimenti batch\n",
    "# - shots = 10000 significa che ogni esperimento sarà misurato 10.000 volte\n",
    "result = error_rate_function(qc = qc_noise_set, param_values=[param_values_A, param_values_B], method= method ,backend=backend, shots = 100000 )\n",
    "# ottile l'oggetto result, e anche il costo calcolato per questo set parametri\n",
    "print(result[0].get_counts())\n",
    "print(result[1])"
   ]
  }
 ],
 "metadata": {
  "kernelspec": {
   "display_name": "cwq",
   "language": "python",
   "name": "python3"
  },
  "language_info": {
   "codemirror_mode": {
    "name": "ipython",
    "version": 3
   },
   "file_extension": ".py",
   "mimetype": "text/x-python",
   "name": "python",
   "nbconvert_exporter": "python",
   "pygments_lexer": "ipython3",
   "version": "3.13.5"
  }
 },
 "nbformat": 4,
 "nbformat_minor": 5
}
